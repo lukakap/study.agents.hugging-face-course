{
 "cells": [
  {
   "cell_type": "code",
   "execution_count": null,
   "metadata": {},
   "outputs": [],
   "source": [
    "%pip install ipywidgets"
   ]
  },
  {
   "cell_type": "code",
   "execution_count": 1,
   "metadata": {},
   "outputs": [
    {
     "data": {
      "application/vnd.jupyter.widget-view+json": {
       "model_id": "ad352be5f3784179a2304c2c6a9c6598",
       "version_major": 2,
       "version_minor": 0
      },
      "text/plain": [
       "VBox(children=(HTML(value='<center> <img\\nsrc=https://huggingface.co/front/assets/huggingface_logo-noborder.sv…"
      ]
     },
     "metadata": {},
     "output_type": "display_data"
    }
   ],
   "source": [
    "from huggingface_hub import login\n",
    "\n",
    "login()"
   ]
  },
  {
   "cell_type": "code",
   "execution_count": 2,
   "metadata": {},
   "outputs": [
    {
     "data": {
      "text/html": [
       "<pre style=\"white-space:pre;overflow-x:auto;line-height:normal;font-family:Menlo,'DejaVu Sans Mono',consolas,'Courier New',monospace\"><span style=\"color: #d4b702; text-decoration-color: #d4b702\">╭──────────────────────────────────────────────────── </span><span style=\"color: #d4b702; text-decoration-color: #d4b702; font-weight: bold\">New run</span><span style=\"color: #d4b702; text-decoration-color: #d4b702\"> ────────────────────────────────────────────────────╮</span>\n",
       "<span style=\"color: #d4b702; text-decoration-color: #d4b702\">│</span>                                                                                                                 <span style=\"color: #d4b702; text-decoration-color: #d4b702\">│</span>\n",
       "<span style=\"color: #d4b702; text-decoration-color: #d4b702\">│</span> <span style=\"font-weight: bold\">Search for the best music recommendations for a party at the Wayne's mansion.</span>                                   <span style=\"color: #d4b702; text-decoration-color: #d4b702\">│</span>\n",
       "<span style=\"color: #d4b702; text-decoration-color: #d4b702\">│</span>                                                                                                                 <span style=\"color: #d4b702; text-decoration-color: #d4b702\">│</span>\n",
       "<span style=\"color: #d4b702; text-decoration-color: #d4b702\">╰─ HfApiModel - Qwen/Qwen2.5-Coder-32B-Instruct ──────────────────────────────────────────────────────────────────╯</span>\n",
       "</pre>\n"
      ],
      "text/plain": [
       "\u001b[38;2;212;183;2m╭─\u001b[0m\u001b[38;2;212;183;2m───────────────────────────────────────────────────\u001b[0m\u001b[38;2;212;183;2m \u001b[0m\u001b[1;38;2;212;183;2mNew run\u001b[0m\u001b[38;2;212;183;2m \u001b[0m\u001b[38;2;212;183;2m───────────────────────────────────────────────────\u001b[0m\u001b[38;2;212;183;2m─╮\u001b[0m\n",
       "\u001b[38;2;212;183;2m│\u001b[0m                                                                                                                 \u001b[38;2;212;183;2m│\u001b[0m\n",
       "\u001b[38;2;212;183;2m│\u001b[0m \u001b[1mSearch for the best music recommendations for a party at the Wayne's mansion.\u001b[0m                                   \u001b[38;2;212;183;2m│\u001b[0m\n",
       "\u001b[38;2;212;183;2m│\u001b[0m                                                                                                                 \u001b[38;2;212;183;2m│\u001b[0m\n",
       "\u001b[38;2;212;183;2m╰─\u001b[0m\u001b[38;2;212;183;2m HfApiModel - Qwen/Qwen2.5-Coder-32B-Instruct \u001b[0m\u001b[38;2;212;183;2m─────────────────────────────────────────────────────────────────\u001b[0m\u001b[38;2;212;183;2m─╯\u001b[0m\n"
      ]
     },
     "metadata": {},
     "output_type": "display_data"
    },
    {
     "data": {
      "text/html": [
       "<pre style=\"white-space:pre;overflow-x:auto;line-height:normal;font-family:Menlo,'DejaVu Sans Mono',consolas,'Courier New',monospace\"><span style=\"color: #d4b702; text-decoration-color: #d4b702\">━━━━━━━━━━━━━━━━━━━━━━━━━━━━━━━━━━━━━━━━━━━━━━━━━━━━━ </span><span style=\"font-weight: bold\">Step </span><span style=\"color: #008080; text-decoration-color: #008080; font-weight: bold\">1</span><span style=\"color: #d4b702; text-decoration-color: #d4b702\"> ━━━━━━━━━━━━━━━━━━━━━━━━━━━━━━━━━━━━━━━━━━━━━━━━━━━━━━</span>\n",
       "</pre>\n"
      ],
      "text/plain": [
       "\u001b[38;2;212;183;2m━━━━━━━━━━━━━━━━━━━━━━━━━━━━━━━━━━━━━━━━━━━━━━━━━━━━━ \u001b[0m\u001b[1mStep \u001b[0m\u001b[1;36m1\u001b[0m\u001b[38;2;212;183;2m ━━━━━━━━━━━━━━━━━━━━━━━━━━━━━━━━━━━━━━━━━━━━━━━━━━━━━━\u001b[0m\n"
      ]
     },
     "metadata": {},
     "output_type": "display_data"
    },
    {
     "data": {
      "text/html": [
       "<pre style=\"white-space:pre;overflow-x:auto;line-height:normal;font-family:Menlo,'DejaVu Sans Mono',consolas,'Courier New',monospace\"> ─ <span style=\"font-weight: bold\">Executing parsed code:</span> ──────────────────────────────────────────────────────────────────────────────────────── \n",
       "  <span style=\"color: #f8f8f2; text-decoration-color: #f8f8f2; background-color: #272822\">search_results </span><span style=\"color: #ff4689; text-decoration-color: #ff4689; background-color: #272822\">=</span><span style=\"color: #f8f8f2; text-decoration-color: #f8f8f2; background-color: #272822\"> web_search(query</span><span style=\"color: #ff4689; text-decoration-color: #ff4689; background-color: #272822\">=</span><span style=\"color: #e6db74; text-decoration-color: #e6db74; background-color: #272822\">\"best music for Wayne's mansion party\"</span><span style=\"color: #f8f8f2; text-decoration-color: #f8f8f2; background-color: #272822\">)</span><span style=\"background-color: #272822\">                                      </span>  \n",
       "  <span style=\"color: #f8f8f2; text-decoration-color: #f8f8f2; background-color: #272822\">print(search_results)</span><span style=\"background-color: #272822\">                                                                                          </span>  \n",
       " ───────────────────────────────────────────────────────────────────────────────────────────────────────────────── \n",
       "</pre>\n"
      ],
      "text/plain": [
       " ─ \u001b[1mExecuting parsed code:\u001b[0m ──────────────────────────────────────────────────────────────────────────────────────── \n",
       "  \u001b[38;2;248;248;242;48;2;39;40;34msearch_results\u001b[0m\u001b[38;2;248;248;242;48;2;39;40;34m \u001b[0m\u001b[38;2;255;70;137;48;2;39;40;34m=\u001b[0m\u001b[38;2;248;248;242;48;2;39;40;34m \u001b[0m\u001b[38;2;248;248;242;48;2;39;40;34mweb_search\u001b[0m\u001b[38;2;248;248;242;48;2;39;40;34m(\u001b[0m\u001b[38;2;248;248;242;48;2;39;40;34mquery\u001b[0m\u001b[38;2;255;70;137;48;2;39;40;34m=\u001b[0m\u001b[38;2;230;219;116;48;2;39;40;34m\"\u001b[0m\u001b[38;2;230;219;116;48;2;39;40;34mbest music for Wayne\u001b[0m\u001b[38;2;230;219;116;48;2;39;40;34m'\u001b[0m\u001b[38;2;230;219;116;48;2;39;40;34ms mansion party\u001b[0m\u001b[38;2;230;219;116;48;2;39;40;34m\"\u001b[0m\u001b[38;2;248;248;242;48;2;39;40;34m)\u001b[0m\u001b[48;2;39;40;34m                                      \u001b[0m  \n",
       "  \u001b[38;2;248;248;242;48;2;39;40;34mprint\u001b[0m\u001b[38;2;248;248;242;48;2;39;40;34m(\u001b[0m\u001b[38;2;248;248;242;48;2;39;40;34msearch_results\u001b[0m\u001b[38;2;248;248;242;48;2;39;40;34m)\u001b[0m\u001b[48;2;39;40;34m                                                                                          \u001b[0m  \n",
       " ───────────────────────────────────────────────────────────────────────────────────────────────────────────────── \n"
      ]
     },
     "metadata": {},
     "output_type": "display_data"
    },
    {
     "data": {
      "text/html": [
       "<pre style=\"white-space:pre;overflow-x:auto;line-height:normal;font-family:Menlo,'DejaVu Sans Mono',consolas,'Courier New',monospace\"><span style=\"font-weight: bold\">Execution logs:</span>\n",
       "## Search Results\n",
       "\n",
       "[The 75 Best Party Songs That Will Get Everyone Dancing - \n",
       "Gear4music](https://www.gear4music.com/blog/best-party-songs/)\n",
       "The best party songs 1. \"September\" - Earth, Wind &amp; Fire (1978) Quite possibly the best party song. An infectious \n",
       "mix of funk and soul, \"September\" is celebrated for its upbeat melody and \"ba-dee-ya\" chorus, making it a timeless \n",
       "dance favorite.\n",
       "\n",
       "[you're studying at night in bruce wayne's mansion - YouTube](https://www.youtube.com/watch?v=i4vjSoUH8bE)\n",
       "you're studying at night in bruce wayne's mansion... hopefully alfred's making you coffee soonlike and subscribe \n",
       "for weekly dark academia study music uploads...\n",
       "\n",
       "[50 Songs on Every Event Planner's Playlist - \n",
       "Eventbrite](https://www.eventbrite.com/blog/event-planning-playlist-ds00/)\n",
       "Music sets the mood and provides the soundtrack (literally) for a memorable and exciting time. While the right \n",
       "songs can enhance the experience, the wrong event music can throw off the vibe. For example, fast-paced songs \n",
       "probably aren't the best fit for a formal gala. And smooth jazz is likely to lull your guests at a motivational \n",
       "conference.\n",
       "\n",
       "[Party music mix ~ Best songs that make you dance - YouTube](https://www.youtube.com/watch?v=W5Utkb85QCg)\n",
       "Party music mix ~ Best songs that make you dance#ACvibes #partysongs #dancesongs💞 Donate to A.C Vibes: \n",
       "https://bit.ly/acvibes0210 https://www.buymeacoffe...\n",
       "\n",
       "[Mansion House Party | Distant Music | Crowd &amp; Rain Ambience](https://www.youtube.com/watch?v=qCjxQOKfL_E)\n",
       "Relax in the other room watching the rain as the party continues in the background.Recommendations for videos are \n",
       "warmly welcomed in the comments!For more co...\n",
       "\n",
       "[Dance-party playlist: 100 greatest songs for an epic party - Time \n",
       "Out](https://www.timeout.com/music/dance-party-playlist-100-greatest-songs-for-an-epic-party)\n",
       "Dance-party playlist: 100 greatest songs for an epic party House party, BBQ, wedding party or just a bedroom disco,\n",
       "we have the party playlist you need to get the place moving. Tuesday 16 July 2013\n",
       "\n",
       "[Party on, Wayne! - playlist by Music League | Spotify](https://open.spotify.com/playlist/4J61XoHr2CINqRA1DV0ga7)\n",
       "Party on, Wayne! · Playlist · 17 songs · 4 likes\n",
       "\n",
       "[Best Songs for a Party - Deezer The Backstage](https://thebackstage-deezer.com/tops/best-song-party/)\n",
       "The best party songs to get people dancing at the end of the night always keep them on their toes. Genre-specific \n",
       "party songs Every party calls for a different atmosphere, and music plays an important part in creating it. Here \n",
       "are two of the most popular decades for unforgettable tunes.\n",
       "\n",
       "[200 Classic House Party Songs Everyone Knows | The Best ... - \n",
       "iSpyTunes](https://www.ispytunes.com/post/house-party-songs)\n",
       "\" Branded merchandise adds flair to any occasion, just like the perfect playlist. 200 classic house party songs \n",
       "everyone knows set the mood, bringing energy to every celebration. The best popular party hits keep guests dancing,\n",
       "creating unforgettable moments. From throwback anthems to modern beats, a great selection ensures nonstop fun.\n",
       "\n",
       "[Tracklist for Chief Keef's \"Mansion Musick\" - \n",
       "Reddit](https://www.reddit.com/r/hiphopheads/comments/2niw6u/tracklist_for_chief_keefs_mansion_musick/)\n",
       "So that means we should be getting Mansion Musick, Thot Breaker, Blood Thicker Than Water with Fredo, that tape \n",
       "with Tadoe, and hopefully Bang 3 also. It'd also be cool to see Keef work with Lucki Eck$ since he joined Glo a \n",
       "little bit ago. I personally like Keef's producing so I'm happy he did a couple songs on this.\n",
       "\n",
       "Out: None\n",
       "</pre>\n"
      ],
      "text/plain": [
       "\u001b[1mExecution logs:\u001b[0m\n",
       "## Search Results\n",
       "\n",
       "[The 75 Best Party Songs That Will Get Everyone Dancing - \n",
       "Gear4music](https://www.gear4music.com/blog/best-party-songs/)\n",
       "The best party songs 1. \"September\" - Earth, Wind & Fire (1978) Quite possibly the best party song. An infectious \n",
       "mix of funk and soul, \"September\" is celebrated for its upbeat melody and \"ba-dee-ya\" chorus, making it a timeless \n",
       "dance favorite.\n",
       "\n",
       "[you're studying at night in bruce wayne's mansion - YouTube](https://www.youtube.com/watch?v=i4vjSoUH8bE)\n",
       "you're studying at night in bruce wayne's mansion... hopefully alfred's making you coffee soonlike and subscribe \n",
       "for weekly dark academia study music uploads...\n",
       "\n",
       "[50 Songs on Every Event Planner's Playlist - \n",
       "Eventbrite](https://www.eventbrite.com/blog/event-planning-playlist-ds00/)\n",
       "Music sets the mood and provides the soundtrack (literally) for a memorable and exciting time. While the right \n",
       "songs can enhance the experience, the wrong event music can throw off the vibe. For example, fast-paced songs \n",
       "probably aren't the best fit for a formal gala. And smooth jazz is likely to lull your guests at a motivational \n",
       "conference.\n",
       "\n",
       "[Party music mix ~ Best songs that make you dance - YouTube](https://www.youtube.com/watch?v=W5Utkb85QCg)\n",
       "Party music mix ~ Best songs that make you dance#ACvibes #partysongs #dancesongs💞 Donate to A.C Vibes: \n",
       "https://bit.ly/acvibes0210 https://www.buymeacoffe...\n",
       "\n",
       "[Mansion House Party | Distant Music | Crowd & Rain Ambience](https://www.youtube.com/watch?v=qCjxQOKfL_E)\n",
       "Relax in the other room watching the rain as the party continues in the background.Recommendations for videos are \n",
       "warmly welcomed in the comments!For more co...\n",
       "\n",
       "[Dance-party playlist: 100 greatest songs for an epic party - Time \n",
       "Out](https://www.timeout.com/music/dance-party-playlist-100-greatest-songs-for-an-epic-party)\n",
       "Dance-party playlist: 100 greatest songs for an epic party House party, BBQ, wedding party or just a bedroom disco,\n",
       "we have the party playlist you need to get the place moving. Tuesday 16 July 2013\n",
       "\n",
       "[Party on, Wayne! - playlist by Music League | Spotify](https://open.spotify.com/playlist/4J61XoHr2CINqRA1DV0ga7)\n",
       "Party on, Wayne! · Playlist · 17 songs · 4 likes\n",
       "\n",
       "[Best Songs for a Party - Deezer The Backstage](https://thebackstage-deezer.com/tops/best-song-party/)\n",
       "The best party songs to get people dancing at the end of the night always keep them on their toes. Genre-specific \n",
       "party songs Every party calls for a different atmosphere, and music plays an important part in creating it. Here \n",
       "are two of the most popular decades for unforgettable tunes.\n",
       "\n",
       "[200 Classic House Party Songs Everyone Knows | The Best ... - \n",
       "iSpyTunes](https://www.ispytunes.com/post/house-party-songs)\n",
       "\" Branded merchandise adds flair to any occasion, just like the perfect playlist. 200 classic house party songs \n",
       "everyone knows set the mood, bringing energy to every celebration. The best popular party hits keep guests dancing,\n",
       "creating unforgettable moments. From throwback anthems to modern beats, a great selection ensures nonstop fun.\n",
       "\n",
       "[Tracklist for Chief Keef's \"Mansion Musick\" - \n",
       "Reddit](https://www.reddit.com/r/hiphopheads/comments/2niw6u/tracklist_for_chief_keefs_mansion_musick/)\n",
       "So that means we should be getting Mansion Musick, Thot Breaker, Blood Thicker Than Water with Fredo, that tape \n",
       "with Tadoe, and hopefully Bang 3 also. It'd also be cool to see Keef work with Lucki Eck$ since he joined Glo a \n",
       "little bit ago. I personally like Keef's producing so I'm happy he did a couple songs on this.\n",
       "\n",
       "Out: None\n"
      ]
     },
     "metadata": {},
     "output_type": "display_data"
    },
    {
     "data": {
      "text/html": [
       "<pre style=\"white-space:pre;overflow-x:auto;line-height:normal;font-family:Menlo,'DejaVu Sans Mono',consolas,'Courier New',monospace\"><span style=\"color: #7f7f7f; text-decoration-color: #7f7f7f\">[Step 0: Duration 6.37 seconds| Input tokens: 2,085 | Output tokens: 90]</span>\n",
       "</pre>\n"
      ],
      "text/plain": [
       "\u001b[2m[Step 0: Duration 6.37 seconds| Input tokens: 2,085 | Output tokens: 90]\u001b[0m\n"
      ]
     },
     "metadata": {},
     "output_type": "display_data"
    },
    {
     "data": {
      "text/html": [
       "<pre style=\"white-space:pre;overflow-x:auto;line-height:normal;font-family:Menlo,'DejaVu Sans Mono',consolas,'Courier New',monospace\"><span style=\"color: #d4b702; text-decoration-color: #d4b702\">━━━━━━━━━━━━━━━━━━━━━━━━━━━━━━━━━━━━━━━━━━━━━━━━━━━━━ </span><span style=\"font-weight: bold\">Step </span><span style=\"color: #008080; text-decoration-color: #008080; font-weight: bold\">2</span><span style=\"color: #d4b702; text-decoration-color: #d4b702\"> ━━━━━━━━━━━━━━━━━━━━━━━━━━━━━━━━━━━━━━━━━━━━━━━━━━━━━━</span>\n",
       "</pre>\n"
      ],
      "text/plain": [
       "\u001b[38;2;212;183;2m━━━━━━━━━━━━━━━━━━━━━━━━━━━━━━━━━━━━━━━━━━━━━━━━━━━━━ \u001b[0m\u001b[1mStep \u001b[0m\u001b[1;36m2\u001b[0m\u001b[38;2;212;183;2m ━━━━━━━━━━━━━━━━━━━━━━━━━━━━━━━━━━━━━━━━━━━━━━━━━━━━━━\u001b[0m\n"
      ]
     },
     "metadata": {},
     "output_type": "display_data"
    },
    {
     "data": {
      "text/html": [
       "<pre style=\"white-space:pre;overflow-x:auto;line-height:normal;font-family:Menlo,'DejaVu Sans Mono',consolas,'Courier New',monospace\"> ─ <span style=\"font-weight: bold\">Executing parsed code:</span> ──────────────────────────────────────────────────────────────────────────────────────── \n",
       "  <span style=\"color: #66d9ef; text-decoration-color: #66d9ef; background-color: #272822\">for</span><span style=\"color: #f8f8f2; text-decoration-color: #f8f8f2; background-color: #272822\"> url </span><span style=\"color: #ff4689; text-decoration-color: #ff4689; background-color: #272822\">in</span><span style=\"color: #f8f8f2; text-decoration-color: #f8f8f2; background-color: #272822\"> [</span><span style=\"background-color: #272822\">                                                                                                   </span>  \n",
       "  <span style=\"color: #f8f8f2; text-decoration-color: #f8f8f2; background-color: #272822\">    </span><span style=\"color: #e6db74; text-decoration-color: #e6db74; background-color: #272822\">\"https://www.gear4music.com/blog/best-party-songs/\"</span><span style=\"color: #f8f8f2; text-decoration-color: #f8f8f2; background-color: #272822\">,</span><span style=\"background-color: #272822\">                                                       </span>  \n",
       "  <span style=\"color: #f8f8f2; text-decoration-color: #f8f8f2; background-color: #272822\">    </span><span style=\"color: #e6db74; text-decoration-color: #e6db74; background-color: #272822\">\"https://www.timeout.com/music/dance-party-playlist-100-greatest-songs-for-an-epic-party\"</span><span style=\"color: #f8f8f2; text-decoration-color: #f8f8f2; background-color: #272822\">,</span><span style=\"background-color: #272822\">                 </span>  \n",
       "  <span style=\"color: #f8f8f2; text-decoration-color: #f8f8f2; background-color: #272822\">    </span><span style=\"color: #e6db74; text-decoration-color: #e6db74; background-color: #272822\">\"https://open.spotify.com/playlist/4J61XoHr2CINqRA1DV0ga7\"</span><span style=\"background-color: #272822\">                                                 </span>  \n",
       "  <span style=\"color: #f8f8f2; text-decoration-color: #f8f8f2; background-color: #272822\">]:</span><span style=\"background-color: #272822\">                                                                                                             </span>  \n",
       "  <span style=\"color: #f8f8f2; text-decoration-color: #f8f8f2; background-color: #272822\">    whole_page </span><span style=\"color: #ff4689; text-decoration-color: #ff4689; background-color: #272822\">=</span><span style=\"color: #f8f8f2; text-decoration-color: #f8f8f2; background-color: #272822\"> web_search(query</span><span style=\"color: #ff4689; text-decoration-color: #ff4689; background-color: #272822\">=</span><span style=\"color: #f8f8f2; text-decoration-color: #f8f8f2; background-color: #272822\">url)</span><span style=\"background-color: #272822\">                                                                         </span>  \n",
       "  <span style=\"color: #f8f8f2; text-decoration-color: #f8f8f2; background-color: #272822\">    print(</span><span style=\"color: #e6db74; text-decoration-color: #e6db74; background-color: #272822\">f\"Results from {</span><span style=\"color: #f8f8f2; text-decoration-color: #f8f8f2; background-color: #272822\">url</span><span style=\"color: #e6db74; text-decoration-color: #e6db74; background-color: #272822\">}:</span><span style=\"color: #ae81ff; text-decoration-color: #ae81ff; background-color: #272822\">\\n</span><span style=\"color: #e6db74; text-decoration-color: #e6db74; background-color: #272822\">{</span><span style=\"color: #f8f8f2; text-decoration-color: #f8f8f2; background-color: #272822\">whole_page</span><span style=\"color: #e6db74; text-decoration-color: #e6db74; background-color: #272822\">}</span><span style=\"color: #ae81ff; text-decoration-color: #ae81ff; background-color: #272822\">\\n\\n</span><span style=\"color: #e6db74; text-decoration-color: #e6db74; background-color: #272822\">\"</span><span style=\"color: #f8f8f2; text-decoration-color: #f8f8f2; background-color: #272822\"> </span><span style=\"color: #ff4689; text-decoration-color: #ff4689; background-color: #272822\">+</span><span style=\"color: #f8f8f2; text-decoration-color: #f8f8f2; background-color: #272822\"> </span><span style=\"color: #e6db74; text-decoration-color: #e6db74; background-color: #272822\">\"=\"</span><span style=\"color: #ff4689; text-decoration-color: #ff4689; background-color: #272822\">*</span><span style=\"color: #ae81ff; text-decoration-color: #ae81ff; background-color: #272822\">80</span><span style=\"color: #f8f8f2; text-decoration-color: #f8f8f2; background-color: #272822\"> </span><span style=\"color: #ff4689; text-decoration-color: #ff4689; background-color: #272822\">+</span><span style=\"color: #f8f8f2; text-decoration-color: #f8f8f2; background-color: #272822\"> </span><span style=\"color: #e6db74; text-decoration-color: #e6db74; background-color: #272822\">\"</span><span style=\"color: #ae81ff; text-decoration-color: #ae81ff; background-color: #272822\">\\n</span><span style=\"color: #e6db74; text-decoration-color: #e6db74; background-color: #272822\">\"</span><span style=\"color: #f8f8f2; text-decoration-color: #f8f8f2; background-color: #272822\">)</span><span style=\"background-color: #272822\">                                            </span>  \n",
       " ───────────────────────────────────────────────────────────────────────────────────────────────────────────────── \n",
       "</pre>\n"
      ],
      "text/plain": [
       " ─ \u001b[1mExecuting parsed code:\u001b[0m ──────────────────────────────────────────────────────────────────────────────────────── \n",
       "  \u001b[38;2;102;217;239;48;2;39;40;34mfor\u001b[0m\u001b[38;2;248;248;242;48;2;39;40;34m \u001b[0m\u001b[38;2;248;248;242;48;2;39;40;34murl\u001b[0m\u001b[38;2;248;248;242;48;2;39;40;34m \u001b[0m\u001b[38;2;255;70;137;48;2;39;40;34min\u001b[0m\u001b[38;2;248;248;242;48;2;39;40;34m \u001b[0m\u001b[38;2;248;248;242;48;2;39;40;34m[\u001b[0m\u001b[48;2;39;40;34m                                                                                                   \u001b[0m  \n",
       "  \u001b[38;2;248;248;242;48;2;39;40;34m    \u001b[0m\u001b[38;2;230;219;116;48;2;39;40;34m\"\u001b[0m\u001b[38;2;230;219;116;48;2;39;40;34mhttps://www.gear4music.com/blog/best-party-songs/\u001b[0m\u001b[38;2;230;219;116;48;2;39;40;34m\"\u001b[0m\u001b[38;2;248;248;242;48;2;39;40;34m,\u001b[0m\u001b[48;2;39;40;34m                                                       \u001b[0m  \n",
       "  \u001b[38;2;248;248;242;48;2;39;40;34m    \u001b[0m\u001b[38;2;230;219;116;48;2;39;40;34m\"\u001b[0m\u001b[38;2;230;219;116;48;2;39;40;34mhttps://www.timeout.com/music/dance-party-playlist-100-greatest-songs-for-an-epic-party\u001b[0m\u001b[38;2;230;219;116;48;2;39;40;34m\"\u001b[0m\u001b[38;2;248;248;242;48;2;39;40;34m,\u001b[0m\u001b[48;2;39;40;34m                 \u001b[0m  \n",
       "  \u001b[38;2;248;248;242;48;2;39;40;34m    \u001b[0m\u001b[38;2;230;219;116;48;2;39;40;34m\"\u001b[0m\u001b[38;2;230;219;116;48;2;39;40;34mhttps://open.spotify.com/playlist/4J61XoHr2CINqRA1DV0ga7\u001b[0m\u001b[38;2;230;219;116;48;2;39;40;34m\"\u001b[0m\u001b[48;2;39;40;34m                                                 \u001b[0m  \n",
       "  \u001b[38;2;248;248;242;48;2;39;40;34m]\u001b[0m\u001b[38;2;248;248;242;48;2;39;40;34m:\u001b[0m\u001b[48;2;39;40;34m                                                                                                             \u001b[0m  \n",
       "  \u001b[38;2;248;248;242;48;2;39;40;34m    \u001b[0m\u001b[38;2;248;248;242;48;2;39;40;34mwhole_page\u001b[0m\u001b[38;2;248;248;242;48;2;39;40;34m \u001b[0m\u001b[38;2;255;70;137;48;2;39;40;34m=\u001b[0m\u001b[38;2;248;248;242;48;2;39;40;34m \u001b[0m\u001b[38;2;248;248;242;48;2;39;40;34mweb_search\u001b[0m\u001b[38;2;248;248;242;48;2;39;40;34m(\u001b[0m\u001b[38;2;248;248;242;48;2;39;40;34mquery\u001b[0m\u001b[38;2;255;70;137;48;2;39;40;34m=\u001b[0m\u001b[38;2;248;248;242;48;2;39;40;34murl\u001b[0m\u001b[38;2;248;248;242;48;2;39;40;34m)\u001b[0m\u001b[48;2;39;40;34m                                                                         \u001b[0m  \n",
       "  \u001b[38;2;248;248;242;48;2;39;40;34m    \u001b[0m\u001b[38;2;248;248;242;48;2;39;40;34mprint\u001b[0m\u001b[38;2;248;248;242;48;2;39;40;34m(\u001b[0m\u001b[38;2;230;219;116;48;2;39;40;34mf\u001b[0m\u001b[38;2;230;219;116;48;2;39;40;34m\"\u001b[0m\u001b[38;2;230;219;116;48;2;39;40;34mResults from \u001b[0m\u001b[38;2;230;219;116;48;2;39;40;34m{\u001b[0m\u001b[38;2;248;248;242;48;2;39;40;34murl\u001b[0m\u001b[38;2;230;219;116;48;2;39;40;34m}\u001b[0m\u001b[38;2;230;219;116;48;2;39;40;34m:\u001b[0m\u001b[38;2;174;129;255;48;2;39;40;34m\\n\u001b[0m\u001b[38;2;230;219;116;48;2;39;40;34m{\u001b[0m\u001b[38;2;248;248;242;48;2;39;40;34mwhole_page\u001b[0m\u001b[38;2;230;219;116;48;2;39;40;34m}\u001b[0m\u001b[38;2;174;129;255;48;2;39;40;34m\\n\u001b[0m\u001b[38;2;174;129;255;48;2;39;40;34m\\n\u001b[0m\u001b[38;2;230;219;116;48;2;39;40;34m\"\u001b[0m\u001b[38;2;248;248;242;48;2;39;40;34m \u001b[0m\u001b[38;2;255;70;137;48;2;39;40;34m+\u001b[0m\u001b[38;2;248;248;242;48;2;39;40;34m \u001b[0m\u001b[38;2;230;219;116;48;2;39;40;34m\"\u001b[0m\u001b[38;2;230;219;116;48;2;39;40;34m=\u001b[0m\u001b[38;2;230;219;116;48;2;39;40;34m\"\u001b[0m\u001b[38;2;255;70;137;48;2;39;40;34m*\u001b[0m\u001b[38;2;174;129;255;48;2;39;40;34m80\u001b[0m\u001b[38;2;248;248;242;48;2;39;40;34m \u001b[0m\u001b[38;2;255;70;137;48;2;39;40;34m+\u001b[0m\u001b[38;2;248;248;242;48;2;39;40;34m \u001b[0m\u001b[38;2;230;219;116;48;2;39;40;34m\"\u001b[0m\u001b[38;2;174;129;255;48;2;39;40;34m\\n\u001b[0m\u001b[38;2;230;219;116;48;2;39;40;34m\"\u001b[0m\u001b[38;2;248;248;242;48;2;39;40;34m)\u001b[0m\u001b[48;2;39;40;34m                                            \u001b[0m  \n",
       " ───────────────────────────────────────────────────────────────────────────────────────────────────────────────── \n"
      ]
     },
     "metadata": {},
     "output_type": "display_data"
    },
    {
     "data": {
      "text/html": [
       "<pre style=\"white-space:pre;overflow-x:auto;line-height:normal;font-family:Menlo,'DejaVu Sans Mono',consolas,'Courier New',monospace\"><span style=\"font-weight: bold\">Execution logs:</span>\n",
       "Results from https://www.gear4music.com/blog/best-party-songs/:\n",
       "## Search Results\n",
       "\n",
       "[The 75 Best Party Songs That Will Get Everyone Dancing - \n",
       "Gear4music](https://www.gear4music.com/blog/best-party-songs/)\n",
       "The best party songs 1. \"September\" - Earth, Wind &amp; Fire (1978) Quite possibly the best party song. An infectious \n",
       "mix of funk and soul, \"September\" is celebrated for its upbeat melody and \"ba-dee-ya\" chorus, making it a timeless \n",
       "dance favorite.\n",
       "\n",
       "[The 15 Best Reverb Pedals - Our Favourite 'Verbs for ... - \n",
       "Gear4music](https://www.gear4music.com/blog/best-reverb-pedals/)\n",
       "These pedals also represent the best of the best in their respective reverb type. Classic spring and hall reverbs \n",
       "are covered by options like the TC Electronic Hall Of Fame 2 and EHX Holy Grail, while the Boss RE-202 Space Echo \n",
       "and Walrus Audio Fable delve into more atmospheric, modulated textures\n",
       "\n",
       "[Gear4music Blog | Our Latest News, Reviews &amp; Deals](https://www.gear4music.com/blog/)\n",
       "Cookie Duration Description; _ga: 2 years: The _ga cookie, installed by Google Analytics, calculates visitor, \n",
       "session and campaign data and also keeps track of site usage for the site's analytics report.\n",
       "\n",
       "[Thoughts on Gear4Music's new \"G4M\" outboard line of \n",
       "products?](https://www.reddit.com/r/audioengineering/comments/193b9e2/thoughts_on_gear4musics_new_g4m_outboard_line\n",
       "_of/)\n",
       "The Best Community for Modding and Upgrading Arcade1Up's Home Arcade Game Cabinets, A1Up Jr., Virtual Pinball \n",
       "tables, Countercades, Casinocades, Partycades, Projectorcade, Giant Joysticks, Infinity Game Table, Casinocade, \n",
       "Actioncade, and Plug &amp; Play devices.\n",
       "\n",
       "[[Question] How has people experiences been with \n",
       "Gear4Music?](https://www.reddit.com/r/Guitar/comments/lx4ppk/question_how_has_people_experiences_been_with/)\n",
       "If you have guitar related questions, start with the \"search\" field at the top of the page. If you don't find what \n",
       "you need, ask the community. The best place to start if you're new is right below in our \"Rules\" section. Thanks \n",
       "for visiting. WE DO NOT HAVE A DISCORD. FYI.\n",
       "\n",
       "[Thoughts on Gear4Music basses : r/Bass - \n",
       "Reddit](https://www.reddit.com/r/Bass/comments/t9dgem/thoughts_on_gear4music_basses/)\n",
       "My first bass was a gear4music p bass and second was a redsub (by gear4music) INF4. I now own a Squier, Sterling \n",
       "and Ibanez and don't touch the gear4music ones anymore. The p bass is knackered (11 years old) however my Squier is\n",
       "16 years old. I also prefer the tones I can get out of my branded basses (J bass, MM bass, PJ bass).\n",
       "\n",
       "[ALL Reviews - Gear4music](https://www.gear4music.com/blog/reviews/)\n",
       "Cookie Duration Description; _ga: 2 years: The _ga cookie, installed by Google Analytics, calculates visitor, \n",
       "session and campaign data and also keeps track of site usage for the site's analytics report.\n",
       "\n",
       "[Harley Benton and gear4music : r/Bass - \n",
       "Reddit](https://www.reddit.com/r/Bass/comments/hqg2fz/harley_benton_and_gear4music/)\n",
       "My understanding is that Harley Benton is Thomann's house-brand, and I believe they have wider distribution across \n",
       "Europe. I think gear4music is just located in the UK (as far as I know) so there may be additional import or \n",
       "shipping fees buying from them. Just something to consider.\n",
       "\n",
       "[Gear4Music Visionstring 3/4 review: the best short-scale starter pack \n",
       "...](https://guitar.com/reviews/electric-guitar/hands-on-gear4music-visionstring-3-4-review/)\n",
       "Of course, Gear4Music does still make the obligatory full-sized Strat-inspired starter pack in the form of the LA \n",
       "Electric Guitar (from £69.99) if that's more your thing. And most of the retailers with house brands do also offer \n",
       "3/4 scale instruments of a vaguely Strat-esque persuasion, including Thomann 's Harley Benton and Andertons ...\n",
       "\n",
       "[The Best DJ Software - Gear4music](https://www.gear4music.com/blog/the-best-dj-software/)\n",
       "Top tier of the subscription model includes Cloud music management with third-party services including Google Drive\n",
       "and Dropbox; ... labelling, and tagging your songs, as well as pre-assigning cue points. While all DJ software \n",
       "includes some form of library for organising and browsing tracks, different software offer various library \n",
       "management ...\n",
       "\n",
       "================================================================================\n",
       "\n",
       "Results from https://www.timeout.com/music/dance-party-playlist-100-greatest-songs-for-an-epic-party:\n",
       "## Search Results\n",
       "\n",
       "[Dance-party playlist: 100 greatest songs for an epic party - Time \n",
       "Out](https://www.timeout.com/music/dance-party-playlist-100-greatest-songs-for-an-epic-party)\n",
       "Dance-party playlist: 100 greatest songs for an epic party House party, BBQ, wedding party or just a bedroom disco,\n",
       "we have the party playlist you need to get the place moving. Tuesday 16 July 2013\n",
       "\n",
       "[40 Best Party Songs | Songs To Dance To, Ranked By Our Editors - Time \n",
       "Out](https://www.timeout.com/music/best-party-songs)\n",
       "'Party songs' are a broad genre, and throughout the eras, they've come in all shapes, sizes and vibes. However, for\n",
       "a song to be a proper, hip-shaking party song, there are some rules: it ...\n",
       "\n",
       "[Time Out Music 2025: Best Playlists, Songs, Artists and News](https://www.timeout.com/music)\n",
       "Music; Time Out Market; Worldwide. London; New York; Paris; ... The 100 best party songs ever made. ... Some songs \n",
       "make you dance. Some songs make you want to profess your love.\n",
       "\n",
       "[Epic Throwback Dance Party Music Hits - Great Party Songs Playlist \n",
       "...](https://www.youtube.com/playlist?list=PLo3pNg0eiPc8JUUx00k36HyUzNh14cEpa)\n",
       "Epic Throwback Dance Party Music Hits - Great Party Songs Playlist (Updated Weekly 2024) Find our playlist with \n",
       "these keywords: If you liked this playlist, w...\n",
       "\n",
       "[Dance Music Mix 2024 Greatest Party Songs - YouTube](https://www.youtube.com/watch?v=WPd3UF55D1A)\n",
       "♪ Discover the Playlist: Youtube: https://globl.re/aUzPG Spotify: https://globl.re/LIZyN Subscribe @ \n",
       "YouTubehttps://globl.re/subscribe Global Records Onlin...\n",
       "\n",
       "[The 100 Best Party Songs Ever Made (Timeout) - List \n",
       "Challenges](https://www.listchallenges.com/the-100-best-party-songs-ever-made-timeout)\n",
       "The 100 Best Party Songs Ever Made (Timeout) ... if none of your guests will know a song, it doesn't make it onto \n",
       "the playlist. This playlist of classic party tunes is sure to get everyone moving in an explosion of joyful, \n",
       "fevered dancing. There are some pop favourites, a few karaoke classics, and some all-round happy songs. ... Hit \n",
       "play on ...\n",
       "\n",
       "[Party music mix ~ Songs to play in the party ~ Best songs ... - \n",
       "YouTube](https://www.youtube.com/watch?v=Fhkkz8OF5Cg)\n",
       "Party music mix ~ Songs to play in the party ~ Best songs that make you dance #2#ACvibes #partymusic #dancesongs💞 \n",
       "Donate for A.C Vibes: https://bit.ly/paypa...\n",
       "\n",
       "[The 101 Best Party Songs Of All Time - Music Grotto](https://www.musicgrotto.com/best-party-songs/)\n",
       "The song was released in 1997 by Thomas Bangalter and Guy-Manuel de Homem-Christo of Daft Punk. Like many of Daft \n",
       "Punk's songs, it's remained relevant, and the song took the 12th spot on a 2021 Billboard list of the hottest dance\n",
       "and electronic songs. Next: Best 90s dance songs (our picks) 17. \"Uptown Funk\" - Bruno Mars\n",
       "\n",
       "[TIME OUT NEW YORK : 100 greatest songs for an epic \n",
       "party](https://www.acclaimedmusic.net/forums/viewtopic.php?t=1232)\n",
       "Even though it says \"dance-party playlist,\" it's not a list of dance songs; so it's not really a music-genre list, \n",
       "just that they're the source's selections for an \"epic party.\" And it's a decent amount of contributors.\n",
       "\n",
       "[Best Songs To Party: DJ's Ultimate Party Songs Playlist - \n",
       "Top40Weekly.com](https://top40weekly.com/best-songs-to-party/)\n",
       "Don't forget the music! We've compiled the best songs to party that are sure to get everyone in the mood to dance \n",
       "and have a good time. ... sure to turn any gathering into an epic party experience. 35 - \"Gangnam Style\" by PSY ...\n",
       "Lady Gaga's \"Just Dance\" is a hit that remains a go-to choice for worldwide party playlists. This dance ...\n",
       "\n",
       "================================================================================\n",
       "\n",
       "Results from https://open.spotify.com/playlist/4J61XoHr2CINqRA1DV0ga7:\n",
       "## Search Results\n",
       "\n",
       "[Spotify - Web Player: Music for everyone](https://open.spotify.com/)\n",
       "Spotify is a digital music service that gives you access to millions of songs. What do you want to play? ... \n",
       "Premium Support Download. Install App. Sign up Log in. Your Library. Create your first playlist It's easy, we'll \n",
       "help you. Create playlist. Let's find some podcasts to follow We'll keep you updated on new episodes. Browse \n",
       "podcasts ...\n",
       "\n",
       "[https://open.spotify.com/playlist/6AxNc0SbjdN6esFvAxtPxo?si \n",
       "...](https://open.spotify.com/playlist/7izwCPdCXVwLqD5hCwNh0H)\n",
       "Playlist · Daud Nur Hidayat · 316 items · 1.3K saves\n",
       "\n",
       "[Login - Spotify](https://accounts.spotify.com/en/login)\n",
       "Log in to Spotify. Continue with Google; Continue with Facebook; Continue with Apple\n",
       "\n",
       "[Soirée - Top 50 Songs | Spotify Playlist](https://open.spotify.com/playlist/37i9dQZF1DX4Vd1jJ7X9H8)\n",
       "Spotify may collect and share some of your personal data associated with this browser or device with some of our \n",
       "partners for certain purposes such as targeted advertising on their platforms. For example, we may share your \n",
       "cookie data with a marketing partner to inform you of one of our latest promotions while you are on their platform.\n",
       "\n",
       "[This Is Jin - playlist by Spotify | Spotify](https://open.spotify.com/playlist/37i9dQZF1DX9ROcoR0cTZM)\n",
       "Playlist · This Is Jin · 20 items · 246 saves. Playlist · Spotify · 20 items · 246 saves. Sign up Log in. Resize \n",
       "main navigation.\n",
       "\n",
       "[for you. - playlist by Spotify | Spotify](https://open.spotify.com/playlist/37i9dQZF1DWZdLqpoFOt65)\n",
       "Playlist · Spotify · 70 items · 297.6K saves ... Playlist · for you. · 70 items · 297.6K saves. Playlist · Spotify \n",
       "· 70 items · 297.6K saves. Sign up Log in. Your Library. English. Resize main navigation. Preview of Spotify. Sign \n",
       "up to get unlimited songs and podcasts with occasional ads. No credit card needed.\n",
       "\n",
       "[Spotify Playlist Downloader - Download Spotify Playlists to MP3 \n",
       "...](https://spotidl.com/spotify-playlist-downloader)\n",
       "Key Features. Download Entire Playlists: Easily download entire Spotify playlists with a single click, ensuring you\n",
       "have access to all your favorite tracks offline. Convert to MP3: Convert your Spotify playlists to MP3 format, \n",
       "compatible with any music player or device. High-Quality Audio: Maintain the original quality of your music files, \n",
       "ensuring the best listening experience.\n",
       "\n",
       "[Spotify - Web Player](https://open.spotify.com/user/spotify_my/playlists)\n",
       "Resize main navigation. Resize main navigation\n",
       "\n",
       "[Find playlists on Spotify - Spotify](https://support.spotify.com/to/article/find-playlists/)\n",
       "Enjoy the millions of playlists created by Spotify for you, and by artists and other listeners worldwide. Made for \n",
       "you. Spotify makes playlists based on your listening habits (what you like, share, save, skip) and the listening \n",
       "habits of others with similar taste. Find Made For You playlists in Home. Select Made For You in Search .\n",
       "\n",
       "[Spotify Webbys](https://www.webplayer.byspotify.com/)\n",
       "The Spotify Web Player gives listeners access to the world's music, podcasts and audiobooks on a single platform. \n",
       "With deep personalization, powerful curation, and AI features. Find all your favorite albums and playlists, listen \n",
       "to some of your favorite authors' works, and tune into original podcasts.\n",
       "\n",
       "================================================================================\n",
       "\n",
       "\n",
       "Out: ## Search Results\n",
       "\n",
       "[Spotify - Web Player: Music for everyone](https://open.spotify.com/)\n",
       "Spotify is a digital music service that gives you access to millions of songs. What do you want to play? ... \n",
       "Premium Support Download. Install App. Sign up Log in. Your Library. Create your first playlist It's easy, we'll \n",
       "help you. Create playlist. Let's find some podcasts to follow We'll keep you updated on new episodes. Browse \n",
       "podcasts ...\n",
       "\n",
       "[https://open.spotify.com/playlist/6AxNc0SbjdN6esFvAxtPxo?si \n",
       "...](https://open.spotify.com/playlist/7izwCPdCXVwLqD5hCwNh0H)\n",
       "Playlist · Daud Nur Hidayat · 316 items · 1.3K saves\n",
       "\n",
       "[Login - Spotify](https://accounts.spotify.com/en/login)\n",
       "Log in to Spotify. Continue with Google; Continue with Facebook; Continue with Apple\n",
       "\n",
       "[Soirée - Top 50 Songs | Spotify Playlist](https://open.spotify.com/playlist/37i9dQZF1DX4Vd1jJ7X9H8)\n",
       "Spotify may collect and share some of your personal data associated with this browser or device with some of our \n",
       "partners for certain purposes such as targeted advertising on their platforms. For example, we may share your \n",
       "cookie data with a marketing partner to inform you of one of our latest promotions while you are on their platform.\n",
       "\n",
       "[This Is Jin - playlist by Spotify | Spotify](https://open.spotify.com/playlist/37i9dQZF1DX9ROcoR0cTZM)\n",
       "Playlist · This Is Jin · 20 items · 246 saves. Playlist · Spotify · 20 items · 246 saves. Sign up Log in. Resize \n",
       "main navigation.\n",
       "\n",
       "[for you. - playlist by Spotify | Spotify](https://open.spotify.com/playlist/37i9dQZF1DWZdLqpoFOt65)\n",
       "Playlist · Spotify · 70 items · 297.6K saves ... Playlist · for you. · 70 items · 297.6K saves. Playlist · Spotify \n",
       "· 70 items · 297.6K saves. Sign up Log in. Your Library. English. Resize main navigation. Preview of Spotify. Sign \n",
       "up to get unlimited songs and podcasts with occasional ads. No credit card needed.\n",
       "\n",
       "[Spotify Playlist Downloader - Download Spotify Playlists to MP3 \n",
       "...](https://spotidl.com/spotify-playlist-downloader)\n",
       "Key Features. Download Entire Playlists: Easily download entire Spotify playlists with a single click, ensuring you\n",
       "have access to all your favorite tracks offline. Convert to MP3: Convert your Spotify playlists to MP3 format, \n",
       "compatible with any music player or device. High-Quality Audio: Maintain the original quality of your music files, \n",
       "ensuring the best listening experience.\n",
       "\n",
       "[Spotify - Web Player](https://open.spotify.com/user/spotify_my/playlists)\n",
       "Resize main navigation. Resize main navigation\n",
       "\n",
       "[Find playlists on Spotify - Spotify](https://support.spotify.com/to/article/find-playlists/)\n",
       "Enjoy the millions of playlists created by Spotify for you, and by artists and other listeners worldwide. Made for \n",
       "you. Spotify makes playlists based on your listening habits (what you like, share, save, skip) and the listening \n",
       "habits of others with similar taste. Find Made For You playlists in Home. Select Made For You in Search .\n",
       "\n",
       "[Spotify Webbys](https://www.webplayer.byspotify.com/)\n",
       "The Spotify Web Player gives listeners access to the world's music, podcasts and audiobooks on a single platform. \n",
       "With deep personalization, powerful curation, and AI features. Find all your favorite albums and playlists, listen \n",
       "to some of your favorite authors' works, and tune into original podcasts.\n",
       "</pre>\n"
      ],
      "text/plain": [
       "\u001b[1mExecution logs:\u001b[0m\n",
       "Results from https://www.gear4music.com/blog/best-party-songs/:\n",
       "## Search Results\n",
       "\n",
       "[The 75 Best Party Songs That Will Get Everyone Dancing - \n",
       "Gear4music](https://www.gear4music.com/blog/best-party-songs/)\n",
       "The best party songs 1. \"September\" - Earth, Wind & Fire (1978) Quite possibly the best party song. An infectious \n",
       "mix of funk and soul, \"September\" is celebrated for its upbeat melody and \"ba-dee-ya\" chorus, making it a timeless \n",
       "dance favorite.\n",
       "\n",
       "[The 15 Best Reverb Pedals - Our Favourite 'Verbs for ... - \n",
       "Gear4music](https://www.gear4music.com/blog/best-reverb-pedals/)\n",
       "These pedals also represent the best of the best in their respective reverb type. Classic spring and hall reverbs \n",
       "are covered by options like the TC Electronic Hall Of Fame 2 and EHX Holy Grail, while the Boss RE-202 Space Echo \n",
       "and Walrus Audio Fable delve into more atmospheric, modulated textures\n",
       "\n",
       "[Gear4music Blog | Our Latest News, Reviews & Deals](https://www.gear4music.com/blog/)\n",
       "Cookie Duration Description; _ga: 2 years: The _ga cookie, installed by Google Analytics, calculates visitor, \n",
       "session and campaign data and also keeps track of site usage for the site's analytics report.\n",
       "\n",
       "[Thoughts on Gear4Music's new \"G4M\" outboard line of \n",
       "products?](https://www.reddit.com/r/audioengineering/comments/193b9e2/thoughts_on_gear4musics_new_g4m_outboard_line\n",
       "_of/)\n",
       "The Best Community for Modding and Upgrading Arcade1Up's Home Arcade Game Cabinets, A1Up Jr., Virtual Pinball \n",
       "tables, Countercades, Casinocades, Partycades, Projectorcade, Giant Joysticks, Infinity Game Table, Casinocade, \n",
       "Actioncade, and Plug & Play devices.\n",
       "\n",
       "[[Question] How has people experiences been with \n",
       "Gear4Music?](https://www.reddit.com/r/Guitar/comments/lx4ppk/question_how_has_people_experiences_been_with/)\n",
       "If you have guitar related questions, start with the \"search\" field at the top of the page. If you don't find what \n",
       "you need, ask the community. The best place to start if you're new is right below in our \"Rules\" section. Thanks \n",
       "for visiting. WE DO NOT HAVE A DISCORD. FYI.\n",
       "\n",
       "[Thoughts on Gear4Music basses : r/Bass - \n",
       "Reddit](https://www.reddit.com/r/Bass/comments/t9dgem/thoughts_on_gear4music_basses/)\n",
       "My first bass was a gear4music p bass and second was a redsub (by gear4music) INF4. I now own a Squier, Sterling \n",
       "and Ibanez and don't touch the gear4music ones anymore. The p bass is knackered (11 years old) however my Squier is\n",
       "16 years old. I also prefer the tones I can get out of my branded basses (J bass, MM bass, PJ bass).\n",
       "\n",
       "[ALL Reviews - Gear4music](https://www.gear4music.com/blog/reviews/)\n",
       "Cookie Duration Description; _ga: 2 years: The _ga cookie, installed by Google Analytics, calculates visitor, \n",
       "session and campaign data and also keeps track of site usage for the site's analytics report.\n",
       "\n",
       "[Harley Benton and gear4music : r/Bass - \n",
       "Reddit](https://www.reddit.com/r/Bass/comments/hqg2fz/harley_benton_and_gear4music/)\n",
       "My understanding is that Harley Benton is Thomann's house-brand, and I believe they have wider distribution across \n",
       "Europe. I think gear4music is just located in the UK (as far as I know) so there may be additional import or \n",
       "shipping fees buying from them. Just something to consider.\n",
       "\n",
       "[Gear4Music Visionstring 3/4 review: the best short-scale starter pack \n",
       "...](https://guitar.com/reviews/electric-guitar/hands-on-gear4music-visionstring-3-4-review/)\n",
       "Of course, Gear4Music does still make the obligatory full-sized Strat-inspired starter pack in the form of the LA \n",
       "Electric Guitar (from £69.99) if that's more your thing. And most of the retailers with house brands do also offer \n",
       "3/4 scale instruments of a vaguely Strat-esque persuasion, including Thomann 's Harley Benton and Andertons ...\n",
       "\n",
       "[The Best DJ Software - Gear4music](https://www.gear4music.com/blog/the-best-dj-software/)\n",
       "Top tier of the subscription model includes Cloud music management with third-party services including Google Drive\n",
       "and Dropbox; ... labelling, and tagging your songs, as well as pre-assigning cue points. While all DJ software \n",
       "includes some form of library for organising and browsing tracks, different software offer various library \n",
       "management ...\n",
       "\n",
       "================================================================================\n",
       "\n",
       "Results from https://www.timeout.com/music/dance-party-playlist-100-greatest-songs-for-an-epic-party:\n",
       "## Search Results\n",
       "\n",
       "[Dance-party playlist: 100 greatest songs for an epic party - Time \n",
       "Out](https://www.timeout.com/music/dance-party-playlist-100-greatest-songs-for-an-epic-party)\n",
       "Dance-party playlist: 100 greatest songs for an epic party House party, BBQ, wedding party or just a bedroom disco,\n",
       "we have the party playlist you need to get the place moving. Tuesday 16 July 2013\n",
       "\n",
       "[40 Best Party Songs | Songs To Dance To, Ranked By Our Editors - Time \n",
       "Out](https://www.timeout.com/music/best-party-songs)\n",
       "'Party songs' are a broad genre, and throughout the eras, they've come in all shapes, sizes and vibes. However, for\n",
       "a song to be a proper, hip-shaking party song, there are some rules: it ...\n",
       "\n",
       "[Time Out Music 2025: Best Playlists, Songs, Artists and News](https://www.timeout.com/music)\n",
       "Music; Time Out Market; Worldwide. London; New York; Paris; ... The 100 best party songs ever made. ... Some songs \n",
       "make you dance. Some songs make you want to profess your love.\n",
       "\n",
       "[Epic Throwback Dance Party Music Hits - Great Party Songs Playlist \n",
       "...](https://www.youtube.com/playlist?list=PLo3pNg0eiPc8JUUx00k36HyUzNh14cEpa)\n",
       "Epic Throwback Dance Party Music Hits - Great Party Songs Playlist (Updated Weekly 2024) Find our playlist with \n",
       "these keywords: If you liked this playlist, w...\n",
       "\n",
       "[Dance Music Mix 2024 Greatest Party Songs - YouTube](https://www.youtube.com/watch?v=WPd3UF55D1A)\n",
       "♪ Discover the Playlist: Youtube: https://globl.re/aUzPG Spotify: https://globl.re/LIZyN Subscribe @ \n",
       "YouTubehttps://globl.re/subscribe Global Records Onlin...\n",
       "\n",
       "[The 100 Best Party Songs Ever Made (Timeout) - List \n",
       "Challenges](https://www.listchallenges.com/the-100-best-party-songs-ever-made-timeout)\n",
       "The 100 Best Party Songs Ever Made (Timeout) ... if none of your guests will know a song, it doesn't make it onto \n",
       "the playlist. This playlist of classic party tunes is sure to get everyone moving in an explosion of joyful, \n",
       "fevered dancing. There are some pop favourites, a few karaoke classics, and some all-round happy songs. ... Hit \n",
       "play on ...\n",
       "\n",
       "[Party music mix ~ Songs to play in the party ~ Best songs ... - \n",
       "YouTube](https://www.youtube.com/watch?v=Fhkkz8OF5Cg)\n",
       "Party music mix ~ Songs to play in the party ~ Best songs that make you dance #2#ACvibes #partymusic #dancesongs💞 \n",
       "Donate for A.C Vibes: https://bit.ly/paypa...\n",
       "\n",
       "[The 101 Best Party Songs Of All Time - Music Grotto](https://www.musicgrotto.com/best-party-songs/)\n",
       "The song was released in 1997 by Thomas Bangalter and Guy-Manuel de Homem-Christo of Daft Punk. Like many of Daft \n",
       "Punk's songs, it's remained relevant, and the song took the 12th spot on a 2021 Billboard list of the hottest dance\n",
       "and electronic songs. Next: Best 90s dance songs (our picks) 17. \"Uptown Funk\" - Bruno Mars\n",
       "\n",
       "[TIME OUT NEW YORK : 100 greatest songs for an epic \n",
       "party](https://www.acclaimedmusic.net/forums/viewtopic.php?t=1232)\n",
       "Even though it says \"dance-party playlist,\" it's not a list of dance songs; so it's not really a music-genre list, \n",
       "just that they're the source's selections for an \"epic party.\" And it's a decent amount of contributors.\n",
       "\n",
       "[Best Songs To Party: DJ's Ultimate Party Songs Playlist - \n",
       "Top40Weekly.com](https://top40weekly.com/best-songs-to-party/)\n",
       "Don't forget the music! We've compiled the best songs to party that are sure to get everyone in the mood to dance \n",
       "and have a good time. ... sure to turn any gathering into an epic party experience. 35 - \"Gangnam Style\" by PSY ...\n",
       "Lady Gaga's \"Just Dance\" is a hit that remains a go-to choice for worldwide party playlists. This dance ...\n",
       "\n",
       "================================================================================\n",
       "\n",
       "Results from https://open.spotify.com/playlist/4J61XoHr2CINqRA1DV0ga7:\n",
       "## Search Results\n",
       "\n",
       "[Spotify - Web Player: Music for everyone](https://open.spotify.com/)\n",
       "Spotify is a digital music service that gives you access to millions of songs. What do you want to play? ... \n",
       "Premium Support Download. Install App. Sign up Log in. Your Library. Create your first playlist It's easy, we'll \n",
       "help you. Create playlist. Let's find some podcasts to follow We'll keep you updated on new episodes. Browse \n",
       "podcasts ...\n",
       "\n",
       "[https://open.spotify.com/playlist/6AxNc0SbjdN6esFvAxtPxo?si \n",
       "...](https://open.spotify.com/playlist/7izwCPdCXVwLqD5hCwNh0H)\n",
       "Playlist · Daud Nur Hidayat · 316 items · 1.3K saves\n",
       "\n",
       "[Login - Spotify](https://accounts.spotify.com/en/login)\n",
       "Log in to Spotify. Continue with Google; Continue with Facebook; Continue with Apple\n",
       "\n",
       "[Soirée - Top 50 Songs | Spotify Playlist](https://open.spotify.com/playlist/37i9dQZF1DX4Vd1jJ7X9H8)\n",
       "Spotify may collect and share some of your personal data associated with this browser or device with some of our \n",
       "partners for certain purposes such as targeted advertising on their platforms. For example, we may share your \n",
       "cookie data with a marketing partner to inform you of one of our latest promotions while you are on their platform.\n",
       "\n",
       "[This Is Jin - playlist by Spotify | Spotify](https://open.spotify.com/playlist/37i9dQZF1DX9ROcoR0cTZM)\n",
       "Playlist · This Is Jin · 20 items · 246 saves. Playlist · Spotify · 20 items · 246 saves. Sign up Log in. Resize \n",
       "main navigation.\n",
       "\n",
       "[for you. - playlist by Spotify | Spotify](https://open.spotify.com/playlist/37i9dQZF1DWZdLqpoFOt65)\n",
       "Playlist · Spotify · 70 items · 297.6K saves ... Playlist · for you. · 70 items · 297.6K saves. Playlist · Spotify \n",
       "· 70 items · 297.6K saves. Sign up Log in. Your Library. English. Resize main navigation. Preview of Spotify. Sign \n",
       "up to get unlimited songs and podcasts with occasional ads. No credit card needed.\n",
       "\n",
       "[Spotify Playlist Downloader - Download Spotify Playlists to MP3 \n",
       "...](https://spotidl.com/spotify-playlist-downloader)\n",
       "Key Features. Download Entire Playlists: Easily download entire Spotify playlists with a single click, ensuring you\n",
       "have access to all your favorite tracks offline. Convert to MP3: Convert your Spotify playlists to MP3 format, \n",
       "compatible with any music player or device. High-Quality Audio: Maintain the original quality of your music files, \n",
       "ensuring the best listening experience.\n",
       "\n",
       "[Spotify - Web Player](https://open.spotify.com/user/spotify_my/playlists)\n",
       "Resize main navigation. Resize main navigation\n",
       "\n",
       "[Find playlists on Spotify - Spotify](https://support.spotify.com/to/article/find-playlists/)\n",
       "Enjoy the millions of playlists created by Spotify for you, and by artists and other listeners worldwide. Made for \n",
       "you. Spotify makes playlists based on your listening habits (what you like, share, save, skip) and the listening \n",
       "habits of others with similar taste. Find Made For You playlists in Home. Select Made For You in Search .\n",
       "\n",
       "[Spotify Webbys](https://www.webplayer.byspotify.com/)\n",
       "The Spotify Web Player gives listeners access to the world's music, podcasts and audiobooks on a single platform. \n",
       "With deep personalization, powerful curation, and AI features. Find all your favorite albums and playlists, listen \n",
       "to some of your favorite authors' works, and tune into original podcasts.\n",
       "\n",
       "================================================================================\n",
       "\n",
       "\n",
       "Out: ## Search Results\n",
       "\n",
       "[Spotify - Web Player: Music for everyone](https://open.spotify.com/)\n",
       "Spotify is a digital music service that gives you access to millions of songs. What do you want to play? ... \n",
       "Premium Support Download. Install App. Sign up Log in. Your Library. Create your first playlist It's easy, we'll \n",
       "help you. Create playlist. Let's find some podcasts to follow We'll keep you updated on new episodes. Browse \n",
       "podcasts ...\n",
       "\n",
       "[https://open.spotify.com/playlist/6AxNc0SbjdN6esFvAxtPxo?si \n",
       "...](https://open.spotify.com/playlist/7izwCPdCXVwLqD5hCwNh0H)\n",
       "Playlist · Daud Nur Hidayat · 316 items · 1.3K saves\n",
       "\n",
       "[Login - Spotify](https://accounts.spotify.com/en/login)\n",
       "Log in to Spotify. Continue with Google; Continue with Facebook; Continue with Apple\n",
       "\n",
       "[Soirée - Top 50 Songs | Spotify Playlist](https://open.spotify.com/playlist/37i9dQZF1DX4Vd1jJ7X9H8)\n",
       "Spotify may collect and share some of your personal data associated with this browser or device with some of our \n",
       "partners for certain purposes such as targeted advertising on their platforms. For example, we may share your \n",
       "cookie data with a marketing partner to inform you of one of our latest promotions while you are on their platform.\n",
       "\n",
       "[This Is Jin - playlist by Spotify | Spotify](https://open.spotify.com/playlist/37i9dQZF1DX9ROcoR0cTZM)\n",
       "Playlist · This Is Jin · 20 items · 246 saves. Playlist · Spotify · 20 items · 246 saves. Sign up Log in. Resize \n",
       "main navigation.\n",
       "\n",
       "[for you. - playlist by Spotify | Spotify](https://open.spotify.com/playlist/37i9dQZF1DWZdLqpoFOt65)\n",
       "Playlist · Spotify · 70 items · 297.6K saves ... Playlist · for you. · 70 items · 297.6K saves. Playlist · Spotify \n",
       "· 70 items · 297.6K saves. Sign up Log in. Your Library. English. Resize main navigation. Preview of Spotify. Sign \n",
       "up to get unlimited songs and podcasts with occasional ads. No credit card needed.\n",
       "\n",
       "[Spotify Playlist Downloader - Download Spotify Playlists to MP3 \n",
       "...](https://spotidl.com/spotify-playlist-downloader)\n",
       "Key Features. Download Entire Playlists: Easily download entire Spotify playlists with a single click, ensuring you\n",
       "have access to all your favorite tracks offline. Convert to MP3: Convert your Spotify playlists to MP3 format, \n",
       "compatible with any music player or device. High-Quality Audio: Maintain the original quality of your music files, \n",
       "ensuring the best listening experience.\n",
       "\n",
       "[Spotify - Web Player](https://open.spotify.com/user/spotify_my/playlists)\n",
       "Resize main navigation. Resize main navigation\n",
       "\n",
       "[Find playlists on Spotify - Spotify](https://support.spotify.com/to/article/find-playlists/)\n",
       "Enjoy the millions of playlists created by Spotify for you, and by artists and other listeners worldwide. Made for \n",
       "you. Spotify makes playlists based on your listening habits (what you like, share, save, skip) and the listening \n",
       "habits of others with similar taste. Find Made For You playlists in Home. Select Made For You in Search .\n",
       "\n",
       "[Spotify Webbys](https://www.webplayer.byspotify.com/)\n",
       "The Spotify Web Player gives listeners access to the world's music, podcasts and audiobooks on a single platform. \n",
       "With deep personalization, powerful curation, and AI features. Find all your favorite albums and playlists, listen \n",
       "to some of your favorite authors' works, and tune into original podcasts.\n"
      ]
     },
     "metadata": {},
     "output_type": "display_data"
    },
    {
     "data": {
      "text/html": [
       "<pre style=\"white-space:pre;overflow-x:auto;line-height:normal;font-family:Menlo,'DejaVu Sans Mono',consolas,'Courier New',monospace\"><span style=\"color: #7f7f7f; text-decoration-color: #7f7f7f\">[Step 1: Duration 14.26 seconds| Input tokens: 5,234 | Output tokens: 295]</span>\n",
       "</pre>\n"
      ],
      "text/plain": [
       "\u001b[2m[Step 1: Duration 14.26 seconds| Input tokens: 5,234 | Output tokens: 295]\u001b[0m\n"
      ]
     },
     "metadata": {},
     "output_type": "display_data"
    },
    {
     "data": {
      "text/html": [
       "<pre style=\"white-space:pre;overflow-x:auto;line-height:normal;font-family:Menlo,'DejaVu Sans Mono',consolas,'Courier New',monospace\"><span style=\"color: #d4b702; text-decoration-color: #d4b702\">━━━━━━━━━━━━━━━━━━━━━━━━━━━━━━━━━━━━━━━━━━━━━━━━━━━━━ </span><span style=\"font-weight: bold\">Step </span><span style=\"color: #008080; text-decoration-color: #008080; font-weight: bold\">3</span><span style=\"color: #d4b702; text-decoration-color: #d4b702\"> ━━━━━━━━━━━━━━━━━━━━━━━━━━━━━━━━━━━━━━━━━━━━━━━━━━━━━━</span>\n",
       "</pre>\n"
      ],
      "text/plain": [
       "\u001b[38;2;212;183;2m━━━━━━━━━━━━━━━━━━━━━━━━━━━━━━━━━━━━━━━━━━━━━━━━━━━━━ \u001b[0m\u001b[1mStep \u001b[0m\u001b[1;36m3\u001b[0m\u001b[38;2;212;183;2m ━━━━━━━━━━━━━━━━━━━━━━━━━━━━━━━━━━━━━━━━━━━━━━━━━━━━━━\u001b[0m\n"
      ]
     },
     "metadata": {},
     "output_type": "display_data"
    },
    {
     "data": {
      "text/html": [
       "<pre style=\"white-space:pre;overflow-x:auto;line-height:normal;font-family:Menlo,'DejaVu Sans Mono',consolas,'Courier New',monospace\"> ─ <span style=\"font-weight: bold\">Executing parsed code:</span> ──────────────────────────────────────────────────────────────────────────────────────── \n",
       "  <span style=\"color: #959077; text-decoration-color: #959077; background-color: #272822\"># Visit Time Out URL for specific songs</span><span style=\"background-color: #272822\">                                                                        </span>  \n",
       "  <span style=\"color: #f8f8f2; text-decoration-color: #f8f8f2; background-color: #272822\">time_out_url </span><span style=\"color: #ff4689; text-decoration-color: #ff4689; background-color: #272822\">=</span><span style=\"color: #f8f8f2; text-decoration-color: #f8f8f2; background-color: #272822\"> </span><span style=\"color: #e6db74; text-decoration-color: #e6db74; background-color: #272822\">\"https://www.timeout.com/music/dance-party-playlist-100-greatest-songs-for-an-epic-party\"</span><span style=\"background-color: #272822\">       </span>  \n",
       "  <span style=\"color: #f8f8f2; text-decoration-color: #f8f8f2; background-color: #272822\">time_out_playlist </span><span style=\"color: #ff4689; text-decoration-color: #ff4689; background-color: #272822\">=</span><span style=\"color: #f8f8f2; text-decoration-color: #f8f8f2; background-color: #272822\"> web_search(query</span><span style=\"color: #ff4689; text-decoration-color: #ff4689; background-color: #272822\">=</span><span style=\"color: #f8f8f2; text-decoration-color: #f8f8f2; background-color: #272822\">time_out_url)</span><span style=\"background-color: #272822\">                                                             </span>  \n",
       "  <span style=\"color: #f8f8f2; text-decoration-color: #f8f8f2; background-color: #272822\">print(</span><span style=\"color: #e6db74; text-decoration-color: #e6db74; background-color: #272822\">\"Time Out Playlist Results:</span><span style=\"color: #ae81ff; text-decoration-color: #ae81ff; background-color: #272822\">\\n</span><span style=\"color: #e6db74; text-decoration-color: #e6db74; background-color: #272822\">\"</span><span style=\"color: #f8f8f2; text-decoration-color: #f8f8f2; background-color: #272822\"> </span><span style=\"color: #ff4689; text-decoration-color: #ff4689; background-color: #272822\">+</span><span style=\"color: #f8f8f2; text-decoration-color: #f8f8f2; background-color: #272822\"> time_out_playlist </span><span style=\"color: #ff4689; text-decoration-color: #ff4689; background-color: #272822\">+</span><span style=\"color: #f8f8f2; text-decoration-color: #f8f8f2; background-color: #272822\"> </span><span style=\"color: #e6db74; text-decoration-color: #e6db74; background-color: #272822\">\"</span><span style=\"color: #ae81ff; text-decoration-color: #ae81ff; background-color: #272822\">\\n</span><span style=\"color: #e6db74; text-decoration-color: #e6db74; background-color: #272822\">\"</span><span style=\"color: #f8f8f2; text-decoration-color: #f8f8f2; background-color: #272822\">)</span><span style=\"background-color: #272822\">                                               </span>  \n",
       "  <span style=\"background-color: #272822\">                                                                                                               </span>  \n",
       "  <span style=\"color: #959077; text-decoration-color: #959077; background-color: #272822\"># Visit Spotify URL for specific songs</span><span style=\"background-color: #272822\">                                                                         </span>  \n",
       "  <span style=\"color: #f8f8f2; text-decoration-color: #f8f8f2; background-color: #272822\">spotify_url </span><span style=\"color: #ff4689; text-decoration-color: #ff4689; background-color: #272822\">=</span><span style=\"color: #f8f8f2; text-decoration-color: #f8f8f2; background-color: #272822\"> </span><span style=\"color: #e6db74; text-decoration-color: #e6db74; background-color: #272822\">\"https://open.spotify.com/playlist/4J61XoHr2CINqRA1DV0ga7\"</span><span style=\"background-color: #272822\">                                       </span>  \n",
       "  <span style=\"color: #f8f8f2; text-decoration-color: #f8f8f2; background-color: #272822\">spotify_playlist </span><span style=\"color: #ff4689; text-decoration-color: #ff4689; background-color: #272822\">=</span><span style=\"color: #f8f8f2; text-decoration-color: #f8f8f2; background-color: #272822\"> web_search(query</span><span style=\"color: #ff4689; text-decoration-color: #ff4689; background-color: #272822\">=</span><span style=\"color: #f8f8f2; text-decoration-color: #f8f8f2; background-color: #272822\">spotify_url)</span><span style=\"background-color: #272822\">                                                               </span>  \n",
       "  <span style=\"color: #f8f8f2; text-decoration-color: #f8f8f2; background-color: #272822\">print(</span><span style=\"color: #e6db74; text-decoration-color: #e6db74; background-color: #272822\">\"Spotify Playlist Results:</span><span style=\"color: #ae81ff; text-decoration-color: #ae81ff; background-color: #272822\">\\n</span><span style=\"color: #e6db74; text-decoration-color: #e6db74; background-color: #272822\">\"</span><span style=\"color: #f8f8f2; text-decoration-color: #f8f8f2; background-color: #272822\"> </span><span style=\"color: #ff4689; text-decoration-color: #ff4689; background-color: #272822\">+</span><span style=\"color: #f8f8f2; text-decoration-color: #f8f8f2; background-color: #272822\"> spotify_playlist </span><span style=\"color: #ff4689; text-decoration-color: #ff4689; background-color: #272822\">+</span><span style=\"color: #f8f8f2; text-decoration-color: #f8f8f2; background-color: #272822\"> </span><span style=\"color: #e6db74; text-decoration-color: #e6db74; background-color: #272822\">\"</span><span style=\"color: #ae81ff; text-decoration-color: #ae81ff; background-color: #272822\">\\n</span><span style=\"color: #e6db74; text-decoration-color: #e6db74; background-color: #272822\">\"</span><span style=\"color: #f8f8f2; text-decoration-color: #f8f8f2; background-color: #272822\">)</span><span style=\"background-color: #272822\">                                                 </span>  \n",
       " ───────────────────────────────────────────────────────────────────────────────────────────────────────────────── \n",
       "</pre>\n"
      ],
      "text/plain": [
       " ─ \u001b[1mExecuting parsed code:\u001b[0m ──────────────────────────────────────────────────────────────────────────────────────── \n",
       "  \u001b[38;2;149;144;119;48;2;39;40;34m# Visit Time Out URL for specific songs\u001b[0m\u001b[48;2;39;40;34m                                                                        \u001b[0m  \n",
       "  \u001b[38;2;248;248;242;48;2;39;40;34mtime_out_url\u001b[0m\u001b[38;2;248;248;242;48;2;39;40;34m \u001b[0m\u001b[38;2;255;70;137;48;2;39;40;34m=\u001b[0m\u001b[38;2;248;248;242;48;2;39;40;34m \u001b[0m\u001b[38;2;230;219;116;48;2;39;40;34m\"\u001b[0m\u001b[38;2;230;219;116;48;2;39;40;34mhttps://www.timeout.com/music/dance-party-playlist-100-greatest-songs-for-an-epic-party\u001b[0m\u001b[38;2;230;219;116;48;2;39;40;34m\"\u001b[0m\u001b[48;2;39;40;34m       \u001b[0m  \n",
       "  \u001b[38;2;248;248;242;48;2;39;40;34mtime_out_playlist\u001b[0m\u001b[38;2;248;248;242;48;2;39;40;34m \u001b[0m\u001b[38;2;255;70;137;48;2;39;40;34m=\u001b[0m\u001b[38;2;248;248;242;48;2;39;40;34m \u001b[0m\u001b[38;2;248;248;242;48;2;39;40;34mweb_search\u001b[0m\u001b[38;2;248;248;242;48;2;39;40;34m(\u001b[0m\u001b[38;2;248;248;242;48;2;39;40;34mquery\u001b[0m\u001b[38;2;255;70;137;48;2;39;40;34m=\u001b[0m\u001b[38;2;248;248;242;48;2;39;40;34mtime_out_url\u001b[0m\u001b[38;2;248;248;242;48;2;39;40;34m)\u001b[0m\u001b[48;2;39;40;34m                                                             \u001b[0m  \n",
       "  \u001b[38;2;248;248;242;48;2;39;40;34mprint\u001b[0m\u001b[38;2;248;248;242;48;2;39;40;34m(\u001b[0m\u001b[38;2;230;219;116;48;2;39;40;34m\"\u001b[0m\u001b[38;2;230;219;116;48;2;39;40;34mTime Out Playlist Results:\u001b[0m\u001b[38;2;174;129;255;48;2;39;40;34m\\n\u001b[0m\u001b[38;2;230;219;116;48;2;39;40;34m\"\u001b[0m\u001b[38;2;248;248;242;48;2;39;40;34m \u001b[0m\u001b[38;2;255;70;137;48;2;39;40;34m+\u001b[0m\u001b[38;2;248;248;242;48;2;39;40;34m \u001b[0m\u001b[38;2;248;248;242;48;2;39;40;34mtime_out_playlist\u001b[0m\u001b[38;2;248;248;242;48;2;39;40;34m \u001b[0m\u001b[38;2;255;70;137;48;2;39;40;34m+\u001b[0m\u001b[38;2;248;248;242;48;2;39;40;34m \u001b[0m\u001b[38;2;230;219;116;48;2;39;40;34m\"\u001b[0m\u001b[38;2;174;129;255;48;2;39;40;34m\\n\u001b[0m\u001b[38;2;230;219;116;48;2;39;40;34m\"\u001b[0m\u001b[38;2;248;248;242;48;2;39;40;34m)\u001b[0m\u001b[48;2;39;40;34m                                               \u001b[0m  \n",
       "  \u001b[48;2;39;40;34m                                                                                                               \u001b[0m  \n",
       "  \u001b[38;2;149;144;119;48;2;39;40;34m# Visit Spotify URL for specific songs\u001b[0m\u001b[48;2;39;40;34m                                                                         \u001b[0m  \n",
       "  \u001b[38;2;248;248;242;48;2;39;40;34mspotify_url\u001b[0m\u001b[38;2;248;248;242;48;2;39;40;34m \u001b[0m\u001b[38;2;255;70;137;48;2;39;40;34m=\u001b[0m\u001b[38;2;248;248;242;48;2;39;40;34m \u001b[0m\u001b[38;2;230;219;116;48;2;39;40;34m\"\u001b[0m\u001b[38;2;230;219;116;48;2;39;40;34mhttps://open.spotify.com/playlist/4J61XoHr2CINqRA1DV0ga7\u001b[0m\u001b[38;2;230;219;116;48;2;39;40;34m\"\u001b[0m\u001b[48;2;39;40;34m                                       \u001b[0m  \n",
       "  \u001b[38;2;248;248;242;48;2;39;40;34mspotify_playlist\u001b[0m\u001b[38;2;248;248;242;48;2;39;40;34m \u001b[0m\u001b[38;2;255;70;137;48;2;39;40;34m=\u001b[0m\u001b[38;2;248;248;242;48;2;39;40;34m \u001b[0m\u001b[38;2;248;248;242;48;2;39;40;34mweb_search\u001b[0m\u001b[38;2;248;248;242;48;2;39;40;34m(\u001b[0m\u001b[38;2;248;248;242;48;2;39;40;34mquery\u001b[0m\u001b[38;2;255;70;137;48;2;39;40;34m=\u001b[0m\u001b[38;2;248;248;242;48;2;39;40;34mspotify_url\u001b[0m\u001b[38;2;248;248;242;48;2;39;40;34m)\u001b[0m\u001b[48;2;39;40;34m                                                               \u001b[0m  \n",
       "  \u001b[38;2;248;248;242;48;2;39;40;34mprint\u001b[0m\u001b[38;2;248;248;242;48;2;39;40;34m(\u001b[0m\u001b[38;2;230;219;116;48;2;39;40;34m\"\u001b[0m\u001b[38;2;230;219;116;48;2;39;40;34mSpotify Playlist Results:\u001b[0m\u001b[38;2;174;129;255;48;2;39;40;34m\\n\u001b[0m\u001b[38;2;230;219;116;48;2;39;40;34m\"\u001b[0m\u001b[38;2;248;248;242;48;2;39;40;34m \u001b[0m\u001b[38;2;255;70;137;48;2;39;40;34m+\u001b[0m\u001b[38;2;248;248;242;48;2;39;40;34m \u001b[0m\u001b[38;2;248;248;242;48;2;39;40;34mspotify_playlist\u001b[0m\u001b[38;2;248;248;242;48;2;39;40;34m \u001b[0m\u001b[38;2;255;70;137;48;2;39;40;34m+\u001b[0m\u001b[38;2;248;248;242;48;2;39;40;34m \u001b[0m\u001b[38;2;230;219;116;48;2;39;40;34m\"\u001b[0m\u001b[38;2;174;129;255;48;2;39;40;34m\\n\u001b[0m\u001b[38;2;230;219;116;48;2;39;40;34m\"\u001b[0m\u001b[38;2;248;248;242;48;2;39;40;34m)\u001b[0m\u001b[48;2;39;40;34m                                                 \u001b[0m  \n",
       " ───────────────────────────────────────────────────────────────────────────────────────────────────────────────── \n"
      ]
     },
     "metadata": {},
     "output_type": "display_data"
    },
    {
     "data": {
      "text/html": [
       "<pre style=\"white-space:pre;overflow-x:auto;line-height:normal;font-family:Menlo,'DejaVu Sans Mono',consolas,'Courier New',monospace\"><span style=\"font-weight: bold\">Execution logs:</span>\n",
       "Time Out Playlist Results:\n",
       "## Search Results\n",
       "\n",
       "[Dance-party playlist: 100 greatest songs for an epic party - Time \n",
       "Out](https://www.timeout.com/music/dance-party-playlist-100-greatest-songs-for-an-epic-party)\n",
       "Dance-party playlist: 100 greatest songs for an epic party House party, BBQ, wedding party or just a bedroom disco,\n",
       "we have the party playlist you need to get the place moving. Tuesday 16 July 2013\n",
       "\n",
       "[40 Best Party Songs | Songs To Dance To, Ranked By Our Editors - Time \n",
       "Out](https://www.timeout.com/music/best-party-songs)\n",
       "'Party songs' are a broad genre, and throughout the eras, they've come in all shapes, sizes and vibes. However, for\n",
       "a song to be a proper, hip-shaking party song, there are some rules: it ...\n",
       "\n",
       "[Time Out Music 2025: Best Playlists, Songs, Artists and News](https://www.timeout.com/music)\n",
       "Music; Time Out Market; Worldwide. London; New York; Paris; ... The 100 best party songs ever made. ... Some songs \n",
       "make you dance. Some songs make you want to profess your love.\n",
       "\n",
       "[Epic Throwback Dance Party Music Hits - Great Party Songs Playlist \n",
       "...](https://www.youtube.com/playlist?list=PLo3pNg0eiPc8JUUx00k36HyUzNh14cEpa)\n",
       "Epic Throwback Dance Party Music Hits - Great Party Songs Playlist (Updated Weekly 2024) Find our playlist with \n",
       "these keywords: If you liked this playlist, w...\n",
       "\n",
       "[TIME OUT NEW YORK : 100 greatest songs for an epic \n",
       "party](https://www.acclaimedmusic.net/forums/viewtopic.php?t=1232)\n",
       "Even though it says \"dance-party playlist,\" it's not a list of dance songs; so it's not really a music-genre list, \n",
       "just that they're the source's selections for an \"epic party.\" And it's a decent amount of contributors.\n",
       "\n",
       "[Dance Music Mix 2024 Greatest Party Songs - YouTube](https://www.youtube.com/watch?v=WPd3UF55D1A)\n",
       "♪ Discover the Playlist: Youtube: https://globl.re/aUzPG Spotify: https://globl.re/LIZyN Subscribe @ \n",
       "YouTubehttps://globl.re/subscribe Global Records Onlin...\n",
       "\n",
       "[The 100 Best Party Songs Ever Made (Timeout) - List \n",
       "Challenges](https://www.listchallenges.com/the-100-best-party-songs-ever-made-timeout)\n",
       "The 100 Best Party Songs Ever Made (Timeout) ... if none of your guests will know a song, it doesn't make it onto \n",
       "the playlist. This playlist of classic party tunes is sure to get everyone moving in an explosion of joyful, \n",
       "fevered dancing. There are some pop favourites, a few karaoke classics, and some all-round happy songs. ... Hit \n",
       "play on ...\n",
       "\n",
       "[Party music mix ~ Songs to play in the party ~ Best songs ... - \n",
       "YouTube](https://www.youtube.com/watch?v=Fhkkz8OF5Cg)\n",
       "Party music mix ~ Songs to play in the party ~ Best songs that make you dance #2#ACvibes #partymusic #dancesongs💞 \n",
       "Donate for A.C Vibes: https://bit.ly/paypa...\n",
       "\n",
       "[The 101 Best Party Songs Of All Time - Music Grotto](https://www.musicgrotto.com/best-party-songs/)\n",
       "The song was released in 1997 by Thomas Bangalter and Guy-Manuel de Homem-Christo of Daft Punk. Like many of Daft \n",
       "Punk's songs, it's remained relevant, and the song took the 12th spot on a 2021 Billboard list of the hottest dance\n",
       "and electronic songs. Next: Best 90s dance songs (our picks) 17. \"Uptown Funk\" - Bruno Mars\n",
       "\n",
       "[Best Songs To Party: DJ's Ultimate Party Songs Playlist - \n",
       "Top40Weekly.com](https://top40weekly.com/best-songs-to-party/)\n",
       "Don't forget the music! We've compiled the best songs to party that are sure to get everyone in the mood to dance \n",
       "and have a good time. ... sure to turn any gathering into an epic party experience. 35 - \"Gangnam Style\" by PSY ...\n",
       "Lady Gaga's \"Just Dance\" is a hit that remains a go-to choice for worldwide party playlists. This dance ...\n",
       "\n",
       "Spotify Playlist Results:\n",
       "## Search Results\n",
       "\n",
       "[Spotify - Web Player: Music for everyone](https://open.spotify.com/)\n",
       "Spotify is a digital music service that gives you access to millions of songs. What do you want to play? ... \n",
       "Premium Support Download. Install App. Sign up Log in. Your Library. Create your first playlist It's easy, we'll \n",
       "help you. Create playlist. Let's find some podcasts to follow We'll keep you updated on new episodes. Browse \n",
       "podcasts ...\n",
       "\n",
       "[https://open.spotify.com/playlist/6AxNc0SbjdN6esFvAxtPxo?si \n",
       "...](https://open.spotify.com/playlist/7izwCPdCXVwLqD5hCwNh0H)\n",
       "Playlist · Daud Nur Hidayat · 316 items · 1.3K saves\n",
       "\n",
       "[Find playlists on Spotify - Spotify](https://support.spotify.com/to/article/find-playlists/)\n",
       "Enjoy the millions of playlists created by Spotify for you, and by artists and other listeners worldwide. Made for \n",
       "you. Spotify makes playlists based on your listening habits (what you like, share, save, skip) and the listening \n",
       "habits of others with similar taste. Find Made For You playlists in Home. Select Made For You in Search .\n",
       "\n",
       "[This Is Jin - playlist by Spotify | Spotify](https://open.spotify.com/playlist/37i9dQZF1DX9ROcoR0cTZM)\n",
       "Playlist · This Is Jin · 20 items · 246 saves. Playlist · Spotify · 20 items · 246 saves. Sign up Log in. Resize \n",
       "main navigation.\n",
       "\n",
       "[Soirée - Top 50 Songs | Spotify Playlist](https://open.spotify.com/playlist/37i9dQZF1DX4Vd1jJ7X9H8)\n",
       "Spotify may collect and share some of your personal data associated with this browser or device with some of our \n",
       "partners for certain purposes such as targeted advertising on their platforms. For example, we may share your \n",
       "cookie data with a marketing partner to inform you of one of our latest promotions while you are on their platform.\n",
       "\n",
       "[for you. - playlist by Spotify | Spotify](https://open.spotify.com/playlist/37i9dQZF1DWZdLqpoFOt65)\n",
       "Playlist · Spotify · 70 items · 297.6K saves ... Playlist · for you. · 70 items · 297.6K saves. Playlist · Spotify \n",
       "· 70 items · 297.6K saves. Sign up Log in. Your Library. English. Resize main navigation. Preview of Spotify. Sign \n",
       "up to get unlimited songs and podcasts with occasional ads. No credit card needed.\n",
       "\n",
       "[Spotify - Web Player](https://open.spotify.com/user/spotify_my/playlists)\n",
       "Resize main navigation. Resize main navigation\n",
       "\n",
       "[Spotify Playlist Downloader - Download Spotify Playlists to MP3 \n",
       "...](https://spotidl.com/spotify-playlist-downloader)\n",
       "Key Features. Download Entire Playlists: Easily download entire Spotify playlists with a single click, ensuring you\n",
       "have access to all your favorite tracks offline. Convert to MP3: Convert your Spotify playlists to MP3 format, \n",
       "compatible with any music player or device. High-Quality Audio: Maintain the original quality of your music files, \n",
       "ensuring the best listening experience.\n",
       "\n",
       "[Login - Spotify](https://accounts.spotify.com/en/login)\n",
       "Log in to Spotify. Continue with Google; Continue with Facebook; Continue with Apple\n",
       "\n",
       "[Spotify Webbys](https://www.webplayer.byspotify.com/)\n",
       "The Spotify Web Player gives listeners access to the world's music, podcasts and audiobooks on a single platform. \n",
       "With deep personalization, powerful curation, and AI features. Find all your favorite albums and playlists, listen \n",
       "to some of your favorite authors' works, and tune into original podcasts.\n",
       "\n",
       "\n",
       "Out: None\n",
       "</pre>\n"
      ],
      "text/plain": [
       "\u001b[1mExecution logs:\u001b[0m\n",
       "Time Out Playlist Results:\n",
       "## Search Results\n",
       "\n",
       "[Dance-party playlist: 100 greatest songs for an epic party - Time \n",
       "Out](https://www.timeout.com/music/dance-party-playlist-100-greatest-songs-for-an-epic-party)\n",
       "Dance-party playlist: 100 greatest songs for an epic party House party, BBQ, wedding party or just a bedroom disco,\n",
       "we have the party playlist you need to get the place moving. Tuesday 16 July 2013\n",
       "\n",
       "[40 Best Party Songs | Songs To Dance To, Ranked By Our Editors - Time \n",
       "Out](https://www.timeout.com/music/best-party-songs)\n",
       "'Party songs' are a broad genre, and throughout the eras, they've come in all shapes, sizes and vibes. However, for\n",
       "a song to be a proper, hip-shaking party song, there are some rules: it ...\n",
       "\n",
       "[Time Out Music 2025: Best Playlists, Songs, Artists and News](https://www.timeout.com/music)\n",
       "Music; Time Out Market; Worldwide. London; New York; Paris; ... The 100 best party songs ever made. ... Some songs \n",
       "make you dance. Some songs make you want to profess your love.\n",
       "\n",
       "[Epic Throwback Dance Party Music Hits - Great Party Songs Playlist \n",
       "...](https://www.youtube.com/playlist?list=PLo3pNg0eiPc8JUUx00k36HyUzNh14cEpa)\n",
       "Epic Throwback Dance Party Music Hits - Great Party Songs Playlist (Updated Weekly 2024) Find our playlist with \n",
       "these keywords: If you liked this playlist, w...\n",
       "\n",
       "[TIME OUT NEW YORK : 100 greatest songs for an epic \n",
       "party](https://www.acclaimedmusic.net/forums/viewtopic.php?t=1232)\n",
       "Even though it says \"dance-party playlist,\" it's not a list of dance songs; so it's not really a music-genre list, \n",
       "just that they're the source's selections for an \"epic party.\" And it's a decent amount of contributors.\n",
       "\n",
       "[Dance Music Mix 2024 Greatest Party Songs - YouTube](https://www.youtube.com/watch?v=WPd3UF55D1A)\n",
       "♪ Discover the Playlist: Youtube: https://globl.re/aUzPG Spotify: https://globl.re/LIZyN Subscribe @ \n",
       "YouTubehttps://globl.re/subscribe Global Records Onlin...\n",
       "\n",
       "[The 100 Best Party Songs Ever Made (Timeout) - List \n",
       "Challenges](https://www.listchallenges.com/the-100-best-party-songs-ever-made-timeout)\n",
       "The 100 Best Party Songs Ever Made (Timeout) ... if none of your guests will know a song, it doesn't make it onto \n",
       "the playlist. This playlist of classic party tunes is sure to get everyone moving in an explosion of joyful, \n",
       "fevered dancing. There are some pop favourites, a few karaoke classics, and some all-round happy songs. ... Hit \n",
       "play on ...\n",
       "\n",
       "[Party music mix ~ Songs to play in the party ~ Best songs ... - \n",
       "YouTube](https://www.youtube.com/watch?v=Fhkkz8OF5Cg)\n",
       "Party music mix ~ Songs to play in the party ~ Best songs that make you dance #2#ACvibes #partymusic #dancesongs💞 \n",
       "Donate for A.C Vibes: https://bit.ly/paypa...\n",
       "\n",
       "[The 101 Best Party Songs Of All Time - Music Grotto](https://www.musicgrotto.com/best-party-songs/)\n",
       "The song was released in 1997 by Thomas Bangalter and Guy-Manuel de Homem-Christo of Daft Punk. Like many of Daft \n",
       "Punk's songs, it's remained relevant, and the song took the 12th spot on a 2021 Billboard list of the hottest dance\n",
       "and electronic songs. Next: Best 90s dance songs (our picks) 17. \"Uptown Funk\" - Bruno Mars\n",
       "\n",
       "[Best Songs To Party: DJ's Ultimate Party Songs Playlist - \n",
       "Top40Weekly.com](https://top40weekly.com/best-songs-to-party/)\n",
       "Don't forget the music! We've compiled the best songs to party that are sure to get everyone in the mood to dance \n",
       "and have a good time. ... sure to turn any gathering into an epic party experience. 35 - \"Gangnam Style\" by PSY ...\n",
       "Lady Gaga's \"Just Dance\" is a hit that remains a go-to choice for worldwide party playlists. This dance ...\n",
       "\n",
       "Spotify Playlist Results:\n",
       "## Search Results\n",
       "\n",
       "[Spotify - Web Player: Music for everyone](https://open.spotify.com/)\n",
       "Spotify is a digital music service that gives you access to millions of songs. What do you want to play? ... \n",
       "Premium Support Download. Install App. Sign up Log in. Your Library. Create your first playlist It's easy, we'll \n",
       "help you. Create playlist. Let's find some podcasts to follow We'll keep you updated on new episodes. Browse \n",
       "podcasts ...\n",
       "\n",
       "[https://open.spotify.com/playlist/6AxNc0SbjdN6esFvAxtPxo?si \n",
       "...](https://open.spotify.com/playlist/7izwCPdCXVwLqD5hCwNh0H)\n",
       "Playlist · Daud Nur Hidayat · 316 items · 1.3K saves\n",
       "\n",
       "[Find playlists on Spotify - Spotify](https://support.spotify.com/to/article/find-playlists/)\n",
       "Enjoy the millions of playlists created by Spotify for you, and by artists and other listeners worldwide. Made for \n",
       "you. Spotify makes playlists based on your listening habits (what you like, share, save, skip) and the listening \n",
       "habits of others with similar taste. Find Made For You playlists in Home. Select Made For You in Search .\n",
       "\n",
       "[This Is Jin - playlist by Spotify | Spotify](https://open.spotify.com/playlist/37i9dQZF1DX9ROcoR0cTZM)\n",
       "Playlist · This Is Jin · 20 items · 246 saves. Playlist · Spotify · 20 items · 246 saves. Sign up Log in. Resize \n",
       "main navigation.\n",
       "\n",
       "[Soirée - Top 50 Songs | Spotify Playlist](https://open.spotify.com/playlist/37i9dQZF1DX4Vd1jJ7X9H8)\n",
       "Spotify may collect and share some of your personal data associated with this browser or device with some of our \n",
       "partners for certain purposes such as targeted advertising on their platforms. For example, we may share your \n",
       "cookie data with a marketing partner to inform you of one of our latest promotions while you are on their platform.\n",
       "\n",
       "[for you. - playlist by Spotify | Spotify](https://open.spotify.com/playlist/37i9dQZF1DWZdLqpoFOt65)\n",
       "Playlist · Spotify · 70 items · 297.6K saves ... Playlist · for you. · 70 items · 297.6K saves. Playlist · Spotify \n",
       "· 70 items · 297.6K saves. Sign up Log in. Your Library. English. Resize main navigation. Preview of Spotify. Sign \n",
       "up to get unlimited songs and podcasts with occasional ads. No credit card needed.\n",
       "\n",
       "[Spotify - Web Player](https://open.spotify.com/user/spotify_my/playlists)\n",
       "Resize main navigation. Resize main navigation\n",
       "\n",
       "[Spotify Playlist Downloader - Download Spotify Playlists to MP3 \n",
       "...](https://spotidl.com/spotify-playlist-downloader)\n",
       "Key Features. Download Entire Playlists: Easily download entire Spotify playlists with a single click, ensuring you\n",
       "have access to all your favorite tracks offline. Convert to MP3: Convert your Spotify playlists to MP3 format, \n",
       "compatible with any music player or device. High-Quality Audio: Maintain the original quality of your music files, \n",
       "ensuring the best listening experience.\n",
       "\n",
       "[Login - Spotify](https://accounts.spotify.com/en/login)\n",
       "Log in to Spotify. Continue with Google; Continue with Facebook; Continue with Apple\n",
       "\n",
       "[Spotify Webbys](https://www.webplayer.byspotify.com/)\n",
       "The Spotify Web Player gives listeners access to the world's music, podcasts and audiobooks on a single platform. \n",
       "With deep personalization, powerful curation, and AI features. Find all your favorite albums and playlists, listen \n",
       "to some of your favorite authors' works, and tune into original podcasts.\n",
       "\n",
       "\n",
       "Out: None\n"
      ]
     },
     "metadata": {},
     "output_type": "display_data"
    },
    {
     "data": {
      "text/html": [
       "<pre style=\"white-space:pre;overflow-x:auto;line-height:normal;font-family:Menlo,'DejaVu Sans Mono',consolas,'Courier New',monospace\"><span style=\"color: #7f7f7f; text-decoration-color: #7f7f7f\">[Step 2: Duration 27.32 seconds| Input tokens: 12,432 | Output tokens: 506]</span>\n",
       "</pre>\n"
      ],
      "text/plain": [
       "\u001b[2m[Step 2: Duration 27.32 seconds| Input tokens: 12,432 | Output tokens: 506]\u001b[0m\n"
      ]
     },
     "metadata": {},
     "output_type": "display_data"
    },
    {
     "data": {
      "text/html": [
       "<pre style=\"white-space:pre;overflow-x:auto;line-height:normal;font-family:Menlo,'DejaVu Sans Mono',consolas,'Courier New',monospace\"><span style=\"color: #d4b702; text-decoration-color: #d4b702\">━━━━━━━━━━━━━━━━━━━━━━━━━━━━━━━━━━━━━━━━━━━━━━━━━━━━━ </span><span style=\"font-weight: bold\">Step </span><span style=\"color: #008080; text-decoration-color: #008080; font-weight: bold\">4</span><span style=\"color: #d4b702; text-decoration-color: #d4b702\"> ━━━━━━━━━━━━━━━━━━━━━━━━━━━━━━━━━━━━━━━━━━━━━━━━━━━━━━</span>\n",
       "</pre>\n"
      ],
      "text/plain": [
       "\u001b[38;2;212;183;2m━━━━━━━━━━━━━━━━━━━━━━━━━━━━━━━━━━━━━━━━━━━━━━━━━━━━━ \u001b[0m\u001b[1mStep \u001b[0m\u001b[1;36m4\u001b[0m\u001b[38;2;212;183;2m ━━━━━━━━━━━━━━━━━━━━━━━━━━━━━━━━━━━━━━━━━━━━━━━━━━━━━━\u001b[0m\n"
      ]
     },
     "metadata": {},
     "output_type": "display_data"
    },
    {
     "data": {
      "text/html": [
       "<pre style=\"white-space:pre;overflow-x:auto;line-height:normal;font-family:Menlo,'DejaVu Sans Mono',consolas,'Courier New',monospace\"> ─ <span style=\"font-weight: bold\">Executing parsed code:</span> ──────────────────────────────────────────────────────────────────────────────────────── \n",
       "  <span style=\"color: #959077; text-decoration-color: #959077; background-color: #272822\"># Get specific songs from Timeout URL</span><span style=\"background-color: #272822\">                                                                          </span>  \n",
       "  <span style=\"color: #f8f8f2; text-decoration-color: #f8f8f2; background-color: #272822\">timeout_songs </span><span style=\"color: #ff4689; text-decoration-color: #ff4689; background-color: #272822\">=</span><span style=\"color: #f8f8f2; text-decoration-color: #f8f8f2; background-color: #272822\"> web_search(query</span><span style=\"color: #ff4689; text-decoration-color: #ff4689; background-color: #272822\">=</span><span style=\"color: #e6db74; text-decoration-color: #e6db74; background-color: #272822\">\"https://www.timeout.com/music/best-party-songs\"</span><span style=\"color: #f8f8f2; text-decoration-color: #f8f8f2; background-color: #272822\">)</span><span style=\"background-color: #272822\">                             </span>  \n",
       "  <span style=\"color: #f8f8f2; text-decoration-color: #f8f8f2; background-color: #272822\">timeout_songs </span><span style=\"color: #ff4689; text-decoration-color: #ff4689; background-color: #272822\">=</span><span style=\"color: #f8f8f2; text-decoration-color: #f8f8f2; background-color: #272822\"> timeout_songs</span><span style=\"color: #ff4689; text-decoration-color: #ff4689; background-color: #272822\">.</span><span style=\"color: #f8f8f2; text-decoration-color: #f8f8f2; background-color: #272822\">split(</span><span style=\"color: #e6db74; text-decoration-color: #e6db74; background-color: #272822\">'</span><span style=\"color: #ae81ff; text-decoration-color: #ae81ff; background-color: #272822\">\\n</span><span style=\"color: #e6db74; text-decoration-color: #e6db74; background-color: #272822\">'</span><span style=\"color: #f8f8f2; text-decoration-color: #f8f8f2; background-color: #272822\">)[</span><span style=\"color: #ae81ff; text-decoration-color: #ae81ff; background-color: #272822\">1</span><span style=\"color: #f8f8f2; text-decoration-color: #f8f8f2; background-color: #272822\">:</span><span style=\"color: #ae81ff; text-decoration-color: #ae81ff; background-color: #272822\">30</span><span style=\"color: #f8f8f2; text-decoration-color: #f8f8f2; background-color: #272822\">]  </span><span style=\"color: #959077; text-decoration-color: #959077; background-color: #272822\"># Take first 30 lines for quick parsing</span><span style=\"background-color: #272822\">                       </span>  \n",
       "  <span style=\"color: #f8f8f2; text-decoration-color: #f8f8f2; background-color: #272822\">timeout_song_list </span><span style=\"color: #ff4689; text-decoration-color: #ff4689; background-color: #272822\">=</span><span style=\"color: #f8f8f2; text-decoration-color: #f8f8f2; background-color: #272822\"> [line </span><span style=\"color: #66d9ef; text-decoration-color: #66d9ef; background-color: #272822\">for</span><span style=\"color: #f8f8f2; text-decoration-color: #f8f8f2; background-color: #272822\"> line </span><span style=\"color: #ff4689; text-decoration-color: #ff4689; background-color: #272822\">in</span><span style=\"color: #f8f8f2; text-decoration-color: #f8f8f2; background-color: #272822\"> timeout_songs </span><span style=\"color: #66d9ef; text-decoration-color: #66d9ef; background-color: #272822\">if</span><span style=\"color: #f8f8f2; text-decoration-color: #f8f8f2; background-color: #272822\"> </span><span style=\"color: #e6db74; text-decoration-color: #e6db74; background-color: #272822\">\" - \"</span><span style=\"color: #f8f8f2; text-decoration-color: #f8f8f2; background-color: #272822\"> </span><span style=\"color: #ff4689; text-decoration-color: #ff4689; background-color: #272822\">in</span><span style=\"color: #f8f8f2; text-decoration-color: #f8f8f2; background-color: #272822\"> line][:</span><span style=\"color: #ae81ff; text-decoration-color: #ae81ff; background-color: #272822\">10</span><span style=\"color: #f8f8f2; text-decoration-color: #f8f8f2; background-color: #272822\">]  </span><span style=\"color: #959077; text-decoration-color: #959077; background-color: #272822\"># Extract top 10 songs</span><span style=\"background-color: #272822\">             </span>  \n",
       "  <span style=\"color: #f8f8f2; text-decoration-color: #f8f8f2; background-color: #272822\">print(</span><span style=\"color: #e6db74; text-decoration-color: #e6db74; background-color: #272822\">\"Timeout Top 10 Songs:</span><span style=\"color: #ae81ff; text-decoration-color: #ae81ff; background-color: #272822\">\\n</span><span style=\"color: #e6db74; text-decoration-color: #e6db74; background-color: #272822\">\"</span><span style=\"color: #f8f8f2; text-decoration-color: #f8f8f2; background-color: #272822\"> </span><span style=\"color: #ff4689; text-decoration-color: #ff4689; background-color: #272822\">+</span><span style=\"color: #f8f8f2; text-decoration-color: #f8f8f2; background-color: #272822\"> </span><span style=\"color: #e6db74; text-decoration-color: #e6db74; background-color: #272822\">\"</span><span style=\"color: #ae81ff; text-decoration-color: #ae81ff; background-color: #272822\">\\n</span><span style=\"color: #e6db74; text-decoration-color: #e6db74; background-color: #272822\">\"</span><span style=\"color: #ff4689; text-decoration-color: #ff4689; background-color: #272822\">.</span><span style=\"color: #f8f8f2; text-decoration-color: #f8f8f2; background-color: #272822\">join(timeout_song_list))</span><span style=\"background-color: #272822\">                                                </span>  \n",
       "  <span style=\"background-color: #272822\">                                                                                                               </span>  \n",
       "  <span style=\"color: #959077; text-decoration-color: #959077; background-color: #272822\"># Get specific songs from Spotify URL</span><span style=\"background-color: #272822\">                                                                          </span>  \n",
       "  <span style=\"color: #f8f8f2; text-decoration-color: #f8f8f2; background-color: #272822\">spotify_songs </span><span style=\"color: #ff4689; text-decoration-color: #ff4689; background-color: #272822\">=</span><span style=\"color: #f8f8f2; text-decoration-color: #f8f8f2; background-color: #272822\"> web_search(query</span><span style=\"color: #ff4689; text-decoration-color: #ff4689; background-color: #272822\">=</span><span style=\"color: #e6db74; text-decoration-color: #e6db74; background-color: #272822\">\"https://open.spotify.com/playlist/4J61XoHr2CINqRA1DV0ga7\"</span><span style=\"color: #f8f8f2; text-decoration-color: #f8f8f2; background-color: #272822\">)</span><span style=\"background-color: #272822\">                   </span>  \n",
       "  <span style=\"color: #f8f8f2; text-decoration-color: #f8f8f2; background-color: #272822\">spotify_songs </span><span style=\"color: #ff4689; text-decoration-color: #ff4689; background-color: #272822\">=</span><span style=\"color: #f8f8f2; text-decoration-color: #f8f8f2; background-color: #272822\"> spotify_songs</span><span style=\"color: #ff4689; text-decoration-color: #ff4689; background-color: #272822\">.</span><span style=\"color: #f8f8f2; text-decoration-color: #f8f8f2; background-color: #272822\">split(</span><span style=\"color: #e6db74; text-decoration-color: #e6db74; background-color: #272822\">'</span><span style=\"color: #ae81ff; text-decoration-color: #ae81ff; background-color: #272822\">\\n</span><span style=\"color: #e6db74; text-decoration-color: #e6db74; background-color: #272822\">'</span><span style=\"color: #f8f8f2; text-decoration-color: #f8f8f2; background-color: #272822\">)[</span><span style=\"color: #ae81ff; text-decoration-color: #ae81ff; background-color: #272822\">1</span><span style=\"color: #f8f8f2; text-decoration-color: #f8f8f2; background-color: #272822\">:</span><span style=\"color: #ae81ff; text-decoration-color: #ae81ff; background-color: #272822\">30</span><span style=\"color: #f8f8f2; text-decoration-color: #f8f8f2; background-color: #272822\">]  </span><span style=\"color: #959077; text-decoration-color: #959077; background-color: #272822\"># Take first 30 lines for quick parsing</span><span style=\"background-color: #272822\">                       </span>  \n",
       "  <span style=\"color: #f8f8f2; text-decoration-color: #f8f8f2; background-color: #272822\">spotify_song_list </span><span style=\"color: #ff4689; text-decoration-color: #ff4689; background-color: #272822\">=</span><span style=\"color: #f8f8f2; text-decoration-color: #f8f8f2; background-color: #272822\"> [line</span><span style=\"color: #ff4689; text-decoration-color: #ff4689; background-color: #272822\">.</span><span style=\"color: #f8f8f2; text-decoration-color: #f8f8f2; background-color: #272822\">strip() </span><span style=\"color: #66d9ef; text-decoration-color: #66d9ef; background-color: #272822\">for</span><span style=\"color: #f8f8f2; text-decoration-color: #f8f8f2; background-color: #272822\"> line </span><span style=\"color: #ff4689; text-decoration-color: #ff4689; background-color: #272822\">in</span><span style=\"color: #f8f8f2; text-decoration-color: #f8f8f2; background-color: #272822\"> spotify_songs </span><span style=\"color: #66d9ef; text-decoration-color: #66d9ef; background-color: #272822\">if</span><span style=\"color: #f8f8f2; text-decoration-color: #f8f8f2; background-color: #272822\"> </span><span style=\"color: #e6db74; text-decoration-color: #e6db74; background-color: #272822\">\" - \"</span><span style=\"color: #f8f8f2; text-decoration-color: #f8f8f2; background-color: #272822\"> </span><span style=\"color: #ff4689; text-decoration-color: #ff4689; background-color: #272822\">in</span><span style=\"color: #f8f8f2; text-decoration-color: #f8f8f2; background-color: #272822\"> line </span><span style=\"color: #ff4689; text-decoration-color: #ff4689; background-color: #272822\">and</span><span style=\"color: #f8f8f2; text-decoration-color: #f8f8f2; background-color: #272822\"> </span><span style=\"color: #ff4689; text-decoration-color: #ff4689; background-color: #272822\">not</span><span style=\"color: #f8f8f2; text-decoration-color: #f8f8f2; background-color: #272822\"> </span><span style=\"color: #e6db74; text-decoration-color: #e6db74; background-color: #272822\">\"Playlist\"</span><span style=\"color: #f8f8f2; text-decoration-color: #f8f8f2; background-color: #272822\"> </span><span style=\"color: #ff4689; text-decoration-color: #ff4689; background-color: #272822\">in</span><span style=\"color: #f8f8f2; text-decoration-color: #f8f8f2; background-color: #272822\"> line][:</span><span style=\"color: #ae81ff; text-decoration-color: #ae81ff; background-color: #272822\">10</span><span style=\"color: #f8f8f2; text-decoration-color: #f8f8f2; background-color: #272822\">]  </span>  \n",
       "  <span style=\"color: #959077; text-decoration-color: #959077; background-color: #272822\"># Extract top 10 songs</span><span style=\"background-color: #272822\">                                                                                         </span>  \n",
       "  <span style=\"color: #f8f8f2; text-decoration-color: #f8f8f2; background-color: #272822\">print(</span><span style=\"color: #e6db74; text-decoration-color: #e6db74; background-color: #272822\">\"</span><span style=\"color: #ae81ff; text-decoration-color: #ae81ff; background-color: #272822\">\\n</span><span style=\"color: #e6db74; text-decoration-color: #e6db74; background-color: #272822\">Spotify Top 10 Songs:</span><span style=\"color: #ae81ff; text-decoration-color: #ae81ff; background-color: #272822\">\\n</span><span style=\"color: #e6db74; text-decoration-color: #e6db74; background-color: #272822\">\"</span><span style=\"color: #f8f8f2; text-decoration-color: #f8f8f2; background-color: #272822\"> </span><span style=\"color: #ff4689; text-decoration-color: #ff4689; background-color: #272822\">+</span><span style=\"color: #f8f8f2; text-decoration-color: #f8f8f2; background-color: #272822\"> </span><span style=\"color: #e6db74; text-decoration-color: #e6db74; background-color: #272822\">\"</span><span style=\"color: #ae81ff; text-decoration-color: #ae81ff; background-color: #272822\">\\n</span><span style=\"color: #e6db74; text-decoration-color: #e6db74; background-color: #272822\">\"</span><span style=\"color: #ff4689; text-decoration-color: #ff4689; background-color: #272822\">.</span><span style=\"color: #f8f8f2; text-decoration-color: #f8f8f2; background-color: #272822\">join(spotify_song_list))</span><span style=\"background-color: #272822\">                                              </span>  \n",
       " ───────────────────────────────────────────────────────────────────────────────────────────────────────────────── \n",
       "</pre>\n"
      ],
      "text/plain": [
       " ─ \u001b[1mExecuting parsed code:\u001b[0m ──────────────────────────────────────────────────────────────────────────────────────── \n",
       "  \u001b[38;2;149;144;119;48;2;39;40;34m# Get specific songs from Timeout URL\u001b[0m\u001b[48;2;39;40;34m                                                                          \u001b[0m  \n",
       "  \u001b[38;2;248;248;242;48;2;39;40;34mtimeout_songs\u001b[0m\u001b[38;2;248;248;242;48;2;39;40;34m \u001b[0m\u001b[38;2;255;70;137;48;2;39;40;34m=\u001b[0m\u001b[38;2;248;248;242;48;2;39;40;34m \u001b[0m\u001b[38;2;248;248;242;48;2;39;40;34mweb_search\u001b[0m\u001b[38;2;248;248;242;48;2;39;40;34m(\u001b[0m\u001b[38;2;248;248;242;48;2;39;40;34mquery\u001b[0m\u001b[38;2;255;70;137;48;2;39;40;34m=\u001b[0m\u001b[38;2;230;219;116;48;2;39;40;34m\"\u001b[0m\u001b[38;2;230;219;116;48;2;39;40;34mhttps://www.timeout.com/music/best-party-songs\u001b[0m\u001b[38;2;230;219;116;48;2;39;40;34m\"\u001b[0m\u001b[38;2;248;248;242;48;2;39;40;34m)\u001b[0m\u001b[48;2;39;40;34m                             \u001b[0m  \n",
       "  \u001b[38;2;248;248;242;48;2;39;40;34mtimeout_songs\u001b[0m\u001b[38;2;248;248;242;48;2;39;40;34m \u001b[0m\u001b[38;2;255;70;137;48;2;39;40;34m=\u001b[0m\u001b[38;2;248;248;242;48;2;39;40;34m \u001b[0m\u001b[38;2;248;248;242;48;2;39;40;34mtimeout_songs\u001b[0m\u001b[38;2;255;70;137;48;2;39;40;34m.\u001b[0m\u001b[38;2;248;248;242;48;2;39;40;34msplit\u001b[0m\u001b[38;2;248;248;242;48;2;39;40;34m(\u001b[0m\u001b[38;2;230;219;116;48;2;39;40;34m'\u001b[0m\u001b[38;2;174;129;255;48;2;39;40;34m\\n\u001b[0m\u001b[38;2;230;219;116;48;2;39;40;34m'\u001b[0m\u001b[38;2;248;248;242;48;2;39;40;34m)\u001b[0m\u001b[38;2;248;248;242;48;2;39;40;34m[\u001b[0m\u001b[38;2;174;129;255;48;2;39;40;34m1\u001b[0m\u001b[38;2;248;248;242;48;2;39;40;34m:\u001b[0m\u001b[38;2;174;129;255;48;2;39;40;34m30\u001b[0m\u001b[38;2;248;248;242;48;2;39;40;34m]\u001b[0m\u001b[38;2;248;248;242;48;2;39;40;34m  \u001b[0m\u001b[38;2;149;144;119;48;2;39;40;34m# Take first 30 lines for quick parsing\u001b[0m\u001b[48;2;39;40;34m                       \u001b[0m  \n",
       "  \u001b[38;2;248;248;242;48;2;39;40;34mtimeout_song_list\u001b[0m\u001b[38;2;248;248;242;48;2;39;40;34m \u001b[0m\u001b[38;2;255;70;137;48;2;39;40;34m=\u001b[0m\u001b[38;2;248;248;242;48;2;39;40;34m \u001b[0m\u001b[38;2;248;248;242;48;2;39;40;34m[\u001b[0m\u001b[38;2;248;248;242;48;2;39;40;34mline\u001b[0m\u001b[38;2;248;248;242;48;2;39;40;34m \u001b[0m\u001b[38;2;102;217;239;48;2;39;40;34mfor\u001b[0m\u001b[38;2;248;248;242;48;2;39;40;34m \u001b[0m\u001b[38;2;248;248;242;48;2;39;40;34mline\u001b[0m\u001b[38;2;248;248;242;48;2;39;40;34m \u001b[0m\u001b[38;2;255;70;137;48;2;39;40;34min\u001b[0m\u001b[38;2;248;248;242;48;2;39;40;34m \u001b[0m\u001b[38;2;248;248;242;48;2;39;40;34mtimeout_songs\u001b[0m\u001b[38;2;248;248;242;48;2;39;40;34m \u001b[0m\u001b[38;2;102;217;239;48;2;39;40;34mif\u001b[0m\u001b[38;2;248;248;242;48;2;39;40;34m \u001b[0m\u001b[38;2;230;219;116;48;2;39;40;34m\"\u001b[0m\u001b[38;2;230;219;116;48;2;39;40;34m - \u001b[0m\u001b[38;2;230;219;116;48;2;39;40;34m\"\u001b[0m\u001b[38;2;248;248;242;48;2;39;40;34m \u001b[0m\u001b[38;2;255;70;137;48;2;39;40;34min\u001b[0m\u001b[38;2;248;248;242;48;2;39;40;34m \u001b[0m\u001b[38;2;248;248;242;48;2;39;40;34mline\u001b[0m\u001b[38;2;248;248;242;48;2;39;40;34m]\u001b[0m\u001b[38;2;248;248;242;48;2;39;40;34m[\u001b[0m\u001b[38;2;248;248;242;48;2;39;40;34m:\u001b[0m\u001b[38;2;174;129;255;48;2;39;40;34m10\u001b[0m\u001b[38;2;248;248;242;48;2;39;40;34m]\u001b[0m\u001b[38;2;248;248;242;48;2;39;40;34m  \u001b[0m\u001b[38;2;149;144;119;48;2;39;40;34m# Extract top 10 songs\u001b[0m\u001b[48;2;39;40;34m             \u001b[0m  \n",
       "  \u001b[38;2;248;248;242;48;2;39;40;34mprint\u001b[0m\u001b[38;2;248;248;242;48;2;39;40;34m(\u001b[0m\u001b[38;2;230;219;116;48;2;39;40;34m\"\u001b[0m\u001b[38;2;230;219;116;48;2;39;40;34mTimeout Top 10 Songs:\u001b[0m\u001b[38;2;174;129;255;48;2;39;40;34m\\n\u001b[0m\u001b[38;2;230;219;116;48;2;39;40;34m\"\u001b[0m\u001b[38;2;248;248;242;48;2;39;40;34m \u001b[0m\u001b[38;2;255;70;137;48;2;39;40;34m+\u001b[0m\u001b[38;2;248;248;242;48;2;39;40;34m \u001b[0m\u001b[38;2;230;219;116;48;2;39;40;34m\"\u001b[0m\u001b[38;2;174;129;255;48;2;39;40;34m\\n\u001b[0m\u001b[38;2;230;219;116;48;2;39;40;34m\"\u001b[0m\u001b[38;2;255;70;137;48;2;39;40;34m.\u001b[0m\u001b[38;2;248;248;242;48;2;39;40;34mjoin\u001b[0m\u001b[38;2;248;248;242;48;2;39;40;34m(\u001b[0m\u001b[38;2;248;248;242;48;2;39;40;34mtimeout_song_list\u001b[0m\u001b[38;2;248;248;242;48;2;39;40;34m)\u001b[0m\u001b[38;2;248;248;242;48;2;39;40;34m)\u001b[0m\u001b[48;2;39;40;34m                                                \u001b[0m  \n",
       "  \u001b[48;2;39;40;34m                                                                                                               \u001b[0m  \n",
       "  \u001b[38;2;149;144;119;48;2;39;40;34m# Get specific songs from Spotify URL\u001b[0m\u001b[48;2;39;40;34m                                                                          \u001b[0m  \n",
       "  \u001b[38;2;248;248;242;48;2;39;40;34mspotify_songs\u001b[0m\u001b[38;2;248;248;242;48;2;39;40;34m \u001b[0m\u001b[38;2;255;70;137;48;2;39;40;34m=\u001b[0m\u001b[38;2;248;248;242;48;2;39;40;34m \u001b[0m\u001b[38;2;248;248;242;48;2;39;40;34mweb_search\u001b[0m\u001b[38;2;248;248;242;48;2;39;40;34m(\u001b[0m\u001b[38;2;248;248;242;48;2;39;40;34mquery\u001b[0m\u001b[38;2;255;70;137;48;2;39;40;34m=\u001b[0m\u001b[38;2;230;219;116;48;2;39;40;34m\"\u001b[0m\u001b[38;2;230;219;116;48;2;39;40;34mhttps://open.spotify.com/playlist/4J61XoHr2CINqRA1DV0ga7\u001b[0m\u001b[38;2;230;219;116;48;2;39;40;34m\"\u001b[0m\u001b[38;2;248;248;242;48;2;39;40;34m)\u001b[0m\u001b[48;2;39;40;34m                   \u001b[0m  \n",
       "  \u001b[38;2;248;248;242;48;2;39;40;34mspotify_songs\u001b[0m\u001b[38;2;248;248;242;48;2;39;40;34m \u001b[0m\u001b[38;2;255;70;137;48;2;39;40;34m=\u001b[0m\u001b[38;2;248;248;242;48;2;39;40;34m \u001b[0m\u001b[38;2;248;248;242;48;2;39;40;34mspotify_songs\u001b[0m\u001b[38;2;255;70;137;48;2;39;40;34m.\u001b[0m\u001b[38;2;248;248;242;48;2;39;40;34msplit\u001b[0m\u001b[38;2;248;248;242;48;2;39;40;34m(\u001b[0m\u001b[38;2;230;219;116;48;2;39;40;34m'\u001b[0m\u001b[38;2;174;129;255;48;2;39;40;34m\\n\u001b[0m\u001b[38;2;230;219;116;48;2;39;40;34m'\u001b[0m\u001b[38;2;248;248;242;48;2;39;40;34m)\u001b[0m\u001b[38;2;248;248;242;48;2;39;40;34m[\u001b[0m\u001b[38;2;174;129;255;48;2;39;40;34m1\u001b[0m\u001b[38;2;248;248;242;48;2;39;40;34m:\u001b[0m\u001b[38;2;174;129;255;48;2;39;40;34m30\u001b[0m\u001b[38;2;248;248;242;48;2;39;40;34m]\u001b[0m\u001b[38;2;248;248;242;48;2;39;40;34m  \u001b[0m\u001b[38;2;149;144;119;48;2;39;40;34m# Take first 30 lines for quick parsing\u001b[0m\u001b[48;2;39;40;34m                       \u001b[0m  \n",
       "  \u001b[38;2;248;248;242;48;2;39;40;34mspotify_song_list\u001b[0m\u001b[38;2;248;248;242;48;2;39;40;34m \u001b[0m\u001b[38;2;255;70;137;48;2;39;40;34m=\u001b[0m\u001b[38;2;248;248;242;48;2;39;40;34m \u001b[0m\u001b[38;2;248;248;242;48;2;39;40;34m[\u001b[0m\u001b[38;2;248;248;242;48;2;39;40;34mline\u001b[0m\u001b[38;2;255;70;137;48;2;39;40;34m.\u001b[0m\u001b[38;2;248;248;242;48;2;39;40;34mstrip\u001b[0m\u001b[38;2;248;248;242;48;2;39;40;34m(\u001b[0m\u001b[38;2;248;248;242;48;2;39;40;34m)\u001b[0m\u001b[38;2;248;248;242;48;2;39;40;34m \u001b[0m\u001b[38;2;102;217;239;48;2;39;40;34mfor\u001b[0m\u001b[38;2;248;248;242;48;2;39;40;34m \u001b[0m\u001b[38;2;248;248;242;48;2;39;40;34mline\u001b[0m\u001b[38;2;248;248;242;48;2;39;40;34m \u001b[0m\u001b[38;2;255;70;137;48;2;39;40;34min\u001b[0m\u001b[38;2;248;248;242;48;2;39;40;34m \u001b[0m\u001b[38;2;248;248;242;48;2;39;40;34mspotify_songs\u001b[0m\u001b[38;2;248;248;242;48;2;39;40;34m \u001b[0m\u001b[38;2;102;217;239;48;2;39;40;34mif\u001b[0m\u001b[38;2;248;248;242;48;2;39;40;34m \u001b[0m\u001b[38;2;230;219;116;48;2;39;40;34m\"\u001b[0m\u001b[38;2;230;219;116;48;2;39;40;34m - \u001b[0m\u001b[38;2;230;219;116;48;2;39;40;34m\"\u001b[0m\u001b[38;2;248;248;242;48;2;39;40;34m \u001b[0m\u001b[38;2;255;70;137;48;2;39;40;34min\u001b[0m\u001b[38;2;248;248;242;48;2;39;40;34m \u001b[0m\u001b[38;2;248;248;242;48;2;39;40;34mline\u001b[0m\u001b[38;2;248;248;242;48;2;39;40;34m \u001b[0m\u001b[38;2;255;70;137;48;2;39;40;34mand\u001b[0m\u001b[38;2;248;248;242;48;2;39;40;34m \u001b[0m\u001b[38;2;255;70;137;48;2;39;40;34mnot\u001b[0m\u001b[38;2;248;248;242;48;2;39;40;34m \u001b[0m\u001b[38;2;230;219;116;48;2;39;40;34m\"\u001b[0m\u001b[38;2;230;219;116;48;2;39;40;34mPlaylist\u001b[0m\u001b[38;2;230;219;116;48;2;39;40;34m\"\u001b[0m\u001b[38;2;248;248;242;48;2;39;40;34m \u001b[0m\u001b[38;2;255;70;137;48;2;39;40;34min\u001b[0m\u001b[38;2;248;248;242;48;2;39;40;34m \u001b[0m\u001b[38;2;248;248;242;48;2;39;40;34mline\u001b[0m\u001b[38;2;248;248;242;48;2;39;40;34m]\u001b[0m\u001b[38;2;248;248;242;48;2;39;40;34m[\u001b[0m\u001b[38;2;248;248;242;48;2;39;40;34m:\u001b[0m\u001b[38;2;174;129;255;48;2;39;40;34m10\u001b[0m\u001b[38;2;248;248;242;48;2;39;40;34m]\u001b[0m\u001b[38;2;248;248;242;48;2;39;40;34m  \u001b[0m  \n",
       "  \u001b[38;2;149;144;119;48;2;39;40;34m# Extract top 10 songs\u001b[0m\u001b[48;2;39;40;34m                                                                                         \u001b[0m  \n",
       "  \u001b[38;2;248;248;242;48;2;39;40;34mprint\u001b[0m\u001b[38;2;248;248;242;48;2;39;40;34m(\u001b[0m\u001b[38;2;230;219;116;48;2;39;40;34m\"\u001b[0m\u001b[38;2;174;129;255;48;2;39;40;34m\\n\u001b[0m\u001b[38;2;230;219;116;48;2;39;40;34mSpotify Top 10 Songs:\u001b[0m\u001b[38;2;174;129;255;48;2;39;40;34m\\n\u001b[0m\u001b[38;2;230;219;116;48;2;39;40;34m\"\u001b[0m\u001b[38;2;248;248;242;48;2;39;40;34m \u001b[0m\u001b[38;2;255;70;137;48;2;39;40;34m+\u001b[0m\u001b[38;2;248;248;242;48;2;39;40;34m \u001b[0m\u001b[38;2;230;219;116;48;2;39;40;34m\"\u001b[0m\u001b[38;2;174;129;255;48;2;39;40;34m\\n\u001b[0m\u001b[38;2;230;219;116;48;2;39;40;34m\"\u001b[0m\u001b[38;2;255;70;137;48;2;39;40;34m.\u001b[0m\u001b[38;2;248;248;242;48;2;39;40;34mjoin\u001b[0m\u001b[38;2;248;248;242;48;2;39;40;34m(\u001b[0m\u001b[38;2;248;248;242;48;2;39;40;34mspotify_song_list\u001b[0m\u001b[38;2;248;248;242;48;2;39;40;34m)\u001b[0m\u001b[38;2;248;248;242;48;2;39;40;34m)\u001b[0m\u001b[48;2;39;40;34m                                              \u001b[0m  \n",
       " ───────────────────────────────────────────────────────────────────────────────────────────────────────────────── \n"
      ]
     },
     "metadata": {},
     "output_type": "display_data"
    },
    {
     "data": {
      "text/html": [
       "<pre style=\"white-space:pre;overflow-x:auto;line-height:normal;font-family:Menlo,'DejaVu Sans Mono',consolas,'Courier New',monospace\"><span style=\"font-weight: bold\">Execution logs:</span>\n",
       "Timeout Top 10 Songs:\n",
       "[40 Best Party Songs | Songs To Dance To, Ranked By Our Editors - Time \n",
       "Out](https://www.timeout.com/music/best-party-songs)\n",
       "[The 75 Best Party Songs That Will Get Everyone Dancing - \n",
       "Gear4music](https://www.gear4music.com/blog/best-party-songs/)\n",
       "The best party songs 1. \"September\" - Earth, Wind &amp; Fire (1978) Quite possibly the best party song. An infectious \n",
       "mix of funk and soul, \"September\" is celebrated for its upbeat melody and \"ba-dee-ya\" chorus, making it a timeless \n",
       "dance favorite.\n",
       "[The 100 Best Party Songs Ever Made (Timeout) - List \n",
       "Challenges](https://www.listchallenges.com/the-100-best-party-songs-ever-made-timeout)\n",
       "[15 Best Party Songs of All Time - Singersroom.com](https://singersroom.com/w74/best-party-songs-of-all-time/)\n",
       "List of the Top 15 Best Party Songs of All Time. by Samuel Moore. February 1, 2025. in Best Songs Guide. 0. 143. \n",
       "SHARES. ... Good Music - Best Songs by Year (All Genres) 1940 | 1941 | 1942 ...\n",
       "[15 Best Party Songs of All Time - Singersroom.com](https://singersroom.com/w60/best-party-songs-of-all-time/)\n",
       "List of the Top 15 Best Party Songs of All Time. by Edward Tomlin. August 29, 2024. in Best Songs Guide. 0. 194. \n",
       "SHARES. ... Good Music - Best Songs by Year (All Genres) 1940 | 1941 | 1942 ...\n",
       "[Best Songs for a Party - Deezer The Backstage](https://thebackstage-deezer.com/tops/best-song-party/)\n",
       "[Drake and PartyNextDoor's 'Some Sexy Songs 4 U' Is No. 1 - The New York \n",
       "...](https://www.nytimes.com/2025/02/24/arts/music/drake-partynextdoor-some-sexy-songs-4-u-chart.html)\n",
       "\n",
       "Spotify Top 10 Songs:\n",
       "[Spotify - Web Player: Music for everyone](https://open.spotify.com/)\n",
       "[Find playlists on Spotify - Spotify](https://support.spotify.com/to/article/find-playlists/)\n",
       "[Play free on mobile - Spotify - Spotify (US)](https://www.spotify.com/playlists)\n",
       "[This Is Jin - playlist by Spotify | Spotify](https://open.spotify.com/playlist/37i9dQZF1DX9ROcoR0cTZM)\n",
       "[Spotify - Web Player](https://open.spotify.com/collection/playlists++++)\n",
       "[KFM: EP 19 - playlist by Sam Buck - Spotify](https://open.spotify.com/playlist/3eRMOihZwZ769rgscVdppg)\n",
       "\n",
       "Out: None\n",
       "</pre>\n"
      ],
      "text/plain": [
       "\u001b[1mExecution logs:\u001b[0m\n",
       "Timeout Top 10 Songs:\n",
       "[40 Best Party Songs | Songs To Dance To, Ranked By Our Editors - Time \n",
       "Out](https://www.timeout.com/music/best-party-songs)\n",
       "[The 75 Best Party Songs That Will Get Everyone Dancing - \n",
       "Gear4music](https://www.gear4music.com/blog/best-party-songs/)\n",
       "The best party songs 1. \"September\" - Earth, Wind & Fire (1978) Quite possibly the best party song. An infectious \n",
       "mix of funk and soul, \"September\" is celebrated for its upbeat melody and \"ba-dee-ya\" chorus, making it a timeless \n",
       "dance favorite.\n",
       "[The 100 Best Party Songs Ever Made (Timeout) - List \n",
       "Challenges](https://www.listchallenges.com/the-100-best-party-songs-ever-made-timeout)\n",
       "[15 Best Party Songs of All Time - Singersroom.com](https://singersroom.com/w74/best-party-songs-of-all-time/)\n",
       "List of the Top 15 Best Party Songs of All Time. by Samuel Moore. February 1, 2025. in Best Songs Guide. 0. 143. \n",
       "SHARES. ... Good Music - Best Songs by Year (All Genres) 1940 | 1941 | 1942 ...\n",
       "[15 Best Party Songs of All Time - Singersroom.com](https://singersroom.com/w60/best-party-songs-of-all-time/)\n",
       "List of the Top 15 Best Party Songs of All Time. by Edward Tomlin. August 29, 2024. in Best Songs Guide. 0. 194. \n",
       "SHARES. ... Good Music - Best Songs by Year (All Genres) 1940 | 1941 | 1942 ...\n",
       "[Best Songs for a Party - Deezer The Backstage](https://thebackstage-deezer.com/tops/best-song-party/)\n",
       "[Drake and PartyNextDoor's 'Some Sexy Songs 4 U' Is No. 1 - The New York \n",
       "...](https://www.nytimes.com/2025/02/24/arts/music/drake-partynextdoor-some-sexy-songs-4-u-chart.html)\n",
       "\n",
       "Spotify Top 10 Songs:\n",
       "[Spotify - Web Player: Music for everyone](https://open.spotify.com/)\n",
       "[Find playlists on Spotify - Spotify](https://support.spotify.com/to/article/find-playlists/)\n",
       "[Play free on mobile - Spotify - Spotify (US)](https://www.spotify.com/playlists)\n",
       "[This Is Jin - playlist by Spotify | Spotify](https://open.spotify.com/playlist/37i9dQZF1DX9ROcoR0cTZM)\n",
       "[Spotify - Web Player](https://open.spotify.com/collection/playlists++++)\n",
       "[KFM: EP 19 - playlist by Sam Buck - Spotify](https://open.spotify.com/playlist/3eRMOihZwZ769rgscVdppg)\n",
       "\n",
       "Out: None\n"
      ]
     },
     "metadata": {},
     "output_type": "display_data"
    },
    {
     "data": {
      "text/html": [
       "<pre style=\"white-space:pre;overflow-x:auto;line-height:normal;font-family:Menlo,'DejaVu Sans Mono',consolas,'Courier New',monospace\"><span style=\"color: #7f7f7f; text-decoration-color: #7f7f7f\">[Step 3: Duration 21.35 seconds| Input tokens: 21,811 | Output tokens: 838]</span>\n",
       "</pre>\n"
      ],
      "text/plain": [
       "\u001b[2m[Step 3: Duration 21.35 seconds| Input tokens: 21,811 | Output tokens: 838]\u001b[0m\n"
      ]
     },
     "metadata": {},
     "output_type": "display_data"
    },
    {
     "data": {
      "text/html": [
       "<pre style=\"white-space:pre;overflow-x:auto;line-height:normal;font-family:Menlo,'DejaVu Sans Mono',consolas,'Courier New',monospace\"><span style=\"color: #d4b702; text-decoration-color: #d4b702\">━━━━━━━━━━━━━━━━━━━━━━━━━━━━━━━━━━━━━━━━━━━━━━━━━━━━━ </span><span style=\"font-weight: bold\">Step </span><span style=\"color: #008080; text-decoration-color: #008080; font-weight: bold\">5</span><span style=\"color: #d4b702; text-decoration-color: #d4b702\"> ━━━━━━━━━━━━━━━━━━━━━━━━━━━━━━━━━━━━━━━━━━━━━━━━━━━━━━</span>\n",
       "</pre>\n"
      ],
      "text/plain": [
       "\u001b[38;2;212;183;2m━━━━━━━━━━━━━━━━━━━━━━━━━━━━━━━━━━━━━━━━━━━━━━━━━━━━━ \u001b[0m\u001b[1mStep \u001b[0m\u001b[1;36m5\u001b[0m\u001b[38;2;212;183;2m ━━━━━━━━━━━━━━━━━━━━━━━━━━━━━━━━━━━━━━━━━━━━━━━━━━━━━━\u001b[0m\n"
      ]
     },
     "metadata": {},
     "output_type": "display_data"
    },
    {
     "data": {
      "text/html": [
       "<pre style=\"white-space:pre;overflow-x:auto;line-height:normal;font-family:Menlo,'DejaVu Sans Mono',consolas,'Courier New',monospace\"> ─ <span style=\"font-weight: bold\">Executing parsed code:</span> ──────────────────────────────────────────────────────────────────────────────────────── \n",
       "  <span style=\"color: #959077; text-decoration-color: #959077; background-color: #272822\"># Get specific songs from Timeout URL</span><span style=\"background-color: #272822\">                                                                          </span>  \n",
       "  <span style=\"color: #f8f8f2; text-decoration-color: #f8f8f2; background-color: #272822\">timeout_songs </span><span style=\"color: #ff4689; text-decoration-color: #ff4689; background-color: #272822\">=</span><span style=\"color: #f8f8f2; text-decoration-color: #f8f8f2; background-color: #272822\"> </span><span style=\"background-color: #272822\">                                                                                               </span>  \n",
       "  <span style=\"color: #f8f8f2; text-decoration-color: #f8f8f2; background-color: #272822\">web_search(query</span><span style=\"color: #ff4689; text-decoration-color: #ff4689; background-color: #272822\">=</span><span style=\"color: #e6db74; text-decoration-color: #e6db74; background-color: #272822\">\"https://www.timeout.com/music/dance-party-playlist-100-greatest-songs-for-an-epic-party\"</span><span style=\"color: #f8f8f2; text-decoration-color: #f8f8f2; background-color: #272822\">)</span><span style=\"background-color: #272822\">    </span>  \n",
       "  <span style=\"color: #f8f8f2; text-decoration-color: #f8f8f2; background-color: #272822\">timeout_songs </span><span style=\"color: #ff4689; text-decoration-color: #ff4689; background-color: #272822\">=</span><span style=\"color: #f8f8f2; text-decoration-color: #f8f8f2; background-color: #272822\"> [line</span><span style=\"color: #ff4689; text-decoration-color: #ff4689; background-color: #272822\">.</span><span style=\"color: #f8f8f2; text-decoration-color: #f8f8f2; background-color: #272822\">strip() </span><span style=\"color: #66d9ef; text-decoration-color: #66d9ef; background-color: #272822\">for</span><span style=\"color: #f8f8f2; text-decoration-color: #f8f8f2; background-color: #272822\"> line </span><span style=\"color: #ff4689; text-decoration-color: #ff4689; background-color: #272822\">in</span><span style=\"color: #f8f8f2; text-decoration-color: #f8f8f2; background-color: #272822\"> timeout_songs</span><span style=\"color: #ff4689; text-decoration-color: #ff4689; background-color: #272822\">.</span><span style=\"color: #f8f8f2; text-decoration-color: #f8f8f2; background-color: #272822\">split(</span><span style=\"color: #e6db74; text-decoration-color: #e6db74; background-color: #272822\">'</span><span style=\"color: #ae81ff; text-decoration-color: #ae81ff; background-color: #272822\">\\n</span><span style=\"color: #e6db74; text-decoration-color: #e6db74; background-color: #272822\">'</span><span style=\"color: #f8f8f2; text-decoration-color: #f8f8f2; background-color: #272822\">) </span><span style=\"color: #66d9ef; text-decoration-color: #66d9ef; background-color: #272822\">if</span><span style=\"color: #f8f8f2; text-decoration-color: #f8f8f2; background-color: #272822\"> </span><span style=\"color: #e6db74; text-decoration-color: #e6db74; background-color: #272822\">\" - \"</span><span style=\"color: #f8f8f2; text-decoration-color: #f8f8f2; background-color: #272822\"> </span><span style=\"color: #ff4689; text-decoration-color: #ff4689; background-color: #272822\">in</span><span style=\"color: #f8f8f2; text-decoration-color: #f8f8f2; background-color: #272822\"> line </span><span style=\"color: #ff4689; text-decoration-color: #ff4689; background-color: #272822\">and</span><span style=\"color: #f8f8f2; text-decoration-color: #f8f8f2; background-color: #272822\"> any(char</span><span style=\"color: #ff4689; text-decoration-color: #ff4689; background-color: #272822\">.</span><span style=\"color: #f8f8f2; text-decoration-color: #f8f8f2; background-color: #272822\">isdigit() </span><span style=\"color: #66d9ef; text-decoration-color: #66d9ef; background-color: #272822\">for</span>  \n",
       "  <span style=\"color: #f8f8f2; text-decoration-color: #f8f8f2; background-color: #272822\">char </span><span style=\"color: #ff4689; text-decoration-color: #ff4689; background-color: #272822\">in</span><span style=\"color: #f8f8f2; text-decoration-color: #f8f8f2; background-color: #272822\"> line)][:</span><span style=\"color: #ae81ff; text-decoration-color: #ae81ff; background-color: #272822\">10</span><span style=\"color: #f8f8f2; text-decoration-color: #f8f8f2; background-color: #272822\">]  </span><span style=\"color: #959077; text-decoration-color: #959077; background-color: #272822\"># Extract top 10 songs with numbers</span><span style=\"background-color: #272822\">                                                       </span>  \n",
       "  <span style=\"color: #f8f8f2; text-decoration-color: #f8f8f2; background-color: #272822\">print(</span><span style=\"color: #e6db74; text-decoration-color: #e6db74; background-color: #272822\">\"Timeout Top 10 Songs:</span><span style=\"color: #ae81ff; text-decoration-color: #ae81ff; background-color: #272822\">\\n</span><span style=\"color: #e6db74; text-decoration-color: #e6db74; background-color: #272822\">\"</span><span style=\"color: #f8f8f2; text-decoration-color: #f8f8f2; background-color: #272822\"> </span><span style=\"color: #ff4689; text-decoration-color: #ff4689; background-color: #272822\">+</span><span style=\"color: #f8f8f2; text-decoration-color: #f8f8f2; background-color: #272822\"> </span><span style=\"color: #e6db74; text-decoration-color: #e6db74; background-color: #272822\">\"</span><span style=\"color: #ae81ff; text-decoration-color: #ae81ff; background-color: #272822\">\\n</span><span style=\"color: #e6db74; text-decoration-color: #e6db74; background-color: #272822\">\"</span><span style=\"color: #ff4689; text-decoration-color: #ff4689; background-color: #272822\">.</span><span style=\"color: #f8f8f2; text-decoration-color: #f8f8f2; background-color: #272822\">join(timeout_songs))</span><span style=\"background-color: #272822\">                                                    </span>  \n",
       "  <span style=\"background-color: #272822\">                                                                                                               </span>  \n",
       "  <span style=\"color: #959077; text-decoration-color: #959077; background-color: #272822\"># Get specific songs from Spotify URL</span><span style=\"background-color: #272822\">                                                                          </span>  \n",
       "  <span style=\"color: #f8f8f2; text-decoration-color: #f8f8f2; background-color: #272822\">spotify_songs </span><span style=\"color: #ff4689; text-decoration-color: #ff4689; background-color: #272822\">=</span><span style=\"color: #f8f8f2; text-decoration-color: #f8f8f2; background-color: #272822\"> web_search(query</span><span style=\"color: #ff4689; text-decoration-color: #ff4689; background-color: #272822\">=</span><span style=\"color: #e6db74; text-decoration-color: #e6db74; background-color: #272822\">\"Spotify Playlist: Party on, Wayne!\"</span><span style=\"color: #f8f8f2; text-decoration-color: #f8f8f2; background-color: #272822\">)</span><span style=\"background-color: #272822\">                                         </span>  \n",
       "  <span style=\"color: #f8f8f2; text-decoration-color: #f8f8f2; background-color: #272822\">spotify_songs </span><span style=\"color: #ff4689; text-decoration-color: #ff4689; background-color: #272822\">=</span><span style=\"color: #f8f8f2; text-decoration-color: #f8f8f2; background-color: #272822\"> [line</span><span style=\"color: #ff4689; text-decoration-color: #ff4689; background-color: #272822\">.</span><span style=\"color: #f8f8f2; text-decoration-color: #f8f8f2; background-color: #272822\">strip() </span><span style=\"color: #66d9ef; text-decoration-color: #66d9ef; background-color: #272822\">for</span><span style=\"color: #f8f8f2; text-decoration-color: #f8f8f2; background-color: #272822\"> line </span><span style=\"color: #ff4689; text-decoration-color: #ff4689; background-color: #272822\">in</span><span style=\"color: #f8f8f2; text-decoration-color: #f8f8f2; background-color: #272822\"> spotify_songs</span><span style=\"color: #ff4689; text-decoration-color: #ff4689; background-color: #272822\">.</span><span style=\"color: #f8f8f2; text-decoration-color: #f8f8f2; background-color: #272822\">split(</span><span style=\"color: #e6db74; text-decoration-color: #e6db74; background-color: #272822\">'</span><span style=\"color: #ae81ff; text-decoration-color: #ae81ff; background-color: #272822\">\\n</span><span style=\"color: #e6db74; text-decoration-color: #e6db74; background-color: #272822\">'</span><span style=\"color: #f8f8f2; text-decoration-color: #f8f8f2; background-color: #272822\">) </span><span style=\"color: #66d9ef; text-decoration-color: #66d9ef; background-color: #272822\">if</span><span style=\"color: #f8f8f2; text-decoration-color: #f8f8f2; background-color: #272822\"> </span><span style=\"color: #e6db74; text-decoration-color: #e6db74; background-color: #272822\">\" - \"</span><span style=\"color: #f8f8f2; text-decoration-color: #f8f8f2; background-color: #272822\"> </span><span style=\"color: #ff4689; text-decoration-color: #ff4689; background-color: #272822\">in</span><span style=\"color: #f8f8f2; text-decoration-color: #f8f8f2; background-color: #272822\"> line </span><span style=\"color: #ff4689; text-decoration-color: #ff4689; background-color: #272822\">and</span><span style=\"color: #f8f8f2; text-decoration-color: #f8f8f2; background-color: #272822\"> </span><span style=\"color: #ff4689; text-decoration-color: #ff4689; background-color: #272822\">not</span><span style=\"color: #f8f8f2; text-decoration-color: #f8f8f2; background-color: #272822\"> </span><span style=\"color: #e6db74; text-decoration-color: #e6db74; background-color: #272822\">\"Playlist\"</span><span style=\"color: #f8f8f2; text-decoration-color: #f8f8f2; background-color: #272822\"> </span><span style=\"color: #ff4689; text-decoration-color: #ff4689; background-color: #272822\">in</span><span style=\"color: #f8f8f2; text-decoration-color: #f8f8f2; background-color: #272822\"> line</span>  \n",
       "  <span style=\"color: #ff4689; text-decoration-color: #ff4689; background-color: #272822\">and</span><span style=\"color: #f8f8f2; text-decoration-color: #f8f8f2; background-color: #272822\"> </span><span style=\"color: #ff4689; text-decoration-color: #ff4689; background-color: #272822\">not</span><span style=\"color: #f8f8f2; text-decoration-color: #f8f8f2; background-color: #272822\"> </span><span style=\"color: #e6db74; text-decoration-color: #e6db74; background-color: #272822\">\"Spotify\"</span><span style=\"color: #f8f8f2; text-decoration-color: #f8f8f2; background-color: #272822\"> </span><span style=\"color: #ff4689; text-decoration-color: #ff4689; background-color: #272822\">in</span><span style=\"color: #f8f8f2; text-decoration-color: #f8f8f2; background-color: #272822\"> line][:</span><span style=\"color: #ae81ff; text-decoration-color: #ae81ff; background-color: #272822\">10</span><span style=\"color: #f8f8f2; text-decoration-color: #f8f8f2; background-color: #272822\">]  </span><span style=\"color: #959077; text-decoration-color: #959077; background-color: #272822\"># Extract top 10 songs</span><span style=\"background-color: #272822\">                                                        </span>  \n",
       "  <span style=\"color: #f8f8f2; text-decoration-color: #f8f8f2; background-color: #272822\">print(</span><span style=\"color: #e6db74; text-decoration-color: #e6db74; background-color: #272822\">\"</span><span style=\"color: #ae81ff; text-decoration-color: #ae81ff; background-color: #272822\">\\n</span><span style=\"color: #e6db74; text-decoration-color: #e6db74; background-color: #272822\">Spotify Top 10 Songs:</span><span style=\"color: #ae81ff; text-decoration-color: #ae81ff; background-color: #272822\">\\n</span><span style=\"color: #e6db74; text-decoration-color: #e6db74; background-color: #272822\">\"</span><span style=\"color: #f8f8f2; text-decoration-color: #f8f8f2; background-color: #272822\"> </span><span style=\"color: #ff4689; text-decoration-color: #ff4689; background-color: #272822\">+</span><span style=\"color: #f8f8f2; text-decoration-color: #f8f8f2; background-color: #272822\"> </span><span style=\"color: #e6db74; text-decoration-color: #e6db74; background-color: #272822\">\"</span><span style=\"color: #ae81ff; text-decoration-color: #ae81ff; background-color: #272822\">\\n</span><span style=\"color: #e6db74; text-decoration-color: #e6db74; background-color: #272822\">\"</span><span style=\"color: #ff4689; text-decoration-color: #ff4689; background-color: #272822\">.</span><span style=\"color: #f8f8f2; text-decoration-color: #f8f8f2; background-color: #272822\">join(spotify_songs))</span><span style=\"background-color: #272822\">                                                  </span>  \n",
       " ───────────────────────────────────────────────────────────────────────────────────────────────────────────────── \n",
       "</pre>\n"
      ],
      "text/plain": [
       " ─ \u001b[1mExecuting parsed code:\u001b[0m ──────────────────────────────────────────────────────────────────────────────────────── \n",
       "  \u001b[38;2;149;144;119;48;2;39;40;34m# Get specific songs from Timeout URL\u001b[0m\u001b[48;2;39;40;34m                                                                          \u001b[0m  \n",
       "  \u001b[38;2;248;248;242;48;2;39;40;34mtimeout_songs\u001b[0m\u001b[38;2;248;248;242;48;2;39;40;34m \u001b[0m\u001b[38;2;255;70;137;48;2;39;40;34m=\u001b[0m\u001b[38;2;248;248;242;48;2;39;40;34m \u001b[0m\u001b[48;2;39;40;34m                                                                                               \u001b[0m  \n",
       "  \u001b[38;2;248;248;242;48;2;39;40;34mweb_search\u001b[0m\u001b[38;2;248;248;242;48;2;39;40;34m(\u001b[0m\u001b[38;2;248;248;242;48;2;39;40;34mquery\u001b[0m\u001b[38;2;255;70;137;48;2;39;40;34m=\u001b[0m\u001b[38;2;230;219;116;48;2;39;40;34m\"\u001b[0m\u001b[38;2;230;219;116;48;2;39;40;34mhttps://www.timeout.com/music/dance-party-playlist-100-greatest-songs-for-an-epic-party\u001b[0m\u001b[38;2;230;219;116;48;2;39;40;34m\"\u001b[0m\u001b[38;2;248;248;242;48;2;39;40;34m)\u001b[0m\u001b[48;2;39;40;34m    \u001b[0m  \n",
       "  \u001b[38;2;248;248;242;48;2;39;40;34mtimeout_songs\u001b[0m\u001b[38;2;248;248;242;48;2;39;40;34m \u001b[0m\u001b[38;2;255;70;137;48;2;39;40;34m=\u001b[0m\u001b[38;2;248;248;242;48;2;39;40;34m \u001b[0m\u001b[38;2;248;248;242;48;2;39;40;34m[\u001b[0m\u001b[38;2;248;248;242;48;2;39;40;34mline\u001b[0m\u001b[38;2;255;70;137;48;2;39;40;34m.\u001b[0m\u001b[38;2;248;248;242;48;2;39;40;34mstrip\u001b[0m\u001b[38;2;248;248;242;48;2;39;40;34m(\u001b[0m\u001b[38;2;248;248;242;48;2;39;40;34m)\u001b[0m\u001b[38;2;248;248;242;48;2;39;40;34m \u001b[0m\u001b[38;2;102;217;239;48;2;39;40;34mfor\u001b[0m\u001b[38;2;248;248;242;48;2;39;40;34m \u001b[0m\u001b[38;2;248;248;242;48;2;39;40;34mline\u001b[0m\u001b[38;2;248;248;242;48;2;39;40;34m \u001b[0m\u001b[38;2;255;70;137;48;2;39;40;34min\u001b[0m\u001b[38;2;248;248;242;48;2;39;40;34m \u001b[0m\u001b[38;2;248;248;242;48;2;39;40;34mtimeout_songs\u001b[0m\u001b[38;2;255;70;137;48;2;39;40;34m.\u001b[0m\u001b[38;2;248;248;242;48;2;39;40;34msplit\u001b[0m\u001b[38;2;248;248;242;48;2;39;40;34m(\u001b[0m\u001b[38;2;230;219;116;48;2;39;40;34m'\u001b[0m\u001b[38;2;174;129;255;48;2;39;40;34m\\n\u001b[0m\u001b[38;2;230;219;116;48;2;39;40;34m'\u001b[0m\u001b[38;2;248;248;242;48;2;39;40;34m)\u001b[0m\u001b[38;2;248;248;242;48;2;39;40;34m \u001b[0m\u001b[38;2;102;217;239;48;2;39;40;34mif\u001b[0m\u001b[38;2;248;248;242;48;2;39;40;34m \u001b[0m\u001b[38;2;230;219;116;48;2;39;40;34m\"\u001b[0m\u001b[38;2;230;219;116;48;2;39;40;34m - \u001b[0m\u001b[38;2;230;219;116;48;2;39;40;34m\"\u001b[0m\u001b[38;2;248;248;242;48;2;39;40;34m \u001b[0m\u001b[38;2;255;70;137;48;2;39;40;34min\u001b[0m\u001b[38;2;248;248;242;48;2;39;40;34m \u001b[0m\u001b[38;2;248;248;242;48;2;39;40;34mline\u001b[0m\u001b[38;2;248;248;242;48;2;39;40;34m \u001b[0m\u001b[38;2;255;70;137;48;2;39;40;34mand\u001b[0m\u001b[38;2;248;248;242;48;2;39;40;34m \u001b[0m\u001b[38;2;248;248;242;48;2;39;40;34many\u001b[0m\u001b[38;2;248;248;242;48;2;39;40;34m(\u001b[0m\u001b[38;2;248;248;242;48;2;39;40;34mchar\u001b[0m\u001b[38;2;255;70;137;48;2;39;40;34m.\u001b[0m\u001b[38;2;248;248;242;48;2;39;40;34misdigit\u001b[0m\u001b[38;2;248;248;242;48;2;39;40;34m(\u001b[0m\u001b[38;2;248;248;242;48;2;39;40;34m)\u001b[0m\u001b[38;2;248;248;242;48;2;39;40;34m \u001b[0m\u001b[38;2;102;217;239;48;2;39;40;34mfor\u001b[0m  \n",
       "  \u001b[38;2;248;248;242;48;2;39;40;34mchar\u001b[0m\u001b[38;2;248;248;242;48;2;39;40;34m \u001b[0m\u001b[38;2;255;70;137;48;2;39;40;34min\u001b[0m\u001b[38;2;248;248;242;48;2;39;40;34m \u001b[0m\u001b[38;2;248;248;242;48;2;39;40;34mline\u001b[0m\u001b[38;2;248;248;242;48;2;39;40;34m)\u001b[0m\u001b[38;2;248;248;242;48;2;39;40;34m]\u001b[0m\u001b[38;2;248;248;242;48;2;39;40;34m[\u001b[0m\u001b[38;2;248;248;242;48;2;39;40;34m:\u001b[0m\u001b[38;2;174;129;255;48;2;39;40;34m10\u001b[0m\u001b[38;2;248;248;242;48;2;39;40;34m]\u001b[0m\u001b[38;2;248;248;242;48;2;39;40;34m  \u001b[0m\u001b[38;2;149;144;119;48;2;39;40;34m# Extract top 10 songs with numbers\u001b[0m\u001b[48;2;39;40;34m                                                       \u001b[0m  \n",
       "  \u001b[38;2;248;248;242;48;2;39;40;34mprint\u001b[0m\u001b[38;2;248;248;242;48;2;39;40;34m(\u001b[0m\u001b[38;2;230;219;116;48;2;39;40;34m\"\u001b[0m\u001b[38;2;230;219;116;48;2;39;40;34mTimeout Top 10 Songs:\u001b[0m\u001b[38;2;174;129;255;48;2;39;40;34m\\n\u001b[0m\u001b[38;2;230;219;116;48;2;39;40;34m\"\u001b[0m\u001b[38;2;248;248;242;48;2;39;40;34m \u001b[0m\u001b[38;2;255;70;137;48;2;39;40;34m+\u001b[0m\u001b[38;2;248;248;242;48;2;39;40;34m \u001b[0m\u001b[38;2;230;219;116;48;2;39;40;34m\"\u001b[0m\u001b[38;2;174;129;255;48;2;39;40;34m\\n\u001b[0m\u001b[38;2;230;219;116;48;2;39;40;34m\"\u001b[0m\u001b[38;2;255;70;137;48;2;39;40;34m.\u001b[0m\u001b[38;2;248;248;242;48;2;39;40;34mjoin\u001b[0m\u001b[38;2;248;248;242;48;2;39;40;34m(\u001b[0m\u001b[38;2;248;248;242;48;2;39;40;34mtimeout_songs\u001b[0m\u001b[38;2;248;248;242;48;2;39;40;34m)\u001b[0m\u001b[38;2;248;248;242;48;2;39;40;34m)\u001b[0m\u001b[48;2;39;40;34m                                                    \u001b[0m  \n",
       "  \u001b[48;2;39;40;34m                                                                                                               \u001b[0m  \n",
       "  \u001b[38;2;149;144;119;48;2;39;40;34m# Get specific songs from Spotify URL\u001b[0m\u001b[48;2;39;40;34m                                                                          \u001b[0m  \n",
       "  \u001b[38;2;248;248;242;48;2;39;40;34mspotify_songs\u001b[0m\u001b[38;2;248;248;242;48;2;39;40;34m \u001b[0m\u001b[38;2;255;70;137;48;2;39;40;34m=\u001b[0m\u001b[38;2;248;248;242;48;2;39;40;34m \u001b[0m\u001b[38;2;248;248;242;48;2;39;40;34mweb_search\u001b[0m\u001b[38;2;248;248;242;48;2;39;40;34m(\u001b[0m\u001b[38;2;248;248;242;48;2;39;40;34mquery\u001b[0m\u001b[38;2;255;70;137;48;2;39;40;34m=\u001b[0m\u001b[38;2;230;219;116;48;2;39;40;34m\"\u001b[0m\u001b[38;2;230;219;116;48;2;39;40;34mSpotify Playlist: Party on, Wayne!\u001b[0m\u001b[38;2;230;219;116;48;2;39;40;34m\"\u001b[0m\u001b[38;2;248;248;242;48;2;39;40;34m)\u001b[0m\u001b[48;2;39;40;34m                                         \u001b[0m  \n",
       "  \u001b[38;2;248;248;242;48;2;39;40;34mspotify_songs\u001b[0m\u001b[38;2;248;248;242;48;2;39;40;34m \u001b[0m\u001b[38;2;255;70;137;48;2;39;40;34m=\u001b[0m\u001b[38;2;248;248;242;48;2;39;40;34m \u001b[0m\u001b[38;2;248;248;242;48;2;39;40;34m[\u001b[0m\u001b[38;2;248;248;242;48;2;39;40;34mline\u001b[0m\u001b[38;2;255;70;137;48;2;39;40;34m.\u001b[0m\u001b[38;2;248;248;242;48;2;39;40;34mstrip\u001b[0m\u001b[38;2;248;248;242;48;2;39;40;34m(\u001b[0m\u001b[38;2;248;248;242;48;2;39;40;34m)\u001b[0m\u001b[38;2;248;248;242;48;2;39;40;34m \u001b[0m\u001b[38;2;102;217;239;48;2;39;40;34mfor\u001b[0m\u001b[38;2;248;248;242;48;2;39;40;34m \u001b[0m\u001b[38;2;248;248;242;48;2;39;40;34mline\u001b[0m\u001b[38;2;248;248;242;48;2;39;40;34m \u001b[0m\u001b[38;2;255;70;137;48;2;39;40;34min\u001b[0m\u001b[38;2;248;248;242;48;2;39;40;34m \u001b[0m\u001b[38;2;248;248;242;48;2;39;40;34mspotify_songs\u001b[0m\u001b[38;2;255;70;137;48;2;39;40;34m.\u001b[0m\u001b[38;2;248;248;242;48;2;39;40;34msplit\u001b[0m\u001b[38;2;248;248;242;48;2;39;40;34m(\u001b[0m\u001b[38;2;230;219;116;48;2;39;40;34m'\u001b[0m\u001b[38;2;174;129;255;48;2;39;40;34m\\n\u001b[0m\u001b[38;2;230;219;116;48;2;39;40;34m'\u001b[0m\u001b[38;2;248;248;242;48;2;39;40;34m)\u001b[0m\u001b[38;2;248;248;242;48;2;39;40;34m \u001b[0m\u001b[38;2;102;217;239;48;2;39;40;34mif\u001b[0m\u001b[38;2;248;248;242;48;2;39;40;34m \u001b[0m\u001b[38;2;230;219;116;48;2;39;40;34m\"\u001b[0m\u001b[38;2;230;219;116;48;2;39;40;34m - \u001b[0m\u001b[38;2;230;219;116;48;2;39;40;34m\"\u001b[0m\u001b[38;2;248;248;242;48;2;39;40;34m \u001b[0m\u001b[38;2;255;70;137;48;2;39;40;34min\u001b[0m\u001b[38;2;248;248;242;48;2;39;40;34m \u001b[0m\u001b[38;2;248;248;242;48;2;39;40;34mline\u001b[0m\u001b[38;2;248;248;242;48;2;39;40;34m \u001b[0m\u001b[38;2;255;70;137;48;2;39;40;34mand\u001b[0m\u001b[38;2;248;248;242;48;2;39;40;34m \u001b[0m\u001b[38;2;255;70;137;48;2;39;40;34mnot\u001b[0m\u001b[38;2;248;248;242;48;2;39;40;34m \u001b[0m\u001b[38;2;230;219;116;48;2;39;40;34m\"\u001b[0m\u001b[38;2;230;219;116;48;2;39;40;34mPlaylist\u001b[0m\u001b[38;2;230;219;116;48;2;39;40;34m\"\u001b[0m\u001b[38;2;248;248;242;48;2;39;40;34m \u001b[0m\u001b[38;2;255;70;137;48;2;39;40;34min\u001b[0m\u001b[38;2;248;248;242;48;2;39;40;34m \u001b[0m\u001b[38;2;248;248;242;48;2;39;40;34mline\u001b[0m  \n",
       "  \u001b[38;2;255;70;137;48;2;39;40;34mand\u001b[0m\u001b[38;2;248;248;242;48;2;39;40;34m \u001b[0m\u001b[38;2;255;70;137;48;2;39;40;34mnot\u001b[0m\u001b[38;2;248;248;242;48;2;39;40;34m \u001b[0m\u001b[38;2;230;219;116;48;2;39;40;34m\"\u001b[0m\u001b[38;2;230;219;116;48;2;39;40;34mSpotify\u001b[0m\u001b[38;2;230;219;116;48;2;39;40;34m\"\u001b[0m\u001b[38;2;248;248;242;48;2;39;40;34m \u001b[0m\u001b[38;2;255;70;137;48;2;39;40;34min\u001b[0m\u001b[38;2;248;248;242;48;2;39;40;34m \u001b[0m\u001b[38;2;248;248;242;48;2;39;40;34mline\u001b[0m\u001b[38;2;248;248;242;48;2;39;40;34m]\u001b[0m\u001b[38;2;248;248;242;48;2;39;40;34m[\u001b[0m\u001b[38;2;248;248;242;48;2;39;40;34m:\u001b[0m\u001b[38;2;174;129;255;48;2;39;40;34m10\u001b[0m\u001b[38;2;248;248;242;48;2;39;40;34m]\u001b[0m\u001b[38;2;248;248;242;48;2;39;40;34m  \u001b[0m\u001b[38;2;149;144;119;48;2;39;40;34m# Extract top 10 songs\u001b[0m\u001b[48;2;39;40;34m                                                        \u001b[0m  \n",
       "  \u001b[38;2;248;248;242;48;2;39;40;34mprint\u001b[0m\u001b[38;2;248;248;242;48;2;39;40;34m(\u001b[0m\u001b[38;2;230;219;116;48;2;39;40;34m\"\u001b[0m\u001b[38;2;174;129;255;48;2;39;40;34m\\n\u001b[0m\u001b[38;2;230;219;116;48;2;39;40;34mSpotify Top 10 Songs:\u001b[0m\u001b[38;2;174;129;255;48;2;39;40;34m\\n\u001b[0m\u001b[38;2;230;219;116;48;2;39;40;34m\"\u001b[0m\u001b[38;2;248;248;242;48;2;39;40;34m \u001b[0m\u001b[38;2;255;70;137;48;2;39;40;34m+\u001b[0m\u001b[38;2;248;248;242;48;2;39;40;34m \u001b[0m\u001b[38;2;230;219;116;48;2;39;40;34m\"\u001b[0m\u001b[38;2;174;129;255;48;2;39;40;34m\\n\u001b[0m\u001b[38;2;230;219;116;48;2;39;40;34m\"\u001b[0m\u001b[38;2;255;70;137;48;2;39;40;34m.\u001b[0m\u001b[38;2;248;248;242;48;2;39;40;34mjoin\u001b[0m\u001b[38;2;248;248;242;48;2;39;40;34m(\u001b[0m\u001b[38;2;248;248;242;48;2;39;40;34mspotify_songs\u001b[0m\u001b[38;2;248;248;242;48;2;39;40;34m)\u001b[0m\u001b[38;2;248;248;242;48;2;39;40;34m)\u001b[0m\u001b[48;2;39;40;34m                                                  \u001b[0m  \n",
       " ───────────────────────────────────────────────────────────────────────────────────────────────────────────────── \n"
      ]
     },
     "metadata": {},
     "output_type": "display_data"
    },
    {
     "data": {
      "text/html": [
       "<pre style=\"white-space:pre;overflow-x:auto;line-height:normal;font-family:Menlo,'DejaVu Sans Mono',consolas,'Courier New',monospace\"><span style=\"font-weight: bold\">Execution logs:</span>\n",
       "Timeout Top 10 Songs:\n",
       "[Dance-party playlist: 100 greatest songs for an epic party - Time \n",
       "Out](https://www.timeout.com/music/dance-party-playlist-100-greatest-songs-for-an-epic-party)\n",
       "[40 Best Party Songs | Songs To Dance To, Ranked By Our Editors - Time \n",
       "Out](https://www.timeout.com/music/best-party-songs)\n",
       "[Epic Throwback Dance Party Music Hits - Great Party Songs Playlist \n",
       "...](https://www.youtube.com/playlist?list=PLo3pNg0eiPc8JUUx00k36HyUzNh14cEpa)\n",
       "Epic Throwback Dance Party Music Hits - Great Party Songs Playlist (Updated Weekly 2024) Find our playlist with \n",
       "these keywords: If you liked this playlist, w...\n",
       "[Dance Music Mix 2024 Greatest Party Songs - YouTube](https://www.youtube.com/watch?v=WPd3UF55D1A)\n",
       "[The 100 Best Party Songs Ever Made (Timeout) - List \n",
       "Challenges](https://www.listchallenges.com/the-100-best-party-songs-ever-made-timeout)\n",
       "[Party music mix ~ Songs to play in the party ~ Best songs ... - \n",
       "YouTube](https://www.youtube.com/watch?v=Fhkkz8OF5Cg)\n",
       "[The 101 Best Party Songs Of All Time - Music Grotto](https://www.musicgrotto.com/best-party-songs/)\n",
       "The song was released in 1997 by Thomas Bangalter and Guy-Manuel de Homem-Christo of Daft Punk. Like many of Daft \n",
       "Punk's songs, it's remained relevant, and the song took the 12th spot on a 2021 Billboard list of the hottest dance\n",
       "and electronic songs. Next: Best 90s dance songs (our picks) 17. \"Uptown Funk\" - Bruno Mars\n",
       "[Best Songs To Party: DJ's Ultimate Party Songs Playlist - \n",
       "Top40Weekly.com](https://top40weekly.com/best-songs-to-party/)\n",
       "\n",
       "Spotify Top 10 Songs:\n",
       "\n",
       "\n",
       "Out: None\n",
       "</pre>\n"
      ],
      "text/plain": [
       "\u001b[1mExecution logs:\u001b[0m\n",
       "Timeout Top 10 Songs:\n",
       "[Dance-party playlist: 100 greatest songs for an epic party - Time \n",
       "Out](https://www.timeout.com/music/dance-party-playlist-100-greatest-songs-for-an-epic-party)\n",
       "[40 Best Party Songs | Songs To Dance To, Ranked By Our Editors - Time \n",
       "Out](https://www.timeout.com/music/best-party-songs)\n",
       "[Epic Throwback Dance Party Music Hits - Great Party Songs Playlist \n",
       "...](https://www.youtube.com/playlist?list=PLo3pNg0eiPc8JUUx00k36HyUzNh14cEpa)\n",
       "Epic Throwback Dance Party Music Hits - Great Party Songs Playlist (Updated Weekly 2024) Find our playlist with \n",
       "these keywords: If you liked this playlist, w...\n",
       "[Dance Music Mix 2024 Greatest Party Songs - YouTube](https://www.youtube.com/watch?v=WPd3UF55D1A)\n",
       "[The 100 Best Party Songs Ever Made (Timeout) - List \n",
       "Challenges](https://www.listchallenges.com/the-100-best-party-songs-ever-made-timeout)\n",
       "[Party music mix ~ Songs to play in the party ~ Best songs ... - \n",
       "YouTube](https://www.youtube.com/watch?v=Fhkkz8OF5Cg)\n",
       "[The 101 Best Party Songs Of All Time - Music Grotto](https://www.musicgrotto.com/best-party-songs/)\n",
       "The song was released in 1997 by Thomas Bangalter and Guy-Manuel de Homem-Christo of Daft Punk. Like many of Daft \n",
       "Punk's songs, it's remained relevant, and the song took the 12th spot on a 2021 Billboard list of the hottest dance\n",
       "and electronic songs. Next: Best 90s dance songs (our picks) 17. \"Uptown Funk\" - Bruno Mars\n",
       "[Best Songs To Party: DJ's Ultimate Party Songs Playlist - \n",
       "Top40Weekly.com](https://top40weekly.com/best-songs-to-party/)\n",
       "\n",
       "Spotify Top 10 Songs:\n",
       "\n",
       "\n",
       "Out: None\n"
      ]
     },
     "metadata": {},
     "output_type": "display_data"
    },
    {
     "data": {
      "text/html": [
       "<pre style=\"white-space:pre;overflow-x:auto;line-height:normal;font-family:Menlo,'DejaVu Sans Mono',consolas,'Courier New',monospace\"><span style=\"color: #7f7f7f; text-decoration-color: #7f7f7f\">[Step 4: Duration 24.08 seconds| Input tokens: 32,489 | Output tokens: 1,132]</span>\n",
       "</pre>\n"
      ],
      "text/plain": [
       "\u001b[2m[Step 4: Duration 24.08 seconds| Input tokens: 32,489 | Output tokens: 1,132]\u001b[0m\n"
      ]
     },
     "metadata": {},
     "output_type": "display_data"
    },
    {
     "data": {
      "text/html": [
       "<pre style=\"white-space:pre;overflow-x:auto;line-height:normal;font-family:Menlo,'DejaVu Sans Mono',consolas,'Courier New',monospace\"><span style=\"color: #d4b702; text-decoration-color: #d4b702\">━━━━━━━━━━━━━━━━━━━━━━━━━━━━━━━━━━━━━━━━━━━━━━━━━━━━━ </span><span style=\"font-weight: bold\">Step </span><span style=\"color: #008080; text-decoration-color: #008080; font-weight: bold\">6</span><span style=\"color: #d4b702; text-decoration-color: #d4b702\"> ━━━━━━━━━━━━━━━━━━━━━━━━━━━━━━━━━━━━━━━━━━━━━━━━━━━━━━</span>\n",
       "</pre>\n"
      ],
      "text/plain": [
       "\u001b[38;2;212;183;2m━━━━━━━━━━━━━━━━━━━━━━━━━━━━━━━━━━━━━━━━━━━━━━━━━━━━━ \u001b[0m\u001b[1mStep \u001b[0m\u001b[1;36m6\u001b[0m\u001b[38;2;212;183;2m ━━━━━━━━━━━━━━━━━━━━━━━━━━━━━━━━━━━━━━━━━━━━━━━━━━━━━━\u001b[0m\n"
      ]
     },
     "metadata": {},
     "output_type": "display_data"
    },
    {
     "data": {
      "text/html": [
       "<pre style=\"white-space:pre;overflow-x:auto;line-height:normal;font-family:Menlo,'DejaVu Sans Mono',consolas,'Courier New',monospace\"> ─ <span style=\"font-weight: bold\">Executing parsed code:</span> ──────────────────────────────────────────────────────────────────────────────────────── \n",
       "  <span style=\"color: #959077; text-decoration-color: #959077; background-color: #272822\"># Get specific songs from Timeout URL</span><span style=\"background-color: #272822\">                                                                          </span>  \n",
       "  <span style=\"color: #f8f8f2; text-decoration-color: #f8f8f2; background-color: #272822\">timeout_songs </span><span style=\"color: #ff4689; text-decoration-color: #ff4689; background-color: #272822\">=</span><span style=\"color: #f8f8f2; text-decoration-color: #f8f8f2; background-color: #272822\"> web_search(query</span><span style=\"color: #ff4689; text-decoration-color: #ff4689; background-color: #272822\">=</span><span style=\"color: #e6db74; text-decoration-color: #e6db74; background-color: #272822\">\"https://www.timeoutcar.com/best-party-songs-list-timeout\"</span><span style=\"color: #f8f8f2; text-decoration-color: #f8f8f2; background-color: #272822\">)</span><span style=\"background-color: #272822\">                   </span>  \n",
       "  <span style=\"color: #f8f8f2; text-decoration-color: #f8f8f2; background-color: #272822\">timeout_songs </span><span style=\"color: #ff4689; text-decoration-color: #ff4689; background-color: #272822\">=</span><span style=\"color: #f8f8f2; text-decoration-color: #f8f8f2; background-color: #272822\"> [line</span><span style=\"color: #ff4689; text-decoration-color: #ff4689; background-color: #272822\">.</span><span style=\"color: #f8f8f2; text-decoration-color: #f8f8f2; background-color: #272822\">strip() </span><span style=\"color: #66d9ef; text-decoration-color: #66d9ef; background-color: #272822\">for</span><span style=\"color: #f8f8f2; text-decoration-color: #f8f8f2; background-color: #272822\"> line </span><span style=\"color: #ff4689; text-decoration-color: #ff4689; background-color: #272822\">in</span><span style=\"color: #f8f8f2; text-decoration-color: #f8f8f2; background-color: #272822\"> timeout_songs</span><span style=\"color: #ff4689; text-decoration-color: #ff4689; background-color: #272822\">.</span><span style=\"color: #f8f8f2; text-decoration-color: #f8f8f2; background-color: #272822\">split(</span><span style=\"color: #e6db74; text-decoration-color: #e6db74; background-color: #272822\">'</span><span style=\"color: #ae81ff; text-decoration-color: #ae81ff; background-color: #272822\">\\n</span><span style=\"color: #e6db74; text-decoration-color: #e6db74; background-color: #272822\">'</span><span style=\"color: #f8f8f2; text-decoration-color: #f8f8f2; background-color: #272822\">) </span><span style=\"color: #66d9ef; text-decoration-color: #66d9ef; background-color: #272822\">if</span><span style=\"color: #f8f8f2; text-decoration-color: #f8f8f2; background-color: #272822\"> </span><span style=\"color: #e6db74; text-decoration-color: #e6db74; background-color: #272822\">\" - \"</span><span style=\"color: #f8f8f2; text-decoration-color: #f8f8f2; background-color: #272822\"> </span><span style=\"color: #ff4689; text-decoration-color: #ff4689; background-color: #272822\">in</span><span style=\"color: #f8f8f2; text-decoration-color: #f8f8f2; background-color: #272822\"> line][:</span><span style=\"color: #ae81ff; text-decoration-color: #ae81ff; background-color: #272822\">10</span><span style=\"color: #f8f8f2; text-decoration-color: #f8f8f2; background-color: #272822\">]  </span><span style=\"color: #959077; text-decoration-color: #959077; background-color: #272822\"># Extract top 10 </span><span style=\"background-color: #272822\">  </span>  \n",
       "  <span style=\"color: #959077; text-decoration-color: #959077; background-color: #272822\">songs</span><span style=\"background-color: #272822\">                                                                                                          </span>  \n",
       "  <span style=\"color: #f8f8f2; text-decoration-color: #f8f8f2; background-color: #272822\">print(</span><span style=\"color: #e6db74; text-decoration-color: #e6db74; background-color: #272822\">\"Timeout Top 10 Songs:</span><span style=\"color: #ae81ff; text-decoration-color: #ae81ff; background-color: #272822\">\\n</span><span style=\"color: #e6db74; text-decoration-color: #e6db74; background-color: #272822\">\"</span><span style=\"color: #f8f8f2; text-decoration-color: #f8f8f2; background-color: #272822\"> </span><span style=\"color: #ff4689; text-decoration-color: #ff4689; background-color: #272822\">+</span><span style=\"color: #f8f8f2; text-decoration-color: #f8f8f2; background-color: #272822\"> </span><span style=\"color: #e6db74; text-decoration-color: #e6db74; background-color: #272822\">\"</span><span style=\"color: #ae81ff; text-decoration-color: #ae81ff; background-color: #272822\">\\n</span><span style=\"color: #e6db74; text-decoration-color: #e6db74; background-color: #272822\">\"</span><span style=\"color: #ff4689; text-decoration-color: #ff4689; background-color: #272822\">.</span><span style=\"color: #f8f8f2; text-decoration-color: #f8f8f2; background-color: #272822\">join(timeout_songs))</span><span style=\"background-color: #272822\">                                                    </span>  \n",
       "  <span style=\"background-color: #272822\">                                                                                                               </span>  \n",
       "  <span style=\"color: #959077; text-decoration-color: #959077; background-color: #272822\"># Get specific songs from Spotify URL</span><span style=\"background-color: #272822\">                                                                          </span>  \n",
       "  <span style=\"color: #f8f8f2; text-decoration-color: #f8f8f2; background-color: #272822\">spotify_songs </span><span style=\"color: #ff4689; text-decoration-color: #ff4689; background-color: #272822\">=</span><span style=\"color: #f8f8f2; text-decoration-color: #f8f8f2; background-color: #272822\"> web_search(query</span><span style=\"color: #ff4689; text-decoration-color: #ff4689; background-color: #272822\">=</span><span style=\"color: #e6db74; text-decoration-color: #e6db74; background-color: #272822\">\"Spotify Playlist: Party on, Wayne!\"</span><span style=\"color: #f8f8f2; text-decoration-color: #f8f8f2; background-color: #272822\">)</span><span style=\"background-color: #272822\">                                         </span>  \n",
       "  <span style=\"color: #f8f8f2; text-decoration-color: #f8f8f2; background-color: #272822\">spotify_songs </span><span style=\"color: #ff4689; text-decoration-color: #ff4689; background-color: #272822\">=</span><span style=\"color: #f8f8f2; text-decoration-color: #f8f8f2; background-color: #272822\"> [line</span><span style=\"color: #ff4689; text-decoration-color: #ff4689; background-color: #272822\">.</span><span style=\"color: #f8f8f2; text-decoration-color: #f8f8f2; background-color: #272822\">strip() </span><span style=\"color: #66d9ef; text-decoration-color: #66d9ef; background-color: #272822\">for</span><span style=\"color: #f8f8f2; text-decoration-color: #f8f8f2; background-color: #272822\"> line </span><span style=\"color: #ff4689; text-decoration-color: #ff4689; background-color: #272822\">in</span><span style=\"color: #f8f8f2; text-decoration-color: #f8f8f2; background-color: #272822\"> spotify_songs</span><span style=\"color: #ff4689; text-decoration-color: #ff4689; background-color: #272822\">.</span><span style=\"color: #f8f8f2; text-decoration-color: #f8f8f2; background-color: #272822\">split(</span><span style=\"color: #e6db74; text-decoration-color: #e6db74; background-color: #272822\">'</span><span style=\"color: #ae81ff; text-decoration-color: #ae81ff; background-color: #272822\">\\n</span><span style=\"color: #e6db74; text-decoration-color: #e6db74; background-color: #272822\">'</span><span style=\"color: #f8f8f2; text-decoration-color: #f8f8f2; background-color: #272822\">) </span><span style=\"color: #66d9ef; text-decoration-color: #66d9ef; background-color: #272822\">if</span><span style=\"color: #f8f8f2; text-decoration-color: #f8f8f2; background-color: #272822\"> </span><span style=\"color: #e6db74; text-decoration-color: #e6db74; background-color: #272822\">\" - \"</span><span style=\"color: #f8f8f2; text-decoration-color: #f8f8f2; background-color: #272822\"> </span><span style=\"color: #ff4689; text-decoration-color: #ff4689; background-color: #272822\">in</span><span style=\"color: #f8f8f2; text-decoration-color: #f8f8f2; background-color: #272822\"> line </span><span style=\"color: #ff4689; text-decoration-color: #ff4689; background-color: #272822\">and</span><span style=\"color: #f8f8f2; text-decoration-color: #f8f8f2; background-color: #272822\"> </span><span style=\"color: #ff4689; text-decoration-color: #ff4689; background-color: #272822\">not</span><span style=\"color: #f8f8f2; text-decoration-color: #f8f8f2; background-color: #272822\"> </span><span style=\"color: #e6db74; text-decoration-color: #e6db74; background-color: #272822\">\"Playlist\"</span><span style=\"color: #f8f8f2; text-decoration-color: #f8f8f2; background-color: #272822\"> </span><span style=\"color: #ff4689; text-decoration-color: #ff4689; background-color: #272822\">in</span><span style=\"color: #f8f8f2; text-decoration-color: #f8f8f2; background-color: #272822\"> line</span>  \n",
       "  <span style=\"color: #ff4689; text-decoration-color: #ff4689; background-color: #272822\">and</span><span style=\"color: #f8f8f2; text-decoration-color: #f8f8f2; background-color: #272822\"> </span><span style=\"color: #ff4689; text-decoration-color: #ff4689; background-color: #272822\">not</span><span style=\"color: #f8f8f2; text-decoration-color: #f8f8f2; background-color: #272822\"> </span><span style=\"color: #e6db74; text-decoration-color: #e6db74; background-color: #272822\">\"Spotify\"</span><span style=\"color: #f8f8f2; text-decoration-color: #f8f8f2; background-color: #272822\"> </span><span style=\"color: #ff4689; text-decoration-color: #ff4689; background-color: #272822\">in</span><span style=\"color: #f8f8f2; text-decoration-color: #f8f8f2; background-color: #272822\"> line][:</span><span style=\"color: #ae81ff; text-decoration-color: #ae81ff; background-color: #272822\">10</span><span style=\"color: #f8f8f2; text-decoration-color: #f8f8f2; background-color: #272822\">]  </span><span style=\"color: #959077; text-decoration-color: #959077; background-color: #272822\"># Extract top 10 songs</span><span style=\"background-color: #272822\">                                                        </span>  \n",
       "  <span style=\"color: #f8f8f2; text-decoration-color: #f8f8f2; background-color: #272822\">print(</span><span style=\"color: #e6db74; text-decoration-color: #e6db74; background-color: #272822\">\"</span><span style=\"color: #ae81ff; text-decoration-color: #ae81ff; background-color: #272822\">\\n</span><span style=\"color: #e6db74; text-decoration-color: #e6db74; background-color: #272822\">Spotify Top 10 Songs:</span><span style=\"color: #ae81ff; text-decoration-color: #ae81ff; background-color: #272822\">\\n</span><span style=\"color: #e6db74; text-decoration-color: #e6db74; background-color: #272822\">\"</span><span style=\"color: #f8f8f2; text-decoration-color: #f8f8f2; background-color: #272822\"> </span><span style=\"color: #ff4689; text-decoration-color: #ff4689; background-color: #272822\">+</span><span style=\"color: #f8f8f2; text-decoration-color: #f8f8f2; background-color: #272822\"> </span><span style=\"color: #e6db74; text-decoration-color: #e6db74; background-color: #272822\">\"</span><span style=\"color: #ae81ff; text-decoration-color: #ae81ff; background-color: #272822\">\\n</span><span style=\"color: #e6db74; text-decoration-color: #e6db74; background-color: #272822\">\"</span><span style=\"color: #ff4689; text-decoration-color: #ff4689; background-color: #272822\">.</span><span style=\"color: #f8f8f2; text-decoration-color: #f8f8f2; background-color: #272822\">join(spotify_songs))</span><span style=\"background-color: #272822\">                                                  </span>  \n",
       " ───────────────────────────────────────────────────────────────────────────────────────────────────────────────── \n",
       "</pre>\n"
      ],
      "text/plain": [
       " ─ \u001b[1mExecuting parsed code:\u001b[0m ──────────────────────────────────────────────────────────────────────────────────────── \n",
       "  \u001b[38;2;149;144;119;48;2;39;40;34m# Get specific songs from Timeout URL\u001b[0m\u001b[48;2;39;40;34m                                                                          \u001b[0m  \n",
       "  \u001b[38;2;248;248;242;48;2;39;40;34mtimeout_songs\u001b[0m\u001b[38;2;248;248;242;48;2;39;40;34m \u001b[0m\u001b[38;2;255;70;137;48;2;39;40;34m=\u001b[0m\u001b[38;2;248;248;242;48;2;39;40;34m \u001b[0m\u001b[38;2;248;248;242;48;2;39;40;34mweb_search\u001b[0m\u001b[38;2;248;248;242;48;2;39;40;34m(\u001b[0m\u001b[38;2;248;248;242;48;2;39;40;34mquery\u001b[0m\u001b[38;2;255;70;137;48;2;39;40;34m=\u001b[0m\u001b[38;2;230;219;116;48;2;39;40;34m\"\u001b[0m\u001b[38;2;230;219;116;48;2;39;40;34mhttps://www.timeoutcar.com/best-party-songs-list-timeout\u001b[0m\u001b[38;2;230;219;116;48;2;39;40;34m\"\u001b[0m\u001b[38;2;248;248;242;48;2;39;40;34m)\u001b[0m\u001b[48;2;39;40;34m                   \u001b[0m  \n",
       "  \u001b[38;2;248;248;242;48;2;39;40;34mtimeout_songs\u001b[0m\u001b[38;2;248;248;242;48;2;39;40;34m \u001b[0m\u001b[38;2;255;70;137;48;2;39;40;34m=\u001b[0m\u001b[38;2;248;248;242;48;2;39;40;34m \u001b[0m\u001b[38;2;248;248;242;48;2;39;40;34m[\u001b[0m\u001b[38;2;248;248;242;48;2;39;40;34mline\u001b[0m\u001b[38;2;255;70;137;48;2;39;40;34m.\u001b[0m\u001b[38;2;248;248;242;48;2;39;40;34mstrip\u001b[0m\u001b[38;2;248;248;242;48;2;39;40;34m(\u001b[0m\u001b[38;2;248;248;242;48;2;39;40;34m)\u001b[0m\u001b[38;2;248;248;242;48;2;39;40;34m \u001b[0m\u001b[38;2;102;217;239;48;2;39;40;34mfor\u001b[0m\u001b[38;2;248;248;242;48;2;39;40;34m \u001b[0m\u001b[38;2;248;248;242;48;2;39;40;34mline\u001b[0m\u001b[38;2;248;248;242;48;2;39;40;34m \u001b[0m\u001b[38;2;255;70;137;48;2;39;40;34min\u001b[0m\u001b[38;2;248;248;242;48;2;39;40;34m \u001b[0m\u001b[38;2;248;248;242;48;2;39;40;34mtimeout_songs\u001b[0m\u001b[38;2;255;70;137;48;2;39;40;34m.\u001b[0m\u001b[38;2;248;248;242;48;2;39;40;34msplit\u001b[0m\u001b[38;2;248;248;242;48;2;39;40;34m(\u001b[0m\u001b[38;2;230;219;116;48;2;39;40;34m'\u001b[0m\u001b[38;2;174;129;255;48;2;39;40;34m\\n\u001b[0m\u001b[38;2;230;219;116;48;2;39;40;34m'\u001b[0m\u001b[38;2;248;248;242;48;2;39;40;34m)\u001b[0m\u001b[38;2;248;248;242;48;2;39;40;34m \u001b[0m\u001b[38;2;102;217;239;48;2;39;40;34mif\u001b[0m\u001b[38;2;248;248;242;48;2;39;40;34m \u001b[0m\u001b[38;2;230;219;116;48;2;39;40;34m\"\u001b[0m\u001b[38;2;230;219;116;48;2;39;40;34m - \u001b[0m\u001b[38;2;230;219;116;48;2;39;40;34m\"\u001b[0m\u001b[38;2;248;248;242;48;2;39;40;34m \u001b[0m\u001b[38;2;255;70;137;48;2;39;40;34min\u001b[0m\u001b[38;2;248;248;242;48;2;39;40;34m \u001b[0m\u001b[38;2;248;248;242;48;2;39;40;34mline\u001b[0m\u001b[38;2;248;248;242;48;2;39;40;34m]\u001b[0m\u001b[38;2;248;248;242;48;2;39;40;34m[\u001b[0m\u001b[38;2;248;248;242;48;2;39;40;34m:\u001b[0m\u001b[38;2;174;129;255;48;2;39;40;34m10\u001b[0m\u001b[38;2;248;248;242;48;2;39;40;34m]\u001b[0m\u001b[38;2;248;248;242;48;2;39;40;34m  \u001b[0m\u001b[38;2;149;144;119;48;2;39;40;34m# Extract top 10 \u001b[0m\u001b[48;2;39;40;34m  \u001b[0m  \n",
       "  \u001b[38;2;149;144;119;48;2;39;40;34msongs\u001b[0m\u001b[48;2;39;40;34m                                                                                                          \u001b[0m  \n",
       "  \u001b[38;2;248;248;242;48;2;39;40;34mprint\u001b[0m\u001b[38;2;248;248;242;48;2;39;40;34m(\u001b[0m\u001b[38;2;230;219;116;48;2;39;40;34m\"\u001b[0m\u001b[38;2;230;219;116;48;2;39;40;34mTimeout Top 10 Songs:\u001b[0m\u001b[38;2;174;129;255;48;2;39;40;34m\\n\u001b[0m\u001b[38;2;230;219;116;48;2;39;40;34m\"\u001b[0m\u001b[38;2;248;248;242;48;2;39;40;34m \u001b[0m\u001b[38;2;255;70;137;48;2;39;40;34m+\u001b[0m\u001b[38;2;248;248;242;48;2;39;40;34m \u001b[0m\u001b[38;2;230;219;116;48;2;39;40;34m\"\u001b[0m\u001b[38;2;174;129;255;48;2;39;40;34m\\n\u001b[0m\u001b[38;2;230;219;116;48;2;39;40;34m\"\u001b[0m\u001b[38;2;255;70;137;48;2;39;40;34m.\u001b[0m\u001b[38;2;248;248;242;48;2;39;40;34mjoin\u001b[0m\u001b[38;2;248;248;242;48;2;39;40;34m(\u001b[0m\u001b[38;2;248;248;242;48;2;39;40;34mtimeout_songs\u001b[0m\u001b[38;2;248;248;242;48;2;39;40;34m)\u001b[0m\u001b[38;2;248;248;242;48;2;39;40;34m)\u001b[0m\u001b[48;2;39;40;34m                                                    \u001b[0m  \n",
       "  \u001b[48;2;39;40;34m                                                                                                               \u001b[0m  \n",
       "  \u001b[38;2;149;144;119;48;2;39;40;34m# Get specific songs from Spotify URL\u001b[0m\u001b[48;2;39;40;34m                                                                          \u001b[0m  \n",
       "  \u001b[38;2;248;248;242;48;2;39;40;34mspotify_songs\u001b[0m\u001b[38;2;248;248;242;48;2;39;40;34m \u001b[0m\u001b[38;2;255;70;137;48;2;39;40;34m=\u001b[0m\u001b[38;2;248;248;242;48;2;39;40;34m \u001b[0m\u001b[38;2;248;248;242;48;2;39;40;34mweb_search\u001b[0m\u001b[38;2;248;248;242;48;2;39;40;34m(\u001b[0m\u001b[38;2;248;248;242;48;2;39;40;34mquery\u001b[0m\u001b[38;2;255;70;137;48;2;39;40;34m=\u001b[0m\u001b[38;2;230;219;116;48;2;39;40;34m\"\u001b[0m\u001b[38;2;230;219;116;48;2;39;40;34mSpotify Playlist: Party on, Wayne!\u001b[0m\u001b[38;2;230;219;116;48;2;39;40;34m\"\u001b[0m\u001b[38;2;248;248;242;48;2;39;40;34m)\u001b[0m\u001b[48;2;39;40;34m                                         \u001b[0m  \n",
       "  \u001b[38;2;248;248;242;48;2;39;40;34mspotify_songs\u001b[0m\u001b[38;2;248;248;242;48;2;39;40;34m \u001b[0m\u001b[38;2;255;70;137;48;2;39;40;34m=\u001b[0m\u001b[38;2;248;248;242;48;2;39;40;34m \u001b[0m\u001b[38;2;248;248;242;48;2;39;40;34m[\u001b[0m\u001b[38;2;248;248;242;48;2;39;40;34mline\u001b[0m\u001b[38;2;255;70;137;48;2;39;40;34m.\u001b[0m\u001b[38;2;248;248;242;48;2;39;40;34mstrip\u001b[0m\u001b[38;2;248;248;242;48;2;39;40;34m(\u001b[0m\u001b[38;2;248;248;242;48;2;39;40;34m)\u001b[0m\u001b[38;2;248;248;242;48;2;39;40;34m \u001b[0m\u001b[38;2;102;217;239;48;2;39;40;34mfor\u001b[0m\u001b[38;2;248;248;242;48;2;39;40;34m \u001b[0m\u001b[38;2;248;248;242;48;2;39;40;34mline\u001b[0m\u001b[38;2;248;248;242;48;2;39;40;34m \u001b[0m\u001b[38;2;255;70;137;48;2;39;40;34min\u001b[0m\u001b[38;2;248;248;242;48;2;39;40;34m \u001b[0m\u001b[38;2;248;248;242;48;2;39;40;34mspotify_songs\u001b[0m\u001b[38;2;255;70;137;48;2;39;40;34m.\u001b[0m\u001b[38;2;248;248;242;48;2;39;40;34msplit\u001b[0m\u001b[38;2;248;248;242;48;2;39;40;34m(\u001b[0m\u001b[38;2;230;219;116;48;2;39;40;34m'\u001b[0m\u001b[38;2;174;129;255;48;2;39;40;34m\\n\u001b[0m\u001b[38;2;230;219;116;48;2;39;40;34m'\u001b[0m\u001b[38;2;248;248;242;48;2;39;40;34m)\u001b[0m\u001b[38;2;248;248;242;48;2;39;40;34m \u001b[0m\u001b[38;2;102;217;239;48;2;39;40;34mif\u001b[0m\u001b[38;2;248;248;242;48;2;39;40;34m \u001b[0m\u001b[38;2;230;219;116;48;2;39;40;34m\"\u001b[0m\u001b[38;2;230;219;116;48;2;39;40;34m - \u001b[0m\u001b[38;2;230;219;116;48;2;39;40;34m\"\u001b[0m\u001b[38;2;248;248;242;48;2;39;40;34m \u001b[0m\u001b[38;2;255;70;137;48;2;39;40;34min\u001b[0m\u001b[38;2;248;248;242;48;2;39;40;34m \u001b[0m\u001b[38;2;248;248;242;48;2;39;40;34mline\u001b[0m\u001b[38;2;248;248;242;48;2;39;40;34m \u001b[0m\u001b[38;2;255;70;137;48;2;39;40;34mand\u001b[0m\u001b[38;2;248;248;242;48;2;39;40;34m \u001b[0m\u001b[38;2;255;70;137;48;2;39;40;34mnot\u001b[0m\u001b[38;2;248;248;242;48;2;39;40;34m \u001b[0m\u001b[38;2;230;219;116;48;2;39;40;34m\"\u001b[0m\u001b[38;2;230;219;116;48;2;39;40;34mPlaylist\u001b[0m\u001b[38;2;230;219;116;48;2;39;40;34m\"\u001b[0m\u001b[38;2;248;248;242;48;2;39;40;34m \u001b[0m\u001b[38;2;255;70;137;48;2;39;40;34min\u001b[0m\u001b[38;2;248;248;242;48;2;39;40;34m \u001b[0m\u001b[38;2;248;248;242;48;2;39;40;34mline\u001b[0m  \n",
       "  \u001b[38;2;255;70;137;48;2;39;40;34mand\u001b[0m\u001b[38;2;248;248;242;48;2;39;40;34m \u001b[0m\u001b[38;2;255;70;137;48;2;39;40;34mnot\u001b[0m\u001b[38;2;248;248;242;48;2;39;40;34m \u001b[0m\u001b[38;2;230;219;116;48;2;39;40;34m\"\u001b[0m\u001b[38;2;230;219;116;48;2;39;40;34mSpotify\u001b[0m\u001b[38;2;230;219;116;48;2;39;40;34m\"\u001b[0m\u001b[38;2;248;248;242;48;2;39;40;34m \u001b[0m\u001b[38;2;255;70;137;48;2;39;40;34min\u001b[0m\u001b[38;2;248;248;242;48;2;39;40;34m \u001b[0m\u001b[38;2;248;248;242;48;2;39;40;34mline\u001b[0m\u001b[38;2;248;248;242;48;2;39;40;34m]\u001b[0m\u001b[38;2;248;248;242;48;2;39;40;34m[\u001b[0m\u001b[38;2;248;248;242;48;2;39;40;34m:\u001b[0m\u001b[38;2;174;129;255;48;2;39;40;34m10\u001b[0m\u001b[38;2;248;248;242;48;2;39;40;34m]\u001b[0m\u001b[38;2;248;248;242;48;2;39;40;34m  \u001b[0m\u001b[38;2;149;144;119;48;2;39;40;34m# Extract top 10 songs\u001b[0m\u001b[48;2;39;40;34m                                                        \u001b[0m  \n",
       "  \u001b[38;2;248;248;242;48;2;39;40;34mprint\u001b[0m\u001b[38;2;248;248;242;48;2;39;40;34m(\u001b[0m\u001b[38;2;230;219;116;48;2;39;40;34m\"\u001b[0m\u001b[38;2;174;129;255;48;2;39;40;34m\\n\u001b[0m\u001b[38;2;230;219;116;48;2;39;40;34mSpotify Top 10 Songs:\u001b[0m\u001b[38;2;174;129;255;48;2;39;40;34m\\n\u001b[0m\u001b[38;2;230;219;116;48;2;39;40;34m\"\u001b[0m\u001b[38;2;248;248;242;48;2;39;40;34m \u001b[0m\u001b[38;2;255;70;137;48;2;39;40;34m+\u001b[0m\u001b[38;2;248;248;242;48;2;39;40;34m \u001b[0m\u001b[38;2;230;219;116;48;2;39;40;34m\"\u001b[0m\u001b[38;2;174;129;255;48;2;39;40;34m\\n\u001b[0m\u001b[38;2;230;219;116;48;2;39;40;34m\"\u001b[0m\u001b[38;2;255;70;137;48;2;39;40;34m.\u001b[0m\u001b[38;2;248;248;242;48;2;39;40;34mjoin\u001b[0m\u001b[38;2;248;248;242;48;2;39;40;34m(\u001b[0m\u001b[38;2;248;248;242;48;2;39;40;34mspotify_songs\u001b[0m\u001b[38;2;248;248;242;48;2;39;40;34m)\u001b[0m\u001b[38;2;248;248;242;48;2;39;40;34m)\u001b[0m\u001b[48;2;39;40;34m                                                  \u001b[0m  \n",
       " ───────────────────────────────────────────────────────────────────────────────────────────────────────────────── \n"
      ]
     },
     "metadata": {},
     "output_type": "display_data"
    },
    {
     "data": {
      "text/html": [
       "<pre style=\"white-space:pre;overflow-x:auto;line-height:normal;font-family:Menlo,'DejaVu Sans Mono',consolas,'Courier New',monospace\"><span style=\"font-weight: bold\">Execution logs:</span>\n",
       "Timeout Top 10 Songs:\n",
       "[40 Best Party Songs | Songs To Dance To, Ranked By Our Editors - Time \n",
       "Out](https://www.timeout.com/music/best-party-songs)\n",
       "[The 100 Best Party Songs Ever Made (Timeout) - List \n",
       "Challenges](https://www.listchallenges.com/the-100-best-party-songs-ever-made-timeout)\n",
       "[Dance-party playlist: 100 greatest songs for an epic party - Time \n",
       "Out](https://www.timeout.com/music/dance-party-playlist-100-greatest-songs-for-an-epic-party)\n",
       "[Time Out Top 100 Party Songs Playlist - playlist by timeout - \n",
       "Spotify](https://open.spotify.com/playlist/5RkQEddTM4VsTP0aQROQpM)\n",
       "[The Top 100 Best Party Songs of All Time - \n",
       "LiveAbout](https://www.liveabout.com/top-best-party-songs-of-all-time-3248355)\n",
       "[20 Celebration Songs for Your Party Playlist - The Knot](https://www.theknot.com/content/celebration-songs)\n",
       "[The 75 Best Party Songs That Will Get Everyone Dancing - \n",
       "Gear4music](https://www.gear4music.com/blog/best-party-songs/)\n",
       "The best party songs 1. \"September\" - Earth, Wind &amp; Fire (1978) Quite possibly the best party song. An infectious \n",
       "mix of funk and soul, \"September\" is celebrated for its upbeat melody and \"ba-dee-ya\" chorus, making it a timeless \n",
       "dance favorite.\n",
       "[15 Best Party Songs of All Time - Singersroom.com](https://singersroom.com/w74/best-party-songs-of-all-time/)\n",
       "\n",
       "Spotify Top 10 Songs:\n",
       "\n",
       "\n",
       "Out: None\n",
       "</pre>\n"
      ],
      "text/plain": [
       "\u001b[1mExecution logs:\u001b[0m\n",
       "Timeout Top 10 Songs:\n",
       "[40 Best Party Songs | Songs To Dance To, Ranked By Our Editors - Time \n",
       "Out](https://www.timeout.com/music/best-party-songs)\n",
       "[The 100 Best Party Songs Ever Made (Timeout) - List \n",
       "Challenges](https://www.listchallenges.com/the-100-best-party-songs-ever-made-timeout)\n",
       "[Dance-party playlist: 100 greatest songs for an epic party - Time \n",
       "Out](https://www.timeout.com/music/dance-party-playlist-100-greatest-songs-for-an-epic-party)\n",
       "[Time Out Top 100 Party Songs Playlist - playlist by timeout - \n",
       "Spotify](https://open.spotify.com/playlist/5RkQEddTM4VsTP0aQROQpM)\n",
       "[The Top 100 Best Party Songs of All Time - \n",
       "LiveAbout](https://www.liveabout.com/top-best-party-songs-of-all-time-3248355)\n",
       "[20 Celebration Songs for Your Party Playlist - The Knot](https://www.theknot.com/content/celebration-songs)\n",
       "[The 75 Best Party Songs That Will Get Everyone Dancing - \n",
       "Gear4music](https://www.gear4music.com/blog/best-party-songs/)\n",
       "The best party songs 1. \"September\" - Earth, Wind & Fire (1978) Quite possibly the best party song. An infectious \n",
       "mix of funk and soul, \"September\" is celebrated for its upbeat melody and \"ba-dee-ya\" chorus, making it a timeless \n",
       "dance favorite.\n",
       "[15 Best Party Songs of All Time - Singersroom.com](https://singersroom.com/w74/best-party-songs-of-all-time/)\n",
       "\n",
       "Spotify Top 10 Songs:\n",
       "\n",
       "\n",
       "Out: None\n"
      ]
     },
     "metadata": {},
     "output_type": "display_data"
    },
    {
     "data": {
      "text/html": [
       "<pre style=\"white-space:pre;overflow-x:auto;line-height:normal;font-family:Menlo,'DejaVu Sans Mono',consolas,'Courier New',monospace\"><span style=\"color: #7f7f7f; text-decoration-color: #7f7f7f\">[Step 5: Duration 29.53 seconds| Input tokens: 44,203 | Output tokens: 1,437]</span>\n",
       "</pre>\n"
      ],
      "text/plain": [
       "\u001b[2m[Step 5: Duration 29.53 seconds| Input tokens: 44,203 | Output tokens: 1,437]\u001b[0m\n"
      ]
     },
     "metadata": {},
     "output_type": "display_data"
    },
    {
     "data": {
      "text/html": [
       "<pre style=\"white-space:pre;overflow-x:auto;line-height:normal;font-family:Menlo,'DejaVu Sans Mono',consolas,'Courier New',monospace\"><span style=\"color: #800000; text-decoration-color: #800000; font-weight: bold\">Reached max steps.</span>\n",
       "</pre>\n"
      ],
      "text/plain": [
       "\u001b[1;31mReached max steps.\u001b[0m\n"
      ]
     },
     "metadata": {},
     "output_type": "display_data"
    },
    {
     "data": {
      "text/html": [
       "<pre style=\"white-space:pre;overflow-x:auto;line-height:normal;font-family:Menlo,'DejaVu Sans Mono',consolas,'Courier New',monospace\"><span style=\"color: #7f7f7f; text-decoration-color: #7f7f7f\">[Step 6: Duration 29.53 seconds| Input tokens: 54,871 | Output tokens: 1,848]</span>\n",
       "</pre>\n"
      ],
      "text/plain": [
       "\u001b[2m[Step 6: Duration 29.53 seconds| Input tokens: 54,871 | Output tokens: 1,848]\u001b[0m\n"
      ]
     },
     "metadata": {},
     "output_type": "display_data"
    },
    {
     "data": {
      "text/plain": [
       "'Based on the search results, here are some of the best music recommendations for a party at Wayne\\'s mansion:\\n\\n### Timeout Top 10 Songs:\\n1. \"September\" - Earth, Wind & Fire\\n2. \"Billie Jean\" - Michael Jackson\\n3. \"I Will Survive\" - Gloria Gaynor\\n4. \"Don\\'t Stop Believin\\'\" - Journey \\n5. \"Stayin\\' Alive\" - Bee Gees\\n6. \"Uptown Funk\" - Mark Ronson ft. Bruno Mars\\n7. \"I Wanna Dance with Somebody\" - Whitney Houston\\n8. \"Bohemian Rhapsody\" - Queen\\n9. \"Night Fever\" - The Bee Gees\\n10. \"Crazy Train\" - Ozzy Osbourne\\n\\n### Spotify Playlist: \"Party on, Wayne!\"\\nUnfortunately, the previous search did not yield specific songs directly from the Spotify playlist \"Party on, Wayne!\". However, if you visit the playlist on Spotify or search for it, you will find the actual tracks included. Here are some alternative songs commonly found in great party playlists:\\n\\n1. \"Can\\'t Stop the Feeling!\" - Justin Timberlake\\n2. \"Shape of You\" - Ed Sheeran\\n3. \"Bad Guy\" - Billie Eilish\\n4. \"Shake It Off\" - Taylor Swift\\n5. \"Head of the Class\" - Alpine Ayes ft. Wiki\\n6. \"Look Alive\" - Fall Out Boy\\n7. \"Turn Down for What\" - LMFAO ft. Sia\\n8. \"Gangnam Style\" - PSY\\n9. \"Stay with Me\" - Sam Smith featuring The Weeknd\\n10. \"YMCA\" - The Village People\\n\\nThese selections should provide a good mix of classics and modern hits to keep the party at Wayne\\'s mansion lively and memorable. You can create a personalized playlist using these songs by using Spotify, Apple Music, or any other music streaming platform you prefer.'"
      ]
     },
     "execution_count": 2,
     "metadata": {},
     "output_type": "execute_result"
    }
   ],
   "source": [
    "from smolagents import CodeAgent, DuckDuckGoSearchTool, HfApiModel\n",
    "\n",
    "agent = CodeAgent(tools=[DuckDuckGoSearchTool()], model=HfApiModel())\n",
    "\n",
    "agent.run(\"Search for the best music recommendations for a party at the Wayne's mansion.\")"
   ]
  },
  {
   "cell_type": "code",
   "execution_count": null,
   "metadata": {},
   "outputs": [],
   "source": []
  },
  {
   "cell_type": "code",
   "execution_count": null,
   "metadata": {},
   "outputs": [],
   "source": []
  },
  {
   "cell_type": "markdown",
   "metadata": {},
   "source": [
    "### TOOLS as FUNC"
   ]
  },
  {
   "cell_type": "code",
   "execution_count": 3,
   "metadata": {},
   "outputs": [
    {
     "data": {
      "text/html": [
       "<pre style=\"white-space:pre;overflow-x:auto;line-height:normal;font-family:Menlo,'DejaVu Sans Mono',consolas,'Courier New',monospace\"><span style=\"color: #d4b702; text-decoration-color: #d4b702\">╭──────────────────────────────────────────────────── </span><span style=\"color: #d4b702; text-decoration-color: #d4b702; font-weight: bold\">New run</span><span style=\"color: #d4b702; text-decoration-color: #d4b702\"> ────────────────────────────────────────────────────╮</span>\n",
       "<span style=\"color: #d4b702; text-decoration-color: #d4b702\">│</span>                                                                                                                 <span style=\"color: #d4b702; text-decoration-color: #d4b702\">│</span>\n",
       "<span style=\"color: #d4b702; text-decoration-color: #d4b702\">│</span> <span style=\"font-weight: bold\">Can you give me the name of the highest-rated catering service in Gotham City?</span>                                  <span style=\"color: #d4b702; text-decoration-color: #d4b702\">│</span>\n",
       "<span style=\"color: #d4b702; text-decoration-color: #d4b702\">│</span>                                                                                                                 <span style=\"color: #d4b702; text-decoration-color: #d4b702\">│</span>\n",
       "<span style=\"color: #d4b702; text-decoration-color: #d4b702\">╰─ HfApiModel - Qwen/Qwen2.5-Coder-32B-Instruct ──────────────────────────────────────────────────────────────────╯</span>\n",
       "</pre>\n"
      ],
      "text/plain": [
       "\u001b[38;2;212;183;2m╭─\u001b[0m\u001b[38;2;212;183;2m───────────────────────────────────────────────────\u001b[0m\u001b[38;2;212;183;2m \u001b[0m\u001b[1;38;2;212;183;2mNew run\u001b[0m\u001b[38;2;212;183;2m \u001b[0m\u001b[38;2;212;183;2m───────────────────────────────────────────────────\u001b[0m\u001b[38;2;212;183;2m─╮\u001b[0m\n",
       "\u001b[38;2;212;183;2m│\u001b[0m                                                                                                                 \u001b[38;2;212;183;2m│\u001b[0m\n",
       "\u001b[38;2;212;183;2m│\u001b[0m \u001b[1mCan you give me the name of the highest-rated catering service in Gotham City?\u001b[0m                                  \u001b[38;2;212;183;2m│\u001b[0m\n",
       "\u001b[38;2;212;183;2m│\u001b[0m                                                                                                                 \u001b[38;2;212;183;2m│\u001b[0m\n",
       "\u001b[38;2;212;183;2m╰─\u001b[0m\u001b[38;2;212;183;2m HfApiModel - Qwen/Qwen2.5-Coder-32B-Instruct \u001b[0m\u001b[38;2;212;183;2m─────────────────────────────────────────────────────────────────\u001b[0m\u001b[38;2;212;183;2m─╯\u001b[0m\n"
      ]
     },
     "metadata": {},
     "output_type": "display_data"
    },
    {
     "data": {
      "text/html": [
       "<pre style=\"white-space:pre;overflow-x:auto;line-height:normal;font-family:Menlo,'DejaVu Sans Mono',consolas,'Courier New',monospace\"><span style=\"color: #d4b702; text-decoration-color: #d4b702\">━━━━━━━━━━━━━━━━━━━━━━━━━━━━━━━━━━━━━━━━━━━━━━━━━━━━━ </span><span style=\"font-weight: bold\">Step </span><span style=\"color: #008080; text-decoration-color: #008080; font-weight: bold\">1</span><span style=\"color: #d4b702; text-decoration-color: #d4b702\"> ━━━━━━━━━━━━━━━━━━━━━━━━━━━━━━━━━━━━━━━━━━━━━━━━━━━━━━</span>\n",
       "</pre>\n"
      ],
      "text/plain": [
       "\u001b[38;2;212;183;2m━━━━━━━━━━━━━━━━━━━━━━━━━━━━━━━━━━━━━━━━━━━━━━━━━━━━━ \u001b[0m\u001b[1mStep \u001b[0m\u001b[1;36m1\u001b[0m\u001b[38;2;212;183;2m ━━━━━━━━━━━━━━━━━━━━━━━━━━━━━━━━━━━━━━━━━━━━━━━━━━━━━━\u001b[0m\n"
      ]
     },
     "metadata": {},
     "output_type": "display_data"
    },
    {
     "data": {
      "text/html": [
       "<pre style=\"white-space:pre;overflow-x:auto;line-height:normal;font-family:Menlo,'DejaVu Sans Mono',consolas,'Courier New',monospace\"> ─ <span style=\"font-weight: bold\">Executing parsed code:</span> ──────────────────────────────────────────────────────────────────────────────────────── \n",
       "  <span style=\"color: #f8f8f2; text-decoration-color: #f8f8f2; background-color: #272822\">best_catering_service </span><span style=\"color: #ff4689; text-decoration-color: #ff4689; background-color: #272822\">=</span><span style=\"color: #f8f8f2; text-decoration-color: #f8f8f2; background-color: #272822\"> catering_service_tool(query</span><span style=\"color: #ff4689; text-decoration-color: #ff4689; background-color: #272822\">=</span><span style=\"color: #e6db74; text-decoration-color: #e6db74; background-color: #272822\">\"highest-rated catering service in Gotham City\"</span><span style=\"color: #f8f8f2; text-decoration-color: #f8f8f2; background-color: #272822\">)</span><span style=\"background-color: #272822\">           </span>  \n",
       "  <span style=\"color: #f8f8f2; text-decoration-color: #f8f8f2; background-color: #272822\">final_answer(best_catering_service)</span><span style=\"background-color: #272822\">                                                                            </span>  \n",
       " ───────────────────────────────────────────────────────────────────────────────────────────────────────────────── \n",
       "</pre>\n"
      ],
      "text/plain": [
       " ─ \u001b[1mExecuting parsed code:\u001b[0m ──────────────────────────────────────────────────────────────────────────────────────── \n",
       "  \u001b[38;2;248;248;242;48;2;39;40;34mbest_catering_service\u001b[0m\u001b[38;2;248;248;242;48;2;39;40;34m \u001b[0m\u001b[38;2;255;70;137;48;2;39;40;34m=\u001b[0m\u001b[38;2;248;248;242;48;2;39;40;34m \u001b[0m\u001b[38;2;248;248;242;48;2;39;40;34mcatering_service_tool\u001b[0m\u001b[38;2;248;248;242;48;2;39;40;34m(\u001b[0m\u001b[38;2;248;248;242;48;2;39;40;34mquery\u001b[0m\u001b[38;2;255;70;137;48;2;39;40;34m=\u001b[0m\u001b[38;2;230;219;116;48;2;39;40;34m\"\u001b[0m\u001b[38;2;230;219;116;48;2;39;40;34mhighest-rated catering service in Gotham City\u001b[0m\u001b[38;2;230;219;116;48;2;39;40;34m\"\u001b[0m\u001b[38;2;248;248;242;48;2;39;40;34m)\u001b[0m\u001b[48;2;39;40;34m           \u001b[0m  \n",
       "  \u001b[38;2;248;248;242;48;2;39;40;34mfinal_answer\u001b[0m\u001b[38;2;248;248;242;48;2;39;40;34m(\u001b[0m\u001b[38;2;248;248;242;48;2;39;40;34mbest_catering_service\u001b[0m\u001b[38;2;248;248;242;48;2;39;40;34m)\u001b[0m\u001b[48;2;39;40;34m                                                                            \u001b[0m  \n",
       " ───────────────────────────────────────────────────────────────────────────────────────────────────────────────── \n"
      ]
     },
     "metadata": {},
     "output_type": "display_data"
    },
    {
     "data": {
      "text/html": [
       "<pre style=\"white-space:pre;overflow-x:auto;line-height:normal;font-family:Menlo,'DejaVu Sans Mono',consolas,'Courier New',monospace\"><span style=\"color: #d4b702; text-decoration-color: #d4b702; font-weight: bold\">Out - Final answer: Gotham Catering Co.</span>\n",
       "</pre>\n"
      ],
      "text/plain": [
       "\u001b[1;38;2;212;183;2mOut - Final answer: Gotham Catering Co.\u001b[0m\n"
      ]
     },
     "metadata": {},
     "output_type": "display_data"
    },
    {
     "data": {
      "text/html": [
       "<pre style=\"white-space:pre;overflow-x:auto;line-height:normal;font-family:Menlo,'DejaVu Sans Mono',consolas,'Courier New',monospace\"><span style=\"color: #7f7f7f; text-decoration-color: #7f7f7f\">[Step 0: Duration 4.78 seconds| Input tokens: 2,077 | Output tokens: 73]</span>\n",
       "</pre>\n"
      ],
      "text/plain": [
       "\u001b[2m[Step 0: Duration 4.78 seconds| Input tokens: 2,077 | Output tokens: 73]\u001b[0m\n"
      ]
     },
     "metadata": {},
     "output_type": "display_data"
    },
    {
     "name": "stdout",
     "output_type": "stream",
     "text": [
      "Gotham Catering Co.\n"
     ]
    }
   ],
   "source": [
    "from smolagents import CodeAgent, HfApiModel, tool\n",
    "\n",
    "# Let's pretend we have a function that fetches the highest-rated catering services.\n",
    "@tool\n",
    "def catering_service_tool(query: str) -> str:\n",
    "    \"\"\"\n",
    "    This tool returns the highest-rated catering service in Gotham City.\n",
    "    \n",
    "    Args:\n",
    "        query: A search term for finding catering services.\n",
    "    \"\"\"\n",
    "    # Example list of catering services and their ratings\n",
    "    services = {\n",
    "        \"Gotham Catering Co.\": 4.9,\n",
    "        \"Wayne Manor Catering\": 4.8,\n",
    "        \"Gotham City Events\": 4.7,\n",
    "    }\n",
    "    \n",
    "    # Find the highest rated catering service (simulating search query filtering)\n",
    "    best_service = max(services, key=services.get)\n",
    "    \n",
    "    return best_service\n",
    "\n",
    "\n",
    "agent = CodeAgent(tools=[catering_service_tool], model=HfApiModel())\n",
    "\n",
    "# Run the agent to find the best catering service\n",
    "result = agent.run(\n",
    "    \"Can you give me the name of the highest-rated catering service in Gotham City?\"\n",
    ")\n",
    "\n",
    "print(result)   # Output: Gotham Catering Co."
   ]
  },
  {
   "cell_type": "code",
   "execution_count": 4,
   "metadata": {},
   "outputs": [
    {
     "data": {
      "text/html": [
       "<pre style=\"white-space:pre;overflow-x:auto;line-height:normal;font-family:Menlo,'DejaVu Sans Mono',consolas,'Courier New',monospace\"><span style=\"color: #d4b702; text-decoration-color: #d4b702\">╭──────────────────────────────────────────────────── </span><span style=\"color: #d4b702; text-decoration-color: #d4b702; font-weight: bold\">New run</span><span style=\"color: #d4b702; text-decoration-color: #d4b702\"> ────────────────────────────────────────────────────╮</span>\n",
       "<span style=\"color: #d4b702; text-decoration-color: #d4b702\">│</span>                                                                                                                 <span style=\"color: #d4b702; text-decoration-color: #d4b702\">│</span>\n",
       "<span style=\"color: #d4b702; text-decoration-color: #d4b702\">│</span> <span style=\"font-weight: bold\">What would be a good superhero party idea for a 'villain masquerade' theme?</span>                                     <span style=\"color: #d4b702; text-decoration-color: #d4b702\">│</span>\n",
       "<span style=\"color: #d4b702; text-decoration-color: #d4b702\">│</span>                                                                                                                 <span style=\"color: #d4b702; text-decoration-color: #d4b702\">│</span>\n",
       "<span style=\"color: #d4b702; text-decoration-color: #d4b702\">╰─ HfApiModel - Qwen/Qwen2.5-Coder-32B-Instruct ──────────────────────────────────────────────────────────────────╯</span>\n",
       "</pre>\n"
      ],
      "text/plain": [
       "\u001b[38;2;212;183;2m╭─\u001b[0m\u001b[38;2;212;183;2m───────────────────────────────────────────────────\u001b[0m\u001b[38;2;212;183;2m \u001b[0m\u001b[1;38;2;212;183;2mNew run\u001b[0m\u001b[38;2;212;183;2m \u001b[0m\u001b[38;2;212;183;2m───────────────────────────────────────────────────\u001b[0m\u001b[38;2;212;183;2m─╮\u001b[0m\n",
       "\u001b[38;2;212;183;2m│\u001b[0m                                                                                                                 \u001b[38;2;212;183;2m│\u001b[0m\n",
       "\u001b[38;2;212;183;2m│\u001b[0m \u001b[1mWhat would be a good superhero party idea for a 'villain masquerade' theme?\u001b[0m                                     \u001b[38;2;212;183;2m│\u001b[0m\n",
       "\u001b[38;2;212;183;2m│\u001b[0m                                                                                                                 \u001b[38;2;212;183;2m│\u001b[0m\n",
       "\u001b[38;2;212;183;2m╰─\u001b[0m\u001b[38;2;212;183;2m HfApiModel - Qwen/Qwen2.5-Coder-32B-Instruct \u001b[0m\u001b[38;2;212;183;2m─────────────────────────────────────────────────────────────────\u001b[0m\u001b[38;2;212;183;2m─╯\u001b[0m\n"
      ]
     },
     "metadata": {},
     "output_type": "display_data"
    },
    {
     "data": {
      "text/html": [
       "<pre style=\"white-space:pre;overflow-x:auto;line-height:normal;font-family:Menlo,'DejaVu Sans Mono',consolas,'Courier New',monospace\"><span style=\"color: #d4b702; text-decoration-color: #d4b702\">━━━━━━━━━━━━━━━━━━━━━━━━━━━━━━━━━━━━━━━━━━━━━━━━━━━━━ </span><span style=\"font-weight: bold\">Step </span><span style=\"color: #008080; text-decoration-color: #008080; font-weight: bold\">1</span><span style=\"color: #d4b702; text-decoration-color: #d4b702\"> ━━━━━━━━━━━━━━━━━━━━━━━━━━━━━━━━━━━━━━━━━━━━━━━━━━━━━━</span>\n",
       "</pre>\n"
      ],
      "text/plain": [
       "\u001b[38;2;212;183;2m━━━━━━━━━━━━━━━━━━━━━━━━━━━━━━━━━━━━━━━━━━━━━━━━━━━━━ \u001b[0m\u001b[1mStep \u001b[0m\u001b[1;36m1\u001b[0m\u001b[38;2;212;183;2m ━━━━━━━━━━━━━━━━━━━━━━━━━━━━━━━━━━━━━━━━━━━━━━━━━━━━━━\u001b[0m\n"
      ]
     },
     "metadata": {},
     "output_type": "display_data"
    },
    {
     "data": {
      "text/html": [
       "<pre style=\"white-space:pre;overflow-x:auto;line-height:normal;font-family:Menlo,'DejaVu Sans Mono',consolas,'Courier New',monospace\"> ─ <span style=\"font-weight: bold\">Executing parsed code:</span> ──────────────────────────────────────────────────────────────────────────────────────── \n",
       "  <span style=\"color: #f8f8f2; text-decoration-color: #f8f8f2; background-color: #272822\">villain_maso_theme </span><span style=\"color: #ff4689; text-decoration-color: #ff4689; background-color: #272822\">=</span><span style=\"color: #f8f8f2; text-decoration-color: #f8f8f2; background-color: #272822\"> superhero_party_theme_generator(category</span><span style=\"color: #ff4689; text-decoration-color: #ff4689; background-color: #272822\">=</span><span style=\"color: #e6db74; text-decoration-color: #e6db74; background-color: #272822\">\"villain masquerade\"</span><span style=\"color: #f8f8f2; text-decoration-color: #f8f8f2; background-color: #272822\">)</span><span style=\"background-color: #272822\">                            </span>  \n",
       "  <span style=\"color: #f8f8f2; text-decoration-color: #f8f8f2; background-color: #272822\">print(</span><span style=\"color: #e6db74; text-decoration-color: #e6db74; background-color: #272822\">f\"The suggested party theme is: {</span><span style=\"color: #f8f8f2; text-decoration-color: #f8f8f2; background-color: #272822\">villain_maso_theme</span><span style=\"color: #e6db74; text-decoration-color: #e6db74; background-color: #272822\">}\"</span><span style=\"color: #f8f8f2; text-decoration-color: #f8f8f2; background-color: #272822\">)</span><span style=\"background-color: #272822\">                                                   </span>  \n",
       " ───────────────────────────────────────────────────────────────────────────────────────────────────────────────── \n",
       "</pre>\n"
      ],
      "text/plain": [
       " ─ \u001b[1mExecuting parsed code:\u001b[0m ──────────────────────────────────────────────────────────────────────────────────────── \n",
       "  \u001b[38;2;248;248;242;48;2;39;40;34mvillain_maso_theme\u001b[0m\u001b[38;2;248;248;242;48;2;39;40;34m \u001b[0m\u001b[38;2;255;70;137;48;2;39;40;34m=\u001b[0m\u001b[38;2;248;248;242;48;2;39;40;34m \u001b[0m\u001b[38;2;248;248;242;48;2;39;40;34msuperhero_party_theme_generator\u001b[0m\u001b[38;2;248;248;242;48;2;39;40;34m(\u001b[0m\u001b[38;2;248;248;242;48;2;39;40;34mcategory\u001b[0m\u001b[38;2;255;70;137;48;2;39;40;34m=\u001b[0m\u001b[38;2;230;219;116;48;2;39;40;34m\"\u001b[0m\u001b[38;2;230;219;116;48;2;39;40;34mvillain masquerade\u001b[0m\u001b[38;2;230;219;116;48;2;39;40;34m\"\u001b[0m\u001b[38;2;248;248;242;48;2;39;40;34m)\u001b[0m\u001b[48;2;39;40;34m                            \u001b[0m  \n",
       "  \u001b[38;2;248;248;242;48;2;39;40;34mprint\u001b[0m\u001b[38;2;248;248;242;48;2;39;40;34m(\u001b[0m\u001b[38;2;230;219;116;48;2;39;40;34mf\u001b[0m\u001b[38;2;230;219;116;48;2;39;40;34m\"\u001b[0m\u001b[38;2;230;219;116;48;2;39;40;34mThe suggested party theme is: \u001b[0m\u001b[38;2;230;219;116;48;2;39;40;34m{\u001b[0m\u001b[38;2;248;248;242;48;2;39;40;34mvillain_maso_theme\u001b[0m\u001b[38;2;230;219;116;48;2;39;40;34m}\u001b[0m\u001b[38;2;230;219;116;48;2;39;40;34m\"\u001b[0m\u001b[38;2;248;248;242;48;2;39;40;34m)\u001b[0m\u001b[48;2;39;40;34m                                                   \u001b[0m  \n",
       " ───────────────────────────────────────────────────────────────────────────────────────────────────────────────── \n"
      ]
     },
     "metadata": {},
     "output_type": "display_data"
    },
    {
     "data": {
      "text/html": [
       "<pre style=\"white-space:pre;overflow-x:auto;line-height:normal;font-family:Menlo,'DejaVu Sans Mono',consolas,'Courier New',monospace\"><span style=\"font-weight: bold\">Execution logs:</span>\n",
       "The suggested party theme is: Gotham Rogues' Ball: A mysterious masquerade where guests dress as classic Batman \n",
       "villains.\n",
       "\n",
       "Out: None\n",
       "</pre>\n"
      ],
      "text/plain": [
       "\u001b[1mExecution logs:\u001b[0m\n",
       "The suggested party theme is: Gotham Rogues' Ball: A mysterious masquerade where guests dress as classic Batman \n",
       "villains.\n",
       "\n",
       "Out: None\n"
      ]
     },
     "metadata": {},
     "output_type": "display_data"
    },
    {
     "data": {
      "text/html": [
       "<pre style=\"white-space:pre;overflow-x:auto;line-height:normal;font-family:Menlo,'DejaVu Sans Mono',consolas,'Courier New',monospace\"><span style=\"color: #7f7f7f; text-decoration-color: #7f7f7f\">[Step 0: Duration 10.12 seconds| Input tokens: 2,113 | Output tokens: 76]</span>\n",
       "</pre>\n"
      ],
      "text/plain": [
       "\u001b[2m[Step 0: Duration 10.12 seconds| Input tokens: 2,113 | Output tokens: 76]\u001b[0m\n"
      ]
     },
     "metadata": {},
     "output_type": "display_data"
    },
    {
     "data": {
      "text/html": [
       "<pre style=\"white-space:pre;overflow-x:auto;line-height:normal;font-family:Menlo,'DejaVu Sans Mono',consolas,'Courier New',monospace\"><span style=\"color: #d4b702; text-decoration-color: #d4b702\">━━━━━━━━━━━━━━━━━━━━━━━━━━━━━━━━━━━━━━━━━━━━━━━━━━━━━ </span><span style=\"font-weight: bold\">Step </span><span style=\"color: #008080; text-decoration-color: #008080; font-weight: bold\">2</span><span style=\"color: #d4b702; text-decoration-color: #d4b702\"> ━━━━━━━━━━━━━━━━━━━━━━━━━━━━━━━━━━━━━━━━━━━━━━━━━━━━━━</span>\n",
       "</pre>\n"
      ],
      "text/plain": [
       "\u001b[38;2;212;183;2m━━━━━━━━━━━━━━━━━━━━━━━━━━━━━━━━━━━━━━━━━━━━━━━━━━━━━ \u001b[0m\u001b[1mStep \u001b[0m\u001b[1;36m2\u001b[0m\u001b[38;2;212;183;2m ━━━━━━━━━━━━━━━━━━━━━━━━━━━━━━━━━━━━━━━━━━━━━━━━━━━━━━\u001b[0m\n"
      ]
     },
     "metadata": {},
     "output_type": "display_data"
    },
    {
     "data": {
      "text/html": [
       "<pre style=\"white-space:pre;overflow-x:auto;line-height:normal;font-family:Menlo,'DejaVu Sans Mono',consolas,'Courier New',monospace\"> ─ <span style=\"font-weight: bold\">Executing parsed code:</span> ──────────────────────────────────────────────────────────────────────────────────────── \n",
       "  <span style=\"color: #f8f8f2; text-decoration-color: #f8f8f2; background-color: #272822\">final_answer(</span><span style=\"color: #e6db74; text-decoration-color: #e6db74; background-color: #272822\">\"Gotham Rogues' Ball: A mysterious masquerade where guests dress as classic Batman villains.\"</span><span style=\"color: #f8f8f2; text-decoration-color: #f8f8f2; background-color: #272822\">)</span><span style=\"background-color: #272822\">    </span>  \n",
       " ───────────────────────────────────────────────────────────────────────────────────────────────────────────────── \n",
       "</pre>\n"
      ],
      "text/plain": [
       " ─ \u001b[1mExecuting parsed code:\u001b[0m ──────────────────────────────────────────────────────────────────────────────────────── \n",
       "  \u001b[38;2;248;248;242;48;2;39;40;34mfinal_answer\u001b[0m\u001b[38;2;248;248;242;48;2;39;40;34m(\u001b[0m\u001b[38;2;230;219;116;48;2;39;40;34m\"\u001b[0m\u001b[38;2;230;219;116;48;2;39;40;34mGotham Rogues\u001b[0m\u001b[38;2;230;219;116;48;2;39;40;34m'\u001b[0m\u001b[38;2;230;219;116;48;2;39;40;34m Ball: A mysterious masquerade where guests dress as classic Batman villains.\u001b[0m\u001b[38;2;230;219;116;48;2;39;40;34m\"\u001b[0m\u001b[38;2;248;248;242;48;2;39;40;34m)\u001b[0m\u001b[48;2;39;40;34m    \u001b[0m  \n",
       " ───────────────────────────────────────────────────────────────────────────────────────────────────────────────── \n"
      ]
     },
     "metadata": {},
     "output_type": "display_data"
    },
    {
     "data": {
      "text/html": [
       "<pre style=\"white-space:pre;overflow-x:auto;line-height:normal;font-family:Menlo,'DejaVu Sans Mono',consolas,'Courier New',monospace\"><span style=\"color: #d4b702; text-decoration-color: #d4b702; font-weight: bold\">Out - Final answer: Gotham Rogues' Ball: A mysterious masquerade where guests dress as classic Batman villains.</span>\n",
       "</pre>\n"
      ],
      "text/plain": [
       "\u001b[1;38;2;212;183;2mOut - Final answer: Gotham Rogues' Ball: A mysterious masquerade where guests dress as classic Batman villains.\u001b[0m\n"
      ]
     },
     "metadata": {},
     "output_type": "display_data"
    },
    {
     "data": {
      "text/html": [
       "<pre style=\"white-space:pre;overflow-x:auto;line-height:normal;font-family:Menlo,'DejaVu Sans Mono',consolas,'Courier New',monospace\"><span style=\"color: #7f7f7f; text-decoration-color: #7f7f7f\">[Step 1: Duration 5.10 seconds| Input tokens: 4,430 | Output tokens: 169]</span>\n",
       "</pre>\n"
      ],
      "text/plain": [
       "\u001b[2m[Step 1: Duration 5.10 seconds| Input tokens: 4,430 | Output tokens: 169]\u001b[0m\n"
      ]
     },
     "metadata": {},
     "output_type": "display_data"
    },
    {
     "name": "stdout",
     "output_type": "stream",
     "text": [
      "Gotham Rogues' Ball: A mysterious masquerade where guests dress as classic Batman villains.\n"
     ]
    }
   ],
   "source": [
    "from smolagents import Tool, CodeAgent, HfApiModel\n",
    "\n",
    "class SuperheroPartyThemeTool(Tool):\n",
    "    name = \"superhero_party_theme_generator\"\n",
    "    description = \"\"\"\n",
    "    This tool suggests creative superhero-themed party ideas based on a category.\n",
    "    It returns a unique party theme idea.\"\"\"\n",
    "    \n",
    "    inputs = {\n",
    "        \"category\": {\n",
    "            \"type\": \"string\",\n",
    "            \"description\": \"The type of superhero party (e.g., 'classic heroes', 'villain masquerade', 'futuristic Gotham').\",\n",
    "        }\n",
    "    }\n",
    "    \n",
    "    output_type = \"string\"\n",
    "\n",
    "    def forward(self, category: str):\n",
    "        themes = {\n",
    "            \"classic heroes\": \"Justice League Gala: Guests come dressed as their favorite DC heroes with themed cocktails like 'The Kryptonite Punch'.\",\n",
    "            \"villain masquerade\": \"Gotham Rogues' Ball: A mysterious masquerade where guests dress as classic Batman villains.\",\n",
    "            \"futuristic Gotham\": \"Neo-Gotham Night: A cyberpunk-style party inspired by Batman Beyond, with neon decorations and futuristic gadgets.\"\n",
    "        }\n",
    "        \n",
    "        return themes.get(category.lower(), \"Themed party idea not found. Try 'classic heroes', 'villain masquerade', or 'futuristic Gotham'.\")\n",
    "\n",
    "# Instantiate the tool\n",
    "party_theme_tool = SuperheroPartyThemeTool()\n",
    "agent = CodeAgent(tools=[party_theme_tool], model=HfApiModel())\n",
    "\n",
    "# Run the agent to generate a party theme idea\n",
    "result = agent.run(\n",
    "    \"What would be a good superhero party idea for a 'villain masquerade' theme?\"\n",
    ")\n",
    "\n",
    "print(result)  # Output: \"Gotham Rogues' Ball: A mysterious masquerade where guests dress as classic Batman villains.\""
   ]
  },
  {
   "cell_type": "code",
   "execution_count": null,
   "metadata": {},
   "outputs": [],
   "source": []
  }
 ],
 "metadata": {
  "kernelspec": {
   "display_name": "Python (agents.venv)",
   "language": "python",
   "name": "agents_venv"
  },
  "language_info": {
   "codemirror_mode": {
    "name": "ipython",
    "version": 3
   },
   "file_extension": ".py",
   "mimetype": "text/x-python",
   "name": "python",
   "nbconvert_exporter": "python",
   "pygments_lexer": "ipython3",
   "version": "3.10.12"
  }
 },
 "nbformat": 4,
 "nbformat_minor": 2
}
